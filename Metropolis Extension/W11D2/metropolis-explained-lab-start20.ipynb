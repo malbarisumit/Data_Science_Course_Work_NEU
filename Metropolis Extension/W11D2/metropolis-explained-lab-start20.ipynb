{
 "cells": [
  {
   "cell_type": "markdown",
   "metadata": {},
   "source": [
    "<div style=\"text-align: right\">INFO 6105 Data Science Eng Methods and Tools, Lecture 11 Day 2</div>\n",
    "<div style=\"text-align: right\">Dino Konstantopoulos, 19 November 2020</div>\n",
    "\n",
    "# Metropolis lab\n",
    "\n",
    "Last lecture we studied the [Metropolis algorithm](https://en.wikipedia.org/wiki/Metropolis%E2%80%93Hastings_algorithm) and used it to model some data we generated. We looked at the histogram of the data, decided to model it with a gaussian pdf, then used the Metropolis algorithm to \"*predict*\" the value of $\\mu$. \n",
    "\n",
    "So what we're going to do today is to divide you in groups and ask you to do the same thing, but to predict/estimate the **standard deviation** instead!\n",
    "\n",
    "Read the formulas and the code, and fill-in the ellipses (`...`)!"
   ]
  },
  {
   "cell_type": "code",
   "execution_count": 1,
   "metadata": {},
   "outputs": [],
   "source": [
    "import numpy as np\n",
    "import scipy\n",
    "import scipy.stats\n",
    "import matplotlib as mpl   \n",
    "import matplotlib.pyplot as plt\n",
    "%matplotlib inline"
   ]
  },
  {
   "cell_type": "markdown",
   "metadata": {},
   "source": [
    "## Step 1: Data generation\n",
    "\n",
    "We generate 30,000 samples from a normal distribution with $\\mu$ = 10, and $\\sigma$= 3, time time. \n",
    "\n",
    "But let's say we can only observe 1000 of them. \n",
    "\n",
    "Our goal: Use Bayesian estimation to build a **model** from the 1000 observations, then use the model to reconstruct (a simulation of) the 30,000 samples.\n",
    "\n",
    "Let's start by plotting the histogram of these \"*observed*\" 1000 datapoints."
   ]
  },
  {
   "cell_type": "code",
   "execution_count": null,
   "metadata": {},
   "outputs": [],
   "source": [
    "model=lambda mu, sig, t: np.random.normal(mu, sig, t)\n",
    "\n",
    "# fill in the ...!\n",
    "#Form a population of 30,000 individuals, with average=10 and sigma=3\n",
    "population = model(...)\n",
    "\n",
    "#Assume we are only able to observe 1,000 of these individuals, sampled randomly amongst the 30000.\n",
    "observation = population[np.random.randint(...)]\n",
    "\n",
    "# Compute the histogram of these 1,000 observed individuals\n",
    "fig = plt.figure(figsize=(10,10))\n",
    "ax = fig.add_subplot(1,1,1)\n",
    "ax.hist( observation,bins=35 ,)\n",
    "ax.set_xlabel(\"Value\")\n",
    "ax.set_ylabel(\"Frequency\")\n",
    "ax.set_title(\"Figure 1: Distribution of 1000 observations sampled from a population of 30,000 with $\\mu$=10, $\\sigma$=3\")\n",
    "\n",
    "# fill in the ...!\n",
    "#What is the inferred mu and sigma from these 1,000 observations?\n",
    "mu_obs=...\n",
    "sig_obs=...\n",
    "mu_obs, sig_obs"
   ]
  },
  {
   "cell_type": "markdown",
   "metadata": {},
   "source": [
    "## Step 2: Which parameter to model\n",
    "\n",
    "Our model parameter vector $\\theta$ is made up of two values: $[\\mu,\\sigma]$. Let's assume  $\\mu$ is a constant, $\\mu = \\mu_{obs}$.\n",
    "\n",
    "We don't know *how sure* we should be of the 1000-deduced value above `sig_obs` for the standard deviation.\n",
    "\n",
    "<br />\n",
    "<left>\n",
    "<img src=\"ipynb.images/suspicious2.png \" width=200 />\n",
    "</left> \n",
    "\n",
    "We would like to find a distribution for $\\sigma_{obs}$ using the 1000 observed samples. \n",
    "\n",
    "Some of you may say, \"but, professor, *there is a formula for computing the standard deviation* $\\sigma$, and we used it above\".\n",
    "\n",
    "Actually, ***all of you need to know how to compute standard deviation from $n$ observations $d_i$ with mean $\\mu$***:\n",
    "\n",
    "$$\\sigma=\\sqrt{\\frac{1}{n}\\sum_i^n(d_i-\\mu)^2}$$\n",
    "\n",
    "Note however, that this only makes sense for a single-hump distribution, and that we are not trying to find *a* value for $\\sigma$, but rather, we are trying to compute a distribution of all possible values of $\\sigma$.\n",
    "\n",
    "## Step 3: Define the pdf for the prior and pdf for the likelihood\n",
    "\n",
    "From the figure above, we can see that the data is **normally distributed**. The mean can be easily computed by taking the average of the values of the 1000 samples. By doing that, we get for example $\\mu_{obs}=9.8$.\n",
    "\n",
    "To predict the standard deviation, we need to model it with a pdf, let's pick a simple one: Why, the normal distribution $f$ of course!\n",
    "<br />\n",
    "<left>\n",
    "<img src=\"ipynb.images/inspector-gadget.jpg\" width=200 />\n",
    "</left> \n",
    "\n",
    "\\begin{equation} \\sigma_{new} = f \\sim N(\\mu=\\sigma_{current},\\; \\sigma'=1) \\end{equation}\n",
    "\n",
    "Note that $\\sigma'$ is unrelated to $\\sigma_{new}$ and $\\sigma_{current}$. It simply specifies the standard deviation of our parameter space. It can be any value desired. It only affects the convergence time of the algorithm.\n",
    "\n",
    "Also, note that we are modeling the standard deviation using the *mean* of a normal distribution..\n",
    "<br />\n",
    "<left>\n",
    "<img src=\"ipynb.images/oopsie-smiley2.png\" width=200 />\n",
    "</left> \n",
    "\n",
    "We don't have any preferences values that $\\sigma_{new}$ and $\\sigma_{current}$ can take, but they should be positive! Why? Intuitively, the standard deviation measures **dispersion**. Dispersion is a distance, and distances cannot be negative.\n",
    "\n",
    "Mathematically, $\\sigma=\\sqrt{\\dfrac{1}{n}\\sum_i^n(d_i-\\mu)^2}$, and the square root of a number cannot be negative. We should strictly enforce this in the prior.\n",
    "\n",
    "Our likelihood $f$ is the following pdf, for each data point $d_i$ in the data D:\n",
    "\n",
    "\\begin{equation} f(d_i\\;|\\; \\mu,\\sigma^2) = \\dfrac{1}{\\sqrt{2\\pi\\sigma^2}}e^{-\\dfrac{(d_i-\\mu)^2}{2\\sigma^2}} \\end{equation}\n",
    "\n",
    "## Step 4: Define when we accept or reject $\\sigma_{new}$: \n",
    "Our Metropolis algorithm says that we accept a new guess $\\sigma_{new}$ from the old position $\\sigma_{current}$ if:\n",
    "\n",
    "$\\dfrac{\\text{Likelihood}(D \\;|\\; \\mu_{obs},\\sigma_{new})\\; * \\; \\text{prior}(\\mu_{obs},\\sigma_{new})}{\\text{Likelihood}(D\\;|\\;\\mu_{obs},\\sigma_{current})\\;*\\;\\text{prior}(\\mu_{obs},\\sigma_{current})} \\;\\;>\\;\\; 1     \\quad \\quad \\quad \\quad \\quad      (1)$\n",
    "\n",
    "However, if this ratio is smaller or equal to 1, then we compare it to a uniformly generated random number in the closed set [0,1] (the amount by which our boyfriend/girlfriend's dinner is *better* than ours ;-).\n",
    "\n",
    "<br />\n",
    "<left>\n",
    "<img src=\"ipynb.images/wicked.png\" width=200 />\n",
    "</left> \n",
    "\n",
    "If the ratio is larger than the random number, we accept $\\sigma_{new}$, otherwise we reject it.\n",
    "\n",
    "*Note: Since we will be computing this ratio to decide which parameters should be accepted, make sure that the adopted likelihood is proportional to the posterior itself, $P(\\sigma\\;|\\; D,\\mu)$, which in our case is true.*\n",
    "\n",
    "\n",
    "## Step 5: Acceptance condition derivation:\n",
    "\n",
    "The total likelihood for a set of observations $D$ is: $\\text{Likelihood}(D\\;|\\;\\mu_{obs},\\sigma_{new}) = \\prod_i^n f(d_i\\;|\\;\\mu_{obs},\\sigma_{new}) $\n",
    "\n",
    "This is the product of all our data points. Just like if I asked you what is the likelihood I will draw *four* heads in a row if I flip a coin, you would say it's $\\prod_i^n f$ with $f = 0.5$, so $0.5 * 0.5 * 0.5 * 0.5$.\n",
    "\n",
    "In our case, we will **log** both the prior and the likelihood function. Why log? Simply because it helps with \n",
    "**numerical stability**, i.e. multiplying thousands of small values (probabilities, likelihoods, etc..) can cause an **underflow** in  system memory (like it did in our previous notebook where we had 0s for our total likelihood), and the **log** is a perfect solution because it transforms multiplications to **additions** and small positive numbers into not-so-small negative numbers.\n",
    "\n",
    "Therefore our acceptance condition from equation $(1)$ above:\n",
    "Accept $\\sigma_{new}$ if:\n",
    "\n",
    "$$\\text{Likelihood}(D\\;|\\;\\mu_{obs},\\sigma_{new}) * \\text{prior}(\\mu_{obs},\\sigma_{new})) > \\\\ \\text{Likelihood}(D\\;|\\:\\mu_{obs},\\sigma_{current}) *  \\text{prior}(\\mu_{obs},\\sigma_{current}))$$\n",
    "\n",
    "After taking the **log** of equation (1), since **log** is a [monotonic](https://en.wikipedia.org/wiki/Monotonic_function) function:\n",
    "\n",
    "$$Log(\\text{Likelihood}(D\\;|\\;\\mu_{obs},\\sigma_{new}) * \\text{prior}(\\mu_{obs},\\sigma_{new}))) > \\\\ Log(\\text{Likelihood}(D\\;|\\:\\mu_{obs},\\sigma_{current}) *  \\text{prior}(\\mu_{obs},\\sigma_{current})))$$\n",
    "\n",
    "Also, since $Log(a * b) = Log(a) + Log(b)$, our condition becomes:\n",
    "\n",
    "$$Log(\\text{Likelihood}(D\\;|\\;\\mu_{obs},\\sigma_{new})) + Log(\\text{prior}(\\mu_{obs},\\sigma_{new})) - (Log(\\text{Likelihood}(D\\;|\\:\\mu_{obs},\\sigma_{current})) + Log(prior(\\mu_{obs},\\sigma_{current})))\\;>\\;0$$\n",
    "\n",
    "By plugging in $\\text{Likelihood}(D\\;|\\;\\mu_{obs},\\sigma_{new}) = \\prod_i^n f(d_i\\;|\\;\\mu_{obs},\\sigma_{new}) $, our condition becomes:\n",
    "\n",
    " $$\\sum_i^nLog(f(d_i\\;|\\;\\mu_{obs},\\sigma_{new})) + Log(\\text{prior}(\\mu_{obs},\\sigma_{new})) - \\sum_i^nLog(f(d_i\\;|\\;\\mu_{obs},\\sigma_{current}))-Log(\\text{prior}(\\mu_{obs},\\sigma_{current}))>0$$\n",
    " \n",
    " $\\quad$\n",
    " \n",
    " \n",
    "By plugging in \\begin{equation} f(d_i\\;|\\; \\mu,\\sigma^2) = \\dfrac{1}{\\sqrt{2\\pi\\sigma^2}}e^{-\\dfrac{(d_i-\\mu)^2}{2\\sigma^2}} \\end{equation}\n",
    "\n",
    "Our condition becomes: \n",
    "  \n",
    "$$\\sum_i^n -Log(\\sigma_{new}\\sqrt{2\\pi})-\\dfrac{(d_i-\\mu_{obs})^2}{2\\sigma_{new}^2} \\;\\;+\\;\\; Log(prior(\\mu_{obs},\\sigma_{new})) \\quad > \\\\\n",
    "\\quad \\sum_i^n -Log(\\sigma_{current}\\sqrt{2\\pi})-\\dfrac{(d_i-\\mu_{obs})^2}{2\\sigma_{current}^2} \\;\\;+\\;\\; Log(prior(\\mu_{obs},\\sigma_{current})) \\quad \\quad  (2)$$\n",
    "\n",
    "So (2) will be our acceptance condition:\n",
    "- If true, we will always accept $\\sigma_{new}$ as our next value in the chain\n",
    "- If false, ***we will only accept it accroding to a probability equal to the ratio of the nominators*** (like in the lecture notebook).\n",
    "\n",
    "So let's write some code:"
   ]
  },
  {
   "cell_type": "code",
   "execution_count": 3,
   "metadata": {},
   "outputs": [],
   "source": [
    "#The tranistion model defines how to move from sigma_current to sigma_new\n",
    "transition_model = lambda x: [x[0], np.random.normal(x[1], 0.5, (1,))]\n",
    "\n",
    "def prior(x):\n",
    "    #x[0] = mu, x[1]=sigma (new or current)\n",
    "    #returns 1 for all valid values of sigma. Log(1) =0, so it does not affect the summation.\n",
    "    #returns 0 for all invalid values of sigma (<=0). Log(0)=-infinity, and Log(negative number) is undefined.\n",
    "    #It makes the new sigma infinitely unlikely.\n",
    "    if(x[1] <= 0):\n",
    "        return 0\n",
    "    return 1\n",
    "\n",
    "#Computes the likelihood of the data given a sigma (new or current) according to equation (2)\n",
    "def manual_log_like_normal(x, data):\n",
    "    #x[0]=mu, x[1]=sigma (new or current)\n",
    "    #data = the observation\n",
    "    return np.sum(-np.log(x[1] * np.sqrt(2* np.pi) )-((data-x[0])**2) / (2*x[1]**2))\n",
    "\n",
    "#Same as manual_log_like_normal(x,data), but using scipy implementation. It's pretty slow.\n",
    "def log_lik_normal(x, data):\n",
    "    #x[0]=mu, x[1]=sigma (new or current)\n",
    "    #data = the observation\n",
    "    return np.sum(np.log(scipy.stats.norm(x[0], x[1]).pdf(data)))\n",
    "\n",
    "\n",
    "#Defines whether to accept or reject the new sample\n",
    "def acceptance(x, x_new):\n",
    "    if x_new > x:\n",
    "        # we are always right!\n",
    "        return True\n",
    "    else:\n",
    "        # We'll say that our boyfriend/girlfriend is sometimes right, using a randon number generator\n",
    "        accept=np.random.uniform(0,1)\n",
    "        # Since we did a log likelihood, we need to exponentiate in order to compare to the random number\n",
    "        # less likely x_new are less likely to be accepted\n",
    "        return (accept < (np.exp(x_new - x)))\n",
    "\n",
    "\n",
    "# fill in the ...!\n",
    "def metropolis_hastings(likelihood_computer, prior, transition_model, param_init, iterations, data,acceptance_rule):\n",
    "    # likelihood_computer(x,data): returns the likelihood that these parameters generated the data\n",
    "    # transition_model(x): a function that draws a sample from a symmetric distribution and returns it\n",
    "    # param_init: a starting sample\n",
    "    # iterations: number of accepted to generated\n",
    "    # data: the data that we wish to model\n",
    "    # acceptance_rule(x,x_new): decides whether to accept or reject the new sample\n",
    "    x = param_init\n",
    "    accepted = []\n",
    "    rejected = []   \n",
    "    for i in range(iterations):\n",
    "        x_new =  transition_model(x)    \n",
    "        x_lik = likelihood_computer(x, data)\n",
    "        x_new_lik = likelihood_computer(x_new, data) \n",
    "        if ...:            \n",
    "            x = x_new\n",
    "            accepted.append(x_new)\n",
    "        else:\n",
    "            rejected.append(x_new)            \n",
    "                \n",
    "    return np.array(accepted), np.array(rejected)"
   ]
  },
  {
   "cell_type": "markdown",
   "metadata": {},
   "source": [
    "## Step 6: Run the algorithm with initial parameters and collect accepted and rejected samples from 50,000 iterations"
   ]
  },
  {
   "cell_type": "code",
   "execution_count": null,
   "metadata": {},
   "outputs": [],
   "source": [
    "accepted, rejected = metropolis_hastings(manual_log_like_normal, prior, transition_model, [mu_obs,0.1], 50000, \n",
    "                                         observation, acceptance)"
   ]
  },
  {
   "cell_type": "code",
   "execution_count": null,
   "metadata": {},
   "outputs": [],
   "source": [
    "len(accepted)"
   ]
  },
  {
   "cell_type": "code",
   "execution_count": null,
   "metadata": {},
   "outputs": [],
   "source": [
    "len(rejected)"
   ]
  },
  {
   "cell_type": "markdown",
   "metadata": {},
   "source": [
    "The algorithm accepted 8803 samples (which might be different on each new run).\n",
    "\n",
    "The last 10 samples contain the following  values for $\\sigma$:"
   ]
  },
  {
   "cell_type": "code",
   "execution_count": null,
   "metadata": {},
   "outputs": [],
   "source": [
    "accepted[-10:,1]"
   ]
  },
  {
   "cell_type": "code",
   "execution_count": null,
   "metadata": {},
   "outputs": [],
   "source": [
    "print(accepted.shape)"
   ]
  },
  {
   "cell_type": "markdown",
   "metadata": {},
   "source": [
    "Let's plot accepted and rejected values:"
   ]
  },
  {
   "cell_type": "code",
   "execution_count": null,
   "metadata": {},
   "outputs": [],
   "source": [
    "fig = plt.figure(figsize=(10,10))\n",
    "ax = fig.add_subplot(2,1,1)\n",
    "\n",
    "ax.plot( rejected[0:50,1], 'rx', label='Rejected',alpha=0.5)\n",
    "ax.plot( accepted[0:50,1], 'b.', label='Accepted',alpha=0.5)\n",
    "ax.set_xlabel(\"Iteration\")\n",
    "ax.set_ylabel(\"$\\sigma$\")\n",
    "ax.set_title(\"Figure 2: MCMC sampling for $\\sigma$ with Metropolis-Hastings. First 50 samples are shown.\")\n",
    "ax.grid()\n",
    "ax.legend()\n",
    "\n",
    "\n",
    "\n",
    "ax2 = fig.add_subplot(2,1,2)\n",
    "to_show=-accepted.shape[0]\n",
    "ax2.plot( rejected[to_show:,1], 'rx', label='Rejected',alpha=0.5)\n",
    "ax2.plot( accepted[to_show:,1], 'b.', label='Accepted',alpha=0.5)\n",
    "ax2.set_xlabel(\"Iteration\")\n",
    "ax2.set_ylabel(\"$\\sigma$\")\n",
    "ax2.set_title(\"Figure 3: MCMC sampling for $\\sigma$ with Metropolis-Hastings. All samples are shown.\")\n",
    "ax2.grid()\n",
    "ax2.legend()\n",
    "\n",
    "\n",
    "\n",
    "fig.tight_layout()\n",
    "accepted.shape"
   ]
  },
  {
   "cell_type": "markdown",
   "metadata": {},
   "source": [
    "So, starting from an initial σ of 0.1, the algorithm converged pretty quickly to the expected value of 3.\n",
    "<br />\n",
    "<left>\n",
    "<img src=\"ipynb.images/smiley-wow.png\" width=200 />\n",
    "</left> "
   ]
  },
  {
   "cell_type": "markdown",
   "metadata": {},
   "source": [
    "### We consider the initial 25% of the values of $\\sigma$ to be \"burn-in\", so we drop them."
   ]
  },
  {
   "cell_type": "code",
   "execution_count": null,
   "metadata": {},
   "outputs": [],
   "source": [
    "len(accepted) / 4"
   ]
  },
  {
   "cell_type": "code",
   "execution_count": 14,
   "metadata": {},
   "outputs": [
    {
     "data": {
      "text/plain": [
       "array([3.00912569])"
      ]
     },
     "execution_count": 14,
     "metadata": {},
     "output_type": "execute_result"
    }
   ],
   "source": [
    "# fill-in the ...\n",
    "accepted[...:,1].mean()"
   ]
  },
  {
   "cell_type": "markdown",
   "metadata": {},
   "source": [
    "### Let's visualize the trace of  $\\sigma$ and the histogram of the trace\n",
    "(this will take a few minutes).."
   ]
  },
  {
   "cell_type": "code",
   "execution_count": null,
   "metadata": {},
   "outputs": [],
   "source": [
    "show=int(-0.75*accepted.shape[0])\n",
    "hist_show=int(-0.75*accepted.shape[0])"
   ]
  },
  {
   "cell_type": "code",
   "execution_count": null,
   "metadata": {
    "scrolled": false
   },
   "outputs": [],
   "source": [
    "fig = plt.figure(figsize=(20,10))\n",
    "ax = fig.add_subplot(1,2,1)\n",
    "ax.plot(accepted[show:,1])\n",
    "ax.set_title(\"Figure 4: Trace for $\\sigma$\")\n",
    "ax.set_ylabel(\"$\\sigma$\")\n",
    "ax.set_xlabel(\"Iteration\")\n",
    "ax = fig.add_subplot(1,2,2)\n",
    "ax.hist(accepted[hist_show:,1], bins=20,density=True)\n",
    "ax.set_ylabel(\"Frequency (normed)\")\n",
    "ax.set_xlabel(\"$\\sigma$\")\n",
    "ax.set_title(\"Figure 5: Histogram of $\\sigma$\")\n",
    "fig.tight_layout()\n",
    "\n",
    "#ax.grid(\"off\")"
   ]
  },
  {
   "cell_type": "markdown",
   "metadata": {},
   "source": [
    "### The most likely value for $\\sigma$ is .... This is a bit more than the original value of 3.0. \n",
    "\n",
    "The difference is due to us observing only 3.33% of the original population (1,000 out of 30,000) \n",
    "\n",
    "# Prediction/Inference\n",
    "First, we average the last 75% of accepted samples of σ, and we generate 30,000 random individuals from a normal distribution with μ=9.8 and σ=3.05 (the average of the last 75% of accepted samples) which is actually better than the most likely value of 3.1.\n",
    "\n",
    "Then we compare against the original data of 30,000 individuals."
   ]
  },
  {
   "cell_type": "code",
   "execution_count": 10,
   "metadata": {},
   "outputs": [
    {
     "name": "stdout",
     "output_type": "stream",
     "text": [
      "10.070675970330738 3.017197436380267\n"
     ]
    },
    {
     "data": {
      "text/plain": [
       "<matplotlib.legend.Legend at 0x2b058d4c390>"
      ]
     },
     "execution_count": 10,
     "metadata": {},
     "output_type": "execute_result"
    },
    {
     "data": {
      "image/png": "[encoded data removed]",
      "text/plain": [
       "<Figure size 720x720 with 1 Axes>"
      ]
     },
     "metadata": {
      "needs_background": "light"
     },
     "output_type": "display_data"
    }
   ],
   "source": [
    "mu=accepted[show:,0].mean()\n",
    "sigma=accepted[show:,1].mean()\n",
    "print(mu, sigma)\n",
    "model = lambda t,mu,sigma:np.random.normal(mu,sigma,t)\n",
    "observation_gen=model(population.shape[0],mu,sigma)\n",
    "fig = plt.figure(figsize=(10,10))\n",
    "ax = fig.add_subplot(1,1,1)\n",
    "ax.hist( observation_gen,bins=70 ,label=\"Predicted distribution of 30,000 individuals\")\n",
    "ax.hist( population,bins=70 ,alpha=0.5, label=\"Original values of the 30,000 individuals\")\n",
    "ax.set_xlabel(\"Mean\")\n",
    "ax.set_ylabel(\"Frequency\")\n",
    "ax.set_title(\"Figure 6: Posterior distribution of predicitons\")\n",
    "ax.legend()"
   ]
  },
  {
   "cell_type": "markdown",
   "metadata": {},
   "source": [
    "Good fit? Our model, generated from a small 1,000 datapoint sample of 30,000 observations, succeeds in modelling all 30,000 observations.\n",
    "\n",
    "# Conclusion\n",
    "\n",
    "That is how probabilistic programming works. Assume distributions for your model parameters, and let computers run simulations without bias!\n",
    "\n",
    "Of course, if you *assumed* bias in your model shapes, then you may also get junk values. But actually we see that, most of the time*, probabilstic programs actually can *correct our initial mistakes* and give us not just most probably parameter values, but actual parameter pdfs that lokk *nothing like what we started with*.\n",
    "\n",
    ">That is computers erasing our bias! :-)\n",
    "\n",
    "The great thing about probabilistic programming is that you only need to write down the model and then run it. The simplest MCMC algorithm, [Metropolis](https://en.wikipedia.org/wiki/Metropolis%E2%80%93Hastings_algorithm), is very simple. There is no need to compute evidence (denominator), or ensure constraining mathematical properties."
   ]
  }
 ],
 "metadata": {
  "kernelspec": {
   "display_name": "Python 3",
   "language": "python",
   "name": "python3"
  },
  "language_info": {
   "codemirror_mode": {
    "name": "ipython",
    "version": 3
   },
   "file_extension": ".py",
   "mimetype": "text/x-python",
   "name": "python",
   "nbconvert_exporter": "python",
   "pygments_lexer": "ipython3",
   "version": "3.6.9"
  }
 },
 "nbformat": 4,
 "nbformat_minor": 2
}
