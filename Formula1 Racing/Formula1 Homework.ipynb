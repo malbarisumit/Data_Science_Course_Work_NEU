{
 "cells": [
  {
   "cell_type": "markdown",
   "metadata": {
    "button": false,
    "new_sheet": false,
    "run_control": {
     "read_only": false
    }
   },
   "source": [
    "<div style=\"text-align: right\">INFO 6105 Data Sci Engineering Methods and Tools, Week 4 Lecture 2</div>\n",
    "<div style=\"text-align: right\">Dino Konstantopoulos, 1 October 2020, with material from Cam Davidson-Pilon</div>\n",
    "\n",
    "* * * \n",
    "*At the end of this lecture, you should a good understanding of probability distributions, how to estimate probabilities for different outcomes and sample spaces, how to use Bayes' theorem to answer typical interview questions involving probabilities, and start thinking about finding a job in high-stakes sports, such as Formula 1 racing.*\n",
    "\n",
    "*For next week, you should also read and try to understand Chapter 6 of your textbook, Mathematics for Machine Learning*."
   ]
  },
  {
   "cell_type": "markdown",
   "metadata": {},
   "source": [
    "# Homework solution\n",
    "\n",
    " Determine the probability that the sum of a three-dice roll is prime:\n",
    " \n",
    "<center>\n",
    "<img src=\"ipynb.images/3-dice-roll.png\" width=\"200\" />\n",
    "</center>"
   ]
  },
  {
   "cell_type": "code",
   "execution_count": 13,
   "metadata": {},
   "outputs": [],
   "source": [
    "from fractions import Fraction\n",
    "def p(event, space): \n",
    "    \"\"\"The probability of an event, given a sample space of equiprobable outcomes.\n",
    "    event can be either a set of outcomes, or a predicate (true for outcomes in the event).\"\"\"\n",
    "    if is_predicate(event):\n",
    "        event = such_that(event, space)\n",
    "    return Fraction(len(event & space), len(space))\n",
    "\n",
    "is_predicate = callable\n",
    "\n",
    "def such_that(predicate, collection): \n",
    "    \"\"\"The subset of elements in the collection for which the predicate is true.\"\"\"\n",
    "    return {e for e in collection if predicate(e)}"
   ]
  },
  {
   "cell_type": "code",
   "execution_count": 2,
   "metadata": {},
   "outputs": [],
   "source": [
    "D = {1,2,3,4,5,6}"
   ]
  },
  {
   "cell_type": "code",
   "execution_count": 3,
   "metadata": {},
   "outputs": [],
   "source": [
    "D3 = {(d1, d2, d3) for d1 in D for d2 in D for d3 in D}"
   ]
  },
  {
   "cell_type": "code",
   "execution_count": 4,
   "metadata": {},
   "outputs": [],
   "source": [
    "def prime_sum(outcome): return is_prime(sum(outcome))"
   ]
  },
  {
   "cell_type": "code",
   "execution_count": 5,
   "metadata": {},
   "outputs": [],
   "source": [
    "def is_prime(n): return n > 1 and not any(n % i == 0 for i in range(2, n)) #100 points if your python looks this simple"
   ]
  },
  {
   "cell_type": "code",
   "execution_count": 6,
   "metadata": {},
   "outputs": [
    {
     "data": {
      "text/plain": [
       "Fraction(73, 216)"
      ]
     },
     "execution_count": 6,
     "metadata": {},
     "output_type": "execute_result"
    }
   ],
   "source": [
    "p(prime_sum, D3)"
   ]
  },
  {
   "cell_type": "markdown",
   "metadata": {
    "button": false,
    "new_sheet": false,
    "run_control": {
     "read_only": false
    }
   },
   "source": [
    "# Introduction to Probability Distributions\n",
    "\n",
    "Your textbook, in page 6, states that the foundations of Machine Learning are:\n",
    "\n",
    "<center>\n",
    "<img src=\"ipynb.images/foundations-of-ML.png\" width=\"500\" />\n",
    "</center>\n",
    "\n",
    "And so let's start with a lab that introduces a very important probability distribution: The **binomial**.\n",
    "\n",
    "<br />\n",
    "<center>\n",
    "<img src=\"http://statistics.wdfiles.com/local--files/ch6/binomial.png\" width=\"400\" />\n",
    "Binomial\n",
    "</center>\n",
    "\n",
    ">**Definition**: Tthe binomial distribution with parameters $n$ and $p$ is the discrete probability distribution of the number of successes in a sequence of $n$ *independent* experiments, each asking a yes–no question, and each with its own boolean-valued outcome: success/yes/true/one (with probability $p$) or failure/no/false/zero (with probability $q = 1 − p$). \n",
    "\n",
    "A single success/failure experiment is also called a **Bernoulli** trial or Bernoulli experiment and a sequence of outcomes is called a Bernoulli process; for a single trial, i.e., $n = 1$, the binomial distribution is a Bernoulli distribution.\n",
    "\n",
    "Why is it important?\n",
    "\n",
    "So far, we have made the assumption that every outcome in a sample space (such as our urn) is ***equally likely***: Same probability to select White ball \\#1 as Red ball \\#5. Right?\n",
    "\n",
    ">**Recall**: A probability is a **fraction** where the numerator is sum of all *favorable* outcomes, and the denominator the sum of all *possible* outcomes.\n",
    "\n",
    "In real life, we often get outcomes that are not **equiprobable**. For example, White ball versus Red ball in our previous experiment. For example, the probability that your professor marries Rihana is not as probably as the probability that some famous rock start marries Rihanna.\n",
    "\n",
    "For another example, the probability of a child being a girl is not exactly 1/2, and the probability is slightly different for a second child. \n",
    "\n",
    "An [article](http://people.kzoo.edu/barth/math105/moreboys.pdf) (good Data Science article, please read it) gives the following *counts* for two-child families in Denmark, where `GB` means a family where the first child is a girl and the second a boy:\n",
    "\n",
    "    GG: 121801    GB: 126840\n",
    "    BG: 127123    BB: 135138\n",
    "    \n",
    "Because of this fact (not all urns yield Blue/Red/White *numbered* balls with equiprobable chances), we need to introduce three more definitions:\n",
    "\n",
    "* [Frequency](https://en.wikipedia.org/wiki/Frequency_%28statistics%29): a number describing how often an outcome occurs. Can be a count like 121801, or a ratio like 0.515.\n",
    "\n",
    "* [Distribution](http://mathworld.wolfram.com/StatisticalDistribution.html): A mapping from outcome to frequency for each possible outcome in a sample space. \n",
    "\n",
    "* [Probability Distribution](https://en.wikipedia.org/wiki/Probability_distribution): The distribution above, which has been *normalized* so that the sum of the frequencies is 1.\n",
    "\n",
    "Here is an example of a ***super-popular*** probability distribution:\n",
    "* The binomial distribution is frequently used to model the number of successes in a sample of size n drawn with replacement from a population of size N.\n",
    "\n",
    "Oh noooooo...\n",
    "<center>\n",
    "    <img src=\"ipynb.images/miserable.png\" width=300 />\n",
    "</center>\n",
    "\n",
    "We need to again modify our awesome probability counting `p()` function (which takes each event as **equiprobable**) to take this miserable fact into account. Essentially, it's as if each *numbered ball* comes with its *own* probability of being picked. So we will need to use probability **dictionaries**.\n",
    "\n",
    "We love python dictionaries, right, so it should be fun, right?\n",
    "\n",
    "<br />\n",
    "<center>\n",
    "    <img src=\"ipynb.images/pin.gif\" width=400 />\n",
    "</center>"
   ]
  },
  {
   "cell_type": "markdown",
   "metadata": {},
   "source": [
    "First, let's plot a few binomial distributions:"
   ]
  },
  {
   "cell_type": "code",
   "execution_count": 7,
   "metadata": {},
   "outputs": [
    {
     "data": {
      "image/png": "[encoded data removed]",
      "text/plain": [
       "<Figure size 360x270 with 1 Axes>"
      ]
     },
     "metadata": {
      "needs_background": "light"
     },
     "output_type": "display_data"
    }
   ],
   "source": [
    "# n and p are exactly as defined above\n",
    "import numpy as np\n",
    "from scipy.stats import binom\n",
    "from matplotlib import pyplot as plt\n",
    "%matplotlib inline\n",
    "\n",
    "n_values = [20, 25, 40]\n",
    "p_values = [0.2, 0.6, 0.6]\n",
    "x = np.arange(0, 50)\n",
    "\n",
    "fig, ax = plt.subplots(figsize=(5, 3.75))\n",
    "\n",
    "for (n, p) in zip(n_values, p_values):\n",
    "    # create a binomial distribution\n",
    "    dist = binom(n, p)\n",
    "\n",
    "    plt.plot(x, dist.pmf(x))"
   ]
  },
  {
   "cell_type": "markdown",
   "metadata": {},
   "source": [
    "Now, let's digress a bit into abstract computer science..\n",
    "\n",
    "In Python, `*args` and `**kwargs` is a common idiom to allow ***arbitrary number of arguments*** to functions. `*args` will give you all function parameters as a tuple, `**kwargs` will give you all keyword arguments (except those corresponding to a formal parameter) as a dictionary:\n",
    "```python\n",
    "def foo(*args):\n",
    "    for a in args:\n",
    "    print a\n",
    "        \n",
    "def bar(**kwargs):\n",
    "    for a in kwargs:\n",
    "        print a, kwargs[a]\n",
    "```"
   ]
  },
  {
   "cell_type": "markdown",
   "metadata": {},
   "source": [
    "Let’s say we want to create a higher-order function that takes as input some function $f$ and returns a new function that for any input returns *twice* the value of $f$:"
   ]
  },
  {
   "cell_type": "code",
   "execution_count": 8,
   "metadata": {},
   "outputs": [],
   "source": [
    "def my_doubler(f):\n",
    "  def my_g(x):\n",
    "    return 2 * f(x)\n",
    "  return my_g"
   ]
  },
  {
   "cell_type": "markdown",
   "metadata": {},
   "source": [
    "It works.. in most cases:"
   ]
  },
  {
   "cell_type": "code",
   "execution_count": 9,
   "metadata": {},
   "outputs": [
    {
     "name": "stdout",
     "output_type": "stream",
     "text": [
      "8\n"
     ]
    }
   ],
   "source": [
    "def f_plus_1(x):\n",
    "  return x + 1;\n",
    "\n",
    "h = my_doubler(f_plus_1)\n",
    "print(h(3))  # 8 = (3 + 1) * 2"
   ]
  },
  {
   "cell_type": "markdown",
   "metadata": {},
   "source": [
    "Now try this:"
   ]
  },
  {
   "cell_type": "code",
   "execution_count": 10,
   "metadata": {},
   "outputs": [
    {
     "ename": "TypeError",
     "evalue": "my_g() takes 1 positional argument but 2 were given",
     "output_type": "error",
     "traceback": [
      "\u001b[1;31m---------------------------------------------------------------------------\u001b[0m",
      "\u001b[1;31mTypeError\u001b[0m                                 Traceback (most recent call last)",
      "\u001b[1;32m<ipython-input-10-ee95da150d3b>\u001b[0m in \u001b[0;36m<module>\u001b[1;34m\u001b[0m\n\u001b[0;32m      3\u001b[0m \u001b[1;33m\u001b[0m\u001b[0m\n\u001b[0;32m      4\u001b[0m \u001b[0mh\u001b[0m \u001b[1;33m=\u001b[0m \u001b[0mmy_doubler\u001b[0m\u001b[1;33m(\u001b[0m\u001b[0mmy_sum2\u001b[0m\u001b[1;33m)\u001b[0m\u001b[1;33m\u001b[0m\u001b[1;33m\u001b[0m\u001b[0m\n\u001b[1;32m----> 5\u001b[1;33m \u001b[0mprint\u001b[0m\u001b[1;33m(\u001b[0m\u001b[0mh\u001b[0m\u001b[1;33m(\u001b[0m\u001b[1;36m1\u001b[0m\u001b[1;33m,\u001b[0m\u001b[1;36m2\u001b[0m\u001b[1;33m)\u001b[0m\u001b[1;33m)\u001b[0m \u001b[1;31m#TypeError!\u001b[0m\u001b[1;33m\u001b[0m\u001b[1;33m\u001b[0m\u001b[0m\n\u001b[0m",
      "\u001b[1;31mTypeError\u001b[0m: my_g() takes 1 positional argument but 2 were given"
     ]
    }
   ],
   "source": [
    "def my_sum2(x, y):\n",
    "  return x + y;\n",
    "\n",
    "h = my_doubler(my_sum2)\n",
    "print(h(1,2)) #TypeError!"
   ]
  },
  {
   "cell_type": "markdown",
   "metadata": {},
   "source": [
    "Oh *nooooo*!\n",
    "\n",
    "What we need is a way to specify a function that takes *arbitrary arguments*. This is where Python's `*args` and `**kwargs` come into play:"
   ]
  },
  {
   "cell_type": "code",
   "execution_count": 22,
   "metadata": {},
   "outputs": [
    {
     "name": "stdout",
     "output_type": "stream",
     "text": [
      "unnamed args:  (1, 2, 3)\n",
      "keyword args:  {'key1': 'NU', 'key2': 'rocks!'}\n"
     ]
    }
   ],
   "source": [
    "def magic(*args, **kwargs):\n",
    "  print (\"unnamed args: \", args)\n",
    "  print (\"keyword args: \", kwargs)\n",
    "magic(1, 2, 3, key1 = 'NU', key2 = 'rocks!')"
   ]
  },
  {
   "cell_type": "markdown",
   "metadata": {},
   "source": [
    "<br />\n",
    "<center>\n",
    "    <img src=\"ipynb.images/magic.png\" width=300 />**Ohhhhhhhhhhhh**</a><br>你真聪明\n",
    "</center>"
   ]
  },
  {
   "cell_type": "markdown",
   "metadata": {},
   "source": [
    "args is a `tuple` of its unnamed arguments and kwargs is a `dictionary` of its named arguments. So now we can:"
   ]
  },
  {
   "cell_type": "code",
   "execution_count": 11,
   "metadata": {},
   "outputs": [],
   "source": [
    "def my_new_doubler(f):\n",
    "  \"\"\"works no matter the inputs\"\"\"\n",
    "  def my_g(*args, **kwargs):\n",
    "    \"\"\"pass all arguments to f\"\"\"\n",
    "    return 2 * f(*args, **kwargs)\n",
    "  return my_g"
   ]
  },
  {
   "cell_type": "markdown",
   "metadata": {},
   "source": [
    "and now:"
   ]
  },
  {
   "cell_type": "code",
   "execution_count": 13,
   "metadata": {},
   "outputs": [
    {
     "name": "stdout",
     "output_type": "stream",
     "text": [
      "6\n"
     ]
    }
   ],
   "source": [
    "h = my_new_doubler(my_sum2)\n",
    "print(h(1, 2))  # 6:"
   ]
  },
  {
   "cell_type": "markdown",
   "metadata": {},
   "source": [
    "Ok, ***now*** are ready to define **Probability distributions** in python, our new *p* function!\n",
    "\n",
    "We define `ProbDist` to take the same kinds of arguments that a `dict` does: either a **mapping** (from item to its probability) or a **set** of (key, val) pairs, and/or optional keyword arguments (because each ball in the urn is *special* now: it has its *own* probability of being picked). \n",
    "\n",
    ">**A dose of reality**: It's like all boys/girls are not equal! You will not just pick any boy/girl to be your girl/boyfriend! There are some that have a *much higher chance* of being picked by you (related to *your* taste)!\n",
    "\n",
    "This is the first time (in class), that we will define a Python `class`, instead of a Python **function/lambda**. That is why we will define its **constructor** `__init__()`. We assume `self` (`this` in Python) is composed of a set:"
   ]
  },
  {
   "cell_type": "code",
   "execution_count": 6,
   "metadata": {
    "button": false,
    "new_sheet": false,
    "run_control": {
     "read_only": false
    }
   },
   "outputs": [],
   "source": [
    "class ProbDist(dict):\n",
    "    \"\"\"A Probability Distribution; an {outcome: probability} mapping.\"\"\"\n",
    "    def __init__(self, mapping=(), **kwargs):\n",
    "        self.update(mapping, **kwargs)\n",
    "        # Make probabilities sum to 1.0; assert no negative probabilities\n",
    "        total = sum(self.values())\n",
    "        for outcome in self:\n",
    "            self[outcome] = self[outcome] / total\n",
    "            assert self[outcome] >= 0"
   ]
  },
  {
   "cell_type": "markdown",
   "metadata": {
    "button": false,
    "new_sheet": false,
    "run_control": {
     "read_only": false
    }
   },
   "source": [
    "We also need to modify the functions `p` and `such_that` to accept either a sample space as we had previously, or a probability distribution as the second argument `space`. \n",
    "\n",
    ">**Oh-oh**: Now we need to branch out on the ***2nd argument*** of function `p`!\n",
    "\n",
    "If we have a probability distribution, instead of *counting* each possible outcome equiprobably and thus just summing up `1`s (numerator: sum of all *favorable* outcomes, denominator: sum of all *possible* outcomes), we need to sum up the different discrete probabilities of each possible outcome: `sum(space[o] for o in space if o in event)`. \n",
    "\n",
    "We also need to modify `such_that()`, which is the set of all outcomes of our sample space for which the predicate (first) argument is `True`, so that its second argument can also be a `ProbDist`."
   ]
  },
  {
   "cell_type": "code",
   "execution_count": 7,
   "metadata": {
    "button": false,
    "new_sheet": false,
    "run_control": {
     "read_only": false
    }
   },
   "outputs": [],
   "source": [
    "def p(event, space): \n",
    "    \"\"\"The probability of an event, given a sample space of equiprobable outcomes. \n",
    "    event: a collection of outcomes, or a predicate that is true of outcomes in the event. \n",
    "    space: a set of outcomes or a probability distribution of {outcome: frequency} pairs.\"\"\"\n",
    "    # branch on the type of the first argument\n",
    "    if is_predicate(event):\n",
    "        # transform the mapping (untangible) 'event' into the collection (tangible) 'event'\n",
    "        event = such_that(event, space)\n",
    "        \n",
    "    # branch on the type of the second argument\n",
    "    if isinstance(space, ProbDist):\n",
    "        # if space is a dictionary of distinct probabilities, each element does not count as the same amount:\n",
    "        # We need to be careful and count each amount according to what it's worth\n",
    "        return sum(space[o] for o in space if o in event)\n",
    "    else:\n",
    "        # space is not a dictionary, let's fall back to our original division\n",
    "        return Fraction(len(event & space), len(space))\n",
    "\n",
    "is_predicate = callable\n",
    "\n",
    "def such_that(predicate, space): \n",
    "    \"\"\"The outcomes in the sample pace for which the predicate is true.\n",
    "    If space is a set, return a subset {outcome,...} with outcomes where predicate(element) is true;\n",
    "    if space is a ProbDist, return a ProbDist {outcome: frequency,...} with outcomes where predicate(element) is true.\"\"\"\n",
    "    if isinstance(space, ProbDist):\n",
    "        return ProbDist({o:space[o] for o in space if predicate(o)})\n",
    "    else:\n",
    "        return {o for o in space if predicate(o)}"
   ]
  },
  {
   "cell_type": "markdown",
   "metadata": {
    "button": false,
    "new_sheet": false,
    "run_control": {
     "read_only": false
    }
   },
   "source": [
    "And now we can finally take on the Danes from the data science paper!\n",
    "<br />\n",
    "<center>\n",
    "    <img src=\"ipynb.images/Danes.png\" width=300 />\n",
    "</center>\n",
    "\n",
    "# Danish two-child families: An introduction to *conditional* and *marginal* probabilities\n",
    "Here is the probability distribution for Danish two-child families as a `dictionar`y, describing the probability of each possible outcome, according to the data science paper referenced above:"
   ]
  },
  {
   "cell_type": "code",
   "execution_count": 19,
   "metadata": {
    "button": false,
    "new_sheet": false,
    "run_control": {
     "read_only": false
    }
   },
   "outputs": [
    {
     "data": {
      "text/plain": [
       "{'GG': 0.23840384261560926,\n",
       " 'GB': 0.24826679089140383,\n",
       " 'BG': 0.24882071317004043,\n",
       " 'BB': 0.2645086533229465}"
      ]
     },
     "execution_count": 19,
     "metadata": {},
     "output_type": "execute_result"
    }
   ],
   "source": [
    "DK = ProbDist(GG=121801, GB=126840,\n",
    "              BG=127123, BB=135138)\n",
    "DK"
   ]
  },
  {
   "cell_type": "markdown",
   "metadata": {
    "button": false,
    "new_sheet": false,
    "run_control": {
     "read_only": false
    }
   },
   "source": [
    "Let's write some useful predicates (in lambda syntax):\n",
    "```python\n",
    "def first_girl(outcome):  return outcome[0] == 'G'\n",
    "def first_boy(outcome):   return outcome[0] == 'B'\n",
    "def second_girl(outcome): return outcome[1] == 'G'\n",
    "def second_boy(outcome):  return outcome[1] == 'B'\n",
    "def two_girls(outcome):   return outcome    == 'GG'\n",
    "```\n",
    "Using these predicates, answer the following questions:\n",
    "\n",
    "* What's the probability for a girl, and is it higher or lower for a second girl?\n",
    "* Is the sex of the second child more likely or less likely to be the same as the first child?\n",
    "\n",
    "*Hint:* You will leverage `p(first_girl, DK)`, `p(second_girl, DK)`, `p(second_girl, such_that(first_girl, DK))`, and `p(second_girl, such_that(first_boy, DK))`"
   ]
  },
  {
   "cell_type": "code",
   "execution_count": 20,
   "metadata": {
    "button": false,
    "new_sheet": false,
    "run_control": {
     "read_only": false
    }
   },
   "outputs": [],
   "source": [
    "def first_girl(outcome):  return outcome[0] == 'G'\n",
    "def first_boy(outcome):   return outcome[0] == 'B'\n",
    "def second_girl(outcome): return outcome[1] == 'G'\n",
    "def second_boy(outcome):  return outcome[1] == 'B'\n",
    "def two_girls(outcome):   return outcome    == 'GG'"
   ]
  },
  {
   "cell_type": "code",
   "execution_count": 21,
   "metadata": {},
   "outputs": [
    {
     "data": {
      "text/plain": [
       "0.4866706335070131"
      ]
     },
     "execution_count": 21,
     "metadata": {},
     "output_type": "execute_result"
    }
   ],
   "source": [
    "p(first_girl, DK)"
   ]
  },
  {
   "cell_type": "code",
   "execution_count": 20,
   "metadata": {},
   "outputs": [
    {
     "data": {
      "text/plain": [
       "0.4872245557856497"
      ]
     },
     "execution_count": 20,
     "metadata": {},
     "output_type": "execute_result"
    }
   ],
   "source": [
    "p(second_girl, DK)"
   ]
  },
  {
   "cell_type": "markdown",
   "metadata": {},
   "source": [
    "The above says that the probability of a girl is somewhere between 48% and 49%, but that it is slightly different between the first or second child.\n",
    "\n",
    "Now answer the question as to whether the sex of the second child is *more likely* or *less likely* to be the same as the first child, by evaluating first:\n",
    "\n",
    "- The probability of a second girl *given that the first child was a girl* (a [conditional probability](https://en.wikipedia.org/wiki/Conditional_probability))\n",
    "- The probability of a second girl *given that the first child was a boy* (a conditional probability)\n",
    "- The probability of a second boy *given that the first child was a boy* (a conditional probability)\n",
    "- The probability of a second boy *given that the first child was a girl* (a conditional probability)\n",
    "\n",
    "The average of the ***first*** two probabilities above represents the probability of a second girl (*irrespective* of any other conditions)! It's a [marginal probability](https://en.wikipedia.org/wiki/Marginal_distribution) in our problem.\n",
    "\n",
    "The average of the ***last*** two probabilities above represents the probability of a second boy, a **marginal probability** in our problem.\n",
    "\n",
    "These are the first two conditional probabilities:"
   ]
  },
  {
   "cell_type": "code",
   "execution_count": 22,
   "metadata": {},
   "outputs": [
    {
     "data": {
      "text/plain": [
       "(0.4898669165584115, 0.48471942072973107)"
      ]
     },
     "execution_count": 22,
     "metadata": {},
     "output_type": "execute_result"
    }
   ],
   "source": [
    "p(second_girl, such_that(first_girl, DK)), p(second_girl, such_that(first_boy, DK))"
   ]
  },
  {
   "cell_type": "code",
   "execution_count": 23,
   "metadata": {},
   "outputs": [
    {
     "data": {
      "text/plain": [
       "1.0"
      ]
     },
     "execution_count": 23,
     "metadata": {},
     "output_type": "execute_result"
    }
   ],
   "source": [
    "p(second_girl, such_that(second_girl, DK))"
   ]
  },
  {
   "cell_type": "markdown",
   "metadata": {},
   "source": [
    "These are the last two conditional probabilities:"
   ]
  },
  {
   "cell_type": "code",
   "execution_count": 22,
   "metadata": {},
   "outputs": [
    {
     "data": {
      "text/plain": [
       "(0.5101330834415885, 0.5152805792702689)"
      ]
     },
     "execution_count": 22,
     "metadata": {},
     "output_type": "execute_result"
    }
   ],
   "source": [
    "p(second_boy, such_that(first_girl, DK)), p(second_boy, such_that(first_boy, DK))"
   ]
  },
  {
   "cell_type": "markdown",
   "metadata": {},
   "source": [
    "The above says that the sex of the second child is more likely to be the same as the first child, by about 1/2 a percentage point.\n",
    "\n",
    "And so, the result we are after:"
   ]
  },
  {
   "cell_type": "code",
   "execution_count": 23,
   "metadata": {},
   "outputs": [
    {
     "data": {
      "text/plain": [
       "0.4872931686440713"
      ]
     },
     "execution_count": 23,
     "metadata": {},
     "output_type": "execute_result"
    }
   ],
   "source": [
    "p_second_girl = (p(second_girl, such_that(first_girl, DK)) + p(second_girl, such_that(first_boy, DK)))/2.\n",
    "p_second_girl"
   ]
  },
  {
   "cell_type": "code",
   "execution_count": 25,
   "metadata": {},
   "outputs": [
    {
     "data": {
      "text/plain": [
       "0.5127068313559286"
      ]
     },
     "execution_count": 25,
     "metadata": {},
     "output_type": "execute_result"
    }
   ],
   "source": [
    "p_second_boy = (p(second_boy, such_that(first_girl, DK)) + p(second_boy, such_that(first_boy, DK))) / 2.\n",
    "p_second_boy"
   ]
  },
  {
   "cell_type": "markdown",
   "metadata": {
    "button": false,
    "new_sheet": false,
    "run_control": {
     "read_only": false
    }
   },
   "source": [
    "You should find that the probability of a girl is somewhere between 48% and 49%, but slightly different between the first or second child, and that the sex of the second child is more likely to be the same as the first child, by about 1/2 a percentage point.\n",
    "\n",
    "Cooool..! We got all that through *programming*. No math! By spelling out our sets and writing down our logic.\n",
    "\n",
    "<br />\n",
    "<center>\n",
    "<img src=\"ipynb.images/pretty-bunny.gif\" />\n",
    "</center>"
   ]
  },
  {
   "cell_type": "markdown",
   "metadata": {
    "button": false,
    "new_sheet": false,
    "run_control": {
     "read_only": false
    }
   },
   "source": [
    "# 6. M&Ms and an introduction to Bayes' Theorem\n",
    "<br />\n",
    "<center>\n",
    "<img src=\"https://upload.wikimedia.org/wikipedia/en/9/97/M%26M_spokescandies.jpeg\" />\n",
    "</center>\n",
    "\n",
    "[Bayes's theorem](https://en.wikipedia.org/wiki/Bayes%27_theorem) describes the probability of an event $A$, based on prior knowledge of conditions $E$ that might be related to the event:\n",
    "\n",
    "$$P(A \\;|\\; E) = \\frac{P(E \\;|\\; A) \\;*\\; P(A)}{ P(E) }$$\n",
    "\n",
    "Just like the `1 minus` trick for estimatiung probabilities, you use Bayes' theorem when $P(E \\;|\\; A)$ is easier to compute than $P(A \\;|\\; E)$.\n",
    "\n",
    "For example, if the risk of developing deadly covid19 problems is known to increase with age and medical preconditions. Bayes's theorem allows the risk to an individual of a known age or having a medical precondition to be assessed more accurately than simply assuming that the individual is typical of the population as a whole.\n",
    "\n",
    "Let's study Bayes with another experiment.\n",
    "\n",
    "Here's another urn problem (or \"bag\" problem) [from](http://allendowney.blogspot.com/2011/10/my-favorite-bayess-theorem-problems.html) prolific Python/Probability author [Allen Downey ](http://allendowney.blogspot.com/), which also happens to be a classic interview question:\n",
    "\n",
    "> The blue M&M was introduced in 1995.  Before then, the color mix in a bag of plain M&Ms was (30% Brown, 20% Yellow, 20% Red, 10% Green, 10% Orange, 10% Tan).  Afterward it was (24% Blue , 20% Green, 16% Orange, 14% Yellow, 13% Red, 13% Brown). \n",
    "A friend of mine has two bags of M&Ms, and he tells me that one is from 1994 and one from 1996.  He won't tell me which is which, but he gives me one M&M from each bag.  One is yellow and one is green.  What is the probability that the yellow M&M came from the 1994 bag? Well, the old M&M bags' yellow count was higher, so it must be higher, right? But how to count?\n",
    "\n",
    "To solve this problem, we'll first represent probability distributions for each bag: `bag94` and `bag96`, by using `ProbDist` and passing in dictionaries for each year:\n",
    "```python\n",
    "bag94 = ProbDist(brown=30, yellow=20, red=20, green=10, orange=10, tan=10)\n",
    "bag96 = ProbDist(...)  #fill this in, please\n",
    "```"
   ]
  },
  {
   "cell_type": "code",
   "execution_count": 35,
   "metadata": {
    "button": false,
    "new_sheet": false,
    "run_control": {
     "read_only": false
    }
   },
   "outputs": [],
   "source": [
    "bag94 = ProbDist(brown=30, yellow=20, red=20, green=10, orange=10, tan=10)\n",
    "bag96 = ProbDist(blue=24, green=20, orange=16, yellow=14, red=13, brown=13)"
   ]
  },
  {
   "cell_type": "markdown",
   "metadata": {
    "button": false,
    "new_sheet": false,
    "run_control": {
     "read_only": false
    }
   },
   "source": [
    "Next, define `MM` as the *joint* distribution 94-96&mdash;the sample space for picking *one* M&M from *each* bag. The outcome `'yellow green'` means that a yellow M&M was selected from the 1994 bag and a green one from the 1996 bag. We will use a *set comprehension*.\n",
    "\n",
    "Uhhhh... What do we use for sets again? Is it `[`, or `(`, or `{`?\n",
    "\n",
    "To note:\n",
    "* We are using a python *set* because we care about dictionaries, and dictionary keys are unique\n",
    "* You can also think in terms of JSON objects\n",
    "\n",
    "```python\n",
    "def joint(A, B, sep=''):\n",
    "    \"\"\"The joint distribution of two independent probability distributions. \n",
    "    Result is all entries of the form {a+sep+b: P(a)*P(b)}\"\"\"\n",
    "    return ProbDist({a + sep + b: A[a] * B[b]\n",
    "                    for ...\n",
    "                    for ...})\n",
    "\n",
    "MM = joint(bag94, bag96, ' ')\n",
    "MM\n",
    "```"
   ]
  },
  {
   "cell_type": "code",
   "execution_count": 36,
   "metadata": {
    "button": false,
    "new_sheet": false,
    "run_control": {
     "read_only": false
    }
   },
   "outputs": [
    {
     "data": {
      "text/plain": [
       "{'brown blue': 0.07199999999999997,\n",
       " 'brown brown': 0.038999999999999986,\n",
       " 'brown green': 0.05999999999999997,\n",
       " 'brown orange': 0.04799999999999998,\n",
       " 'brown red': 0.038999999999999986,\n",
       " 'brown yellow': 0.04199999999999998,\n",
       " 'green blue': 0.02399999999999999,\n",
       " 'green brown': 0.012999999999999996,\n",
       " 'green green': 0.019999999999999993,\n",
       " 'green orange': 0.015999999999999993,\n",
       " 'green red': 0.012999999999999996,\n",
       " 'green yellow': 0.013999999999999995,\n",
       " 'orange blue': 0.02399999999999999,\n",
       " 'orange brown': 0.012999999999999996,\n",
       " 'orange green': 0.019999999999999993,\n",
       " 'orange orange': 0.015999999999999993,\n",
       " 'orange red': 0.012999999999999996,\n",
       " 'orange yellow': 0.013999999999999995,\n",
       " 'red blue': 0.04799999999999998,\n",
       " 'red brown': 0.025999999999999992,\n",
       " 'red green': 0.03999999999999999,\n",
       " 'red orange': 0.03199999999999999,\n",
       " 'red red': 0.025999999999999992,\n",
       " 'red yellow': 0.02799999999999999,\n",
       " 'tan blue': 0.02399999999999999,\n",
       " 'tan brown': 0.012999999999999996,\n",
       " 'tan green': 0.019999999999999993,\n",
       " 'tan orange': 0.015999999999999993,\n",
       " 'tan red': 0.012999999999999996,\n",
       " 'tan yellow': 0.013999999999999995,\n",
       " 'yellow blue': 0.04799999999999998,\n",
       " 'yellow brown': 0.025999999999999992,\n",
       " 'yellow green': 0.03999999999999999,\n",
       " 'yellow orange': 0.03199999999999999,\n",
       " 'yellow red': 0.025999999999999992,\n",
       " 'yellow yellow': 0.02799999999999999}"
      ]
     },
     "execution_count": 36,
     "metadata": {},
     "output_type": "execute_result"
    }
   ],
   "source": [
    "def joint(A, B, sep=''):\n",
    "    \"\"\"The joint distribution of two independent probability distributions. \n",
    "    Result is all entries of the form {a+sep+b: P(a)*P(b)}\"\"\"\n",
    "    return ProbDist({a + sep + b: A[a] * B[b]\n",
    "                    for a in A\n",
    "                    for b in B})\n",
    "\n",
    "MM = joint(bag94, bag96, ' ')\n",
    "MM"
   ]
  },
  {
   "cell_type": "markdown",
   "metadata": {
    "button": false,
    "new_sheet": false,
    "run_control": {
     "read_only": false
    }
   },
   "source": [
    "Let's look at the \"One is yellow and one is green\" part:\n",
    "\n",
    "```python\n",
    "def yellow_and_green(outcome): return 'yellow' in outcome and 'green' in outcome\n",
    "\n",
    "such_that(...) # fill this in\n",
    "```"
   ]
  },
  {
   "cell_type": "code",
   "execution_count": 38,
   "metadata": {
    "button": false,
    "new_sheet": false,
    "run_control": {
     "read_only": false
    }
   },
   "outputs": [
    {
     "data": {
      "text/plain": [
       "{'green yellow': 0.25925925925925924, 'yellow green': 0.7407407407407408}"
      ]
     },
     "execution_count": 38,
     "metadata": {},
     "output_type": "execute_result"
    }
   ],
   "source": [
    "def yellow_and_green(outcome): return 'yellow' in outcome and 'green' in outcome\n",
    "such_that(yellow_and_green, MM)"
   ]
  },
  {
   "cell_type": "markdown",
   "metadata": {
    "button": false,
    "new_sheet": false,
    "run_control": {
     "read_only": false
    }
   },
   "source": [
    "Now we can answer the question: given that we got a yellow and a green (but don't know which comes from which bag), what is the probability that the yellow came from the 1994 bag?\n",
    "\n",
    "```python\n",
    "def yellow94(outcome): return ...\n",
    "\n",
    "p(yellow94, such_that(...)) # fill this in\n",
    "```"
   ]
  },
  {
   "cell_type": "code",
   "execution_count": 39,
   "metadata": {
    "button": false,
    "new_sheet": false,
    "run_control": {
     "read_only": false
    }
   },
   "outputs": [
    {
     "data": {
      "text/plain": [
       "0.7407407407407408"
      ]
     },
     "execution_count": 39,
     "metadata": {},
     "output_type": "execute_result"
    }
   ],
   "source": [
    "def yellow94(outcome): return outcome.startswith('yellow')\n",
    "\n",
    "p(yellow94, such_that(yellow_and_green, MM))"
   ]
  },
  {
   "cell_type": "markdown",
   "metadata": {
    "button": false,
    "new_sheet": false,
    "run_control": {
     "read_only": false
    }
   },
   "source": [
    "So there is a 74% chance that the yellow comes from the 1994 bag. We were *right* about our hunch :-)\n",
    "\n",
    "Answering this question was straightforward: just like all the other probability problems, we simply create a sample space, and use `p` to pick out the probability of the event in question, given what we know about the outcome. This is the 'mechanistic' way of obtaining our answer.\n",
    "\n",
    "# With Math\n",
    "We can *also* solve it using *Bayes' Theorem*, and this is as good as any's introduction to naive Bayes theory: We are asked about the probability of an event (M&M94 --> M&M96) given the evidence (M&M94 is yellow, M&M96 green), which is not immediately available. However the probability of the evidence, given the event is readily available!  \n",
    "\n",
    "Before we see the colors of the M&Ms, there are two hypotheses, `A` and `B`, both with equal probability:\n",
    "\n",
    "    A: first M&M from 94 bag, second from 96 bag\n",
    "    B: first M&M from 96 bag, second from 94 bag\n",
    "    P(A) = P(B) = 0.5\n",
    "    \n",
    "Then we get some evidence:\n",
    "    \n",
    "    E: first M&M yellow, second green\n",
    "    \n",
    "We want to know the probability of hypothesis `A`, given the evidence:\n",
    "    \n",
    "    P(A | E)\n",
    "    \n",
    "That's not easy to calculate (except by enumerating the sample space, which is what we did above). But Bayes Theorem says:\n",
    "    \n",
    "    P(A | E) = P(E | A) * P(A) / P(E)\n",
    "    \n",
    "The quantities on the *right-hand-side* are easier to calculate:\n",
    "    \n",
    "    P(E | A) = 20/100 * 20/100 = 0.04\n",
    "    P(E | B) = 10/100 * 14/100 = 0.014\n",
    "    P(A)     = 0.5\n",
    "    P(B)     = 0.5\n",
    "    P(E)     = P(E | A) * P(A) + P(E | B) * P(B) \n",
    "             = 0.04     * 0.5  + 0.014    * 0.5   =   0.027\n",
    "             \n",
    "Where did the probability of the evidence P(E) formula come from?\n",
    "\n",
    "There are two possibilities of getting the evidence: A and B, a *union* and so we sum their probabilities. The joint probability of the evidence *and* case A is a succession or *intersection*, so it must be a product of their probabilities: P(E|A).P(A). Likewise for the case B: P(E|B).P(B) \n",
    "    \n",
    "And so we can get a final answer:\n",
    "    \n",
    "    P(A | E) = P(E | A) * P(A) / P(E) \n",
    "             = 0.04     * 0.5  / 0.027 \n",
    "             = 0.7407407407\n",
    "             \n",
    "Bayes Theorem allows you to do less calculation at the cost of more algebra; that is a great trade-off if you are working with pencil and paper (like in interview situations). Enumerating the state space allows you to do less algebra at the cost of more calculation; often a good trade-off if you have a computer. But regardless of the approach you use, it is important to understand Bayes theorem and how it works.\n",
    "\n",
    "Bayes' theorem will be our introduction to more advanced statistics, which we'll cover *next* week!"
   ]
  },
  {
   "cell_type": "markdown",
   "metadata": {},
   "source": [
    "# Big Data? Big Deal..\n",
    "\n",
    "So far, we have talked of an *outcome* as being a single state of the world. But it can be useful to break that state of the world down into *many* components. We call these components **random variables**. For example, when we consider an experiment in which we roll *two* dice and observe their sum, we could model the situation with *two* random variables, one for each die (our representation of outcomes has been doing that implicitly all along, when we concatenate two parts of a string, but the concept of a random variable makes it official.)\n",
    "\n",
    "Remember [this](https://www.mathsisfun.com/data/quincunx.html) experiment?\n",
    "\n",
    "The **Central Limit Theorem** states that if you have a collection of random variables and sum them up, then the *larger* the collection, the *closer* the sum will be to a *normal distribution* (also called a *Gaussian distribution* or a *bell-shaped curve*). This illustrates why Data Science with **Big Data** is not really a challenge at all (other than how to store and compute with data that is larger than the RAM on your laptop)! If you have tons of data, then frequentist and Bayesian statistics coincide, there is little doubt about outcomes, and it is clear which outcome to place your bets on.\n",
    "\n",
    "The challenge is with **Small Data**, where there is doubt and you have no idea of the pdf, and you have to painstakingly  build a model with parameters, and refine your parameters so the model fits the data.\n",
    "\n",
    "Why do accidents happen in autonomous vehicles when it snows, at dusk, when the moon is behind a traffic light, and a pedestrian is crossing the street on a red light? Precisely because we don't have Big Data about that use case, and the autonomous car has **no idea what to do**! Uber needs *you* to program it for the Small DAta cases. Big Data is piece of cake!\n",
    "\n",
    "This is a good time to introduce the concept of a **histogram**, which is essentially a probability density function that we get from data collection or from analytic curves. If we have the 2D function `f(x,y)`, we can estimate the discretized probability density function (pdf) of `f` by computing how many values of `f` fall into specific bins with prespecified values of y.\n",
    "\n",
    "Plot the pdf of the following graph:\n",
    "<br />\n",
    "<center>\n",
    "    <img src=\"ipynb.images/graph.png\" width=200 />\n",
    "</center>"
   ]
  },
  {
   "cell_type": "markdown",
   "metadata": {},
   "source": [
    "### Celtics\n",
    "\n",
    "As another example, let's take 5 random variables reprsenting the per-game scores of the 5 Celtics starters for the 2018 season (Jayson Tatum or JT, Jaylen Brown or JB, Terry Rozier or TR, Al Horford or AL, and Aron Baynes or AB), and then sum them together to form the team score. The scores here are imaginary to introduce statistical function `gauss`, `triangular`, `vonmisesvariate`, and `uniform`. For the real season scores of this exciting and ultimately deflating season, visit [here](http://www.nba.com/celtics/stats?sort=PTS). Each random variable/player is represented as a probability distribution function; calling the function returns a single sample from the distribution:"
   ]
  },
  {
   "cell_type": "code",
   "execution_count": 2,
   "metadata": {},
   "outputs": [],
   "source": [
    "from random import gauss, triangular, choice, vonmisesvariate, uniform\n",
    "\n",
    "def JT(): return posint(gauss(15.1, 3) + 3 * triangular(1, 4, 13)) # 30.1\n",
    "def JB(): return posint(gauss(10.2, 3) + 3 * triangular(1, 3.5, 9)) # 22.1\n",
    "def TR(): return posint(vonmisesvariate(30, 2) * 3.08) # 14.0\n",
    "def AH(): return posint(gauss(6.7, 1.5) if choice((True, False)) else gauss(16.7, 2.5)) # 11.7\n",
    "def AB(): return posint(triangular(5, 17, 25) + uniform(0, 30) + gauss(6, 3)) # 37.0\n",
    "\n",
    "def posint(x): \"Positive integer\"; return max(0, int(round(x)))"
   ]
  },
  {
   "cell_type": "markdown",
   "metadata": {},
   "source": [
    "And here is a function to sample a random variable *k* times, show a histogram of the results, and return the mean:"
   ]
  },
  {
   "cell_type": "code",
   "execution_count": 3,
   "metadata": {},
   "outputs": [],
   "source": [
    "from statistics import mean\n",
    "\n",
    "def repeated_hist(rv, bins=10, k=100000):\n",
    "    \"Repeat rv() k times and make a histogram of the results.\"\n",
    "    samples = [rv() for _ in range(k)]\n",
    "    plt.hist(samples, bins=bins, color = 'g')\n",
    "    return mean(samples)"
   ]
  },
  {
   "cell_type": "markdown",
   "metadata": {},
   "source": [
    "The two top-scoring players, Jayson Tatum (JT) and Jaylen Brown (JB), have scoring distributions that are slightly skewed from normal:"
   ]
  },
  {
   "cell_type": "code",
   "execution_count": 4,
   "metadata": {},
   "outputs": [
    {
     "data": {
      "text/plain": [
       "30.08343"
      ]
     },
     "execution_count": 4,
     "metadata": {},
     "output_type": "execute_result"
    },
    {
     "data": {
      "image/png": "[encoded data removed]",
      "text/plain": [
       "<Figure size 432x288 with 1 Axes>"
      ]
     },
     "metadata": {
      "needs_background": "light"
     },
     "output_type": "display_data"
    }
   ],
   "source": [
    "repeated_hist(JT, bins=range(60))"
   ]
  },
  {
   "cell_type": "code",
   "execution_count": 59,
   "metadata": {},
   "outputs": [
    {
     "data": {
      "text/plain": [
       "22.1383"
      ]
     },
     "execution_count": 59,
     "metadata": {},
     "output_type": "execute_result"
    },
    {
     "data": {
      "image/png": "[encoded data removed]",
      "text/plain": [
       "<matplotlib.figure.Figure at 0x10b3dfda0>"
      ]
     },
     "metadata": {},
     "output_type": "display_data"
    }
   ],
   "source": [
    "repeated_hist(JB, bins=range(60))"
   ]
  },
  {
   "cell_type": "markdown",
   "metadata": {},
   "source": [
    "The next two players have bi-modal distributions; some games they score a lot, some games not:"
   ]
  },
  {
   "cell_type": "code",
   "execution_count": 60,
   "metadata": {},
   "outputs": [
    {
     "data": {
      "text/plain": [
       "14.02429"
      ]
     },
     "execution_count": 60,
     "metadata": {},
     "output_type": "execute_result"
    },
    {
     "data": {
      "image/png": "[encoded data removed]",
      "text/plain": [
       "<matplotlib.figure.Figure at 0x11722ecf8>"
      ]
     },
     "metadata": {},
     "output_type": "display_data"
    }
   ],
   "source": [
    "repeated_hist(TR, bins=range(60))"
   ]
  },
  {
   "cell_type": "code",
   "execution_count": 61,
   "metadata": {},
   "outputs": [
    {
     "data": {
      "text/plain": [
       "11.70888"
      ]
     },
     "execution_count": 61,
     "metadata": {},
     "output_type": "execute_result"
    },
    {
     "data": {
      "image/png": "[encoded data removed]",
      "text/plain": [
       "<matplotlib.figure.Figure at 0x109c88d68>"
      ]
     },
     "metadata": {},
     "output_type": "display_data"
    }
   ],
   "source": [
    "repeated_hist(AH, bins=range(60))"
   ]
  },
  {
   "cell_type": "markdown",
   "metadata": {},
   "source": [
    "The fifth \"player\" (actually the sum of all the other players on the team, not really Aron Baymes, or they would have easily defeated the Cavaliers!) looks like this:"
   ]
  },
  {
   "cell_type": "code",
   "execution_count": 62,
   "metadata": {},
   "outputs": [
    {
     "data": {
      "text/plain": [
       "36.31564"
      ]
     },
     "execution_count": 62,
     "metadata": {},
     "output_type": "execute_result"
    },
    {
     "data": {
      "image/png": "[encoded data removed]",
      "text/plain": [
       "<matplotlib.figure.Figure at 0x117236320>"
      ]
     },
     "metadata": {},
     "output_type": "display_data"
    }
   ],
   "source": [
    "repeated_hist(AB, bins=range(60))"
   ]
  },
  {
   "cell_type": "markdown",
   "metadata": {},
   "source": [
    "Go ahead, add more players to the Celtics, each with their own scoring distribution. Modify and use the below template:\n",
    "```python\n",
    "def XX(): return posint(gauss(15.1, 3) + 3 * triangular(1, 4, 13)) # 30.1\n",
    "```\n",
    "\n",
    "Add then in the cell below:"
   ]
  },
  {
   "cell_type": "code",
   "execution_count": null,
   "metadata": {},
   "outputs": [],
   "source": []
  },
  {
   "cell_type": "markdown",
   "metadata": {},
   "source": [
    "Now we define the team score to be the sum of the five players, and look at the distribution. Don't forge to add your own players!"
   ]
  },
  {
   "cell_type": "code",
   "execution_count": 11,
   "metadata": {},
   "outputs": [
    {
     "data": {
      "text/plain": [
       "114.23708"
      ]
     },
     "execution_count": 11,
     "metadata": {},
     "output_type": "execute_result"
    },
    {
     "data": {
      "image/png": "[encoded data removed]",
      "text/plain": [
       "<matplotlib.figure.Figure at 0x1ee1e043f28>"
      ]
     },
     "metadata": {},
     "output_type": "display_data"
    }
   ],
   "source": [
    "def GSW(): return JT() + JB() + TR() + AH() + AB()  # + ... add your own players!\n",
    "\n",
    "repeated_hist(GSW, bins=range(70, 160, 2))"
   ]
  },
  {
   "cell_type": "markdown",
   "metadata": {},
   "source": [
    "Sure enough, this looks very much like a **normal distribution**! \n",
    "\n",
    "The Central Limit Theorem holds, and that is why the statistics of NBA teams are so *predictable*. \n",
    "\n",
    "When you have a lot of data, you have little doubt, and the Data Science is *easy*. Deep Learning ANNs are very good at building hypersurfaces that match all the state variables of past outcomes. When you are asked to predict new outcomes based on a partial subset of state variables (independent variables), machines just project the lower dimensional hypersurface onto the higher dimensional hypersurface (stored in very compact form) and fill in the missing dimensions in order to predict the dependent variables. \n",
    "\n",
    "<br />\n",
    "<center>\n",
    "    <img src=\"ipynb.images/manifold.jpg\" width=300 />\n",
    "</center>\n",
    "\n",
    "\n",
    "We saw just a few days ago how machines can even predict non-linear functions if we give them tons of data, but when the data is not enough, they *cannot* predict!\n",
    "\n",
    "So what do we do when we *don't have enough data*? Do we just give up? We'll see next week how **Bayesian statistics** come to the rescue, *when we have to deal with doubt*."
   ]
  },
  {
   "cell_type": "markdown",
   "metadata": {},
   "source": [
    "# Conclusion¶\n",
    "We've built a framework for estimating probabilities that will come in handy when you are asked to build data models. We *started playing* with **Bayes' theorem**, a *pillar* of data science, and we started learning about typical Data Science interview questions, which you should *always* answer in python because you *will* run out of space on the whiteboard if you use squiggly brackets and other languages! \n",
    "\n",
    "Next week we move on to statistical modeling and inference. \n",
    "\n",
    "**Modeling** (one `l` or 2 `l`s? See [here](https://www.grammarly.com/blog/modeling-or-modelling/)) happens when data is scarce and precious and hard to obtain, for example in social sciences and settings where it is difficult to conduct large-scale controlled experiments. With small data it is important to quantify uncertainty and that’s precisely what Bayesian approaches are good at. **Inference** refers to how you learn parameters of your model (Markov Chain Monte Carlo, or MCMC, albeit computationally expensive, is one of the most important methods for statistical inference), which is especially important with Bayesian Machine Learning, where we can actually inquire with Machines why this or that action was undertaken.\n",
    "\n",
    "*Alexa, why did you lower the temperature in the bedroom?* **Because your wife told me that whenever you start snoring, John, colder tempreatures make you bundle up under the cover and you snore less**. \n",
    "\n",
    "<br />\n",
    "<center>\n",
    "    <img src=\"ipynb.images/echo.jpg\" width=200 />\n",
    "</center>\n",
    "\n",
    "Best advice for interviews: Be explicit about what the problem says, have the interviewer verify the working hypotheses, be methodical about defining the sample space, be careful in counting the number of outcomes in the numerator and denominator, and finally use Bayes' theorem (or 1 minus the negation) whenever possible because you will be doing calculations by hand on a whiteboard!\n",
    "\n",
    "<br />\n",
    "<center>\n",
    "    <img src=\"ipynb.images/jobinterview.jpg\" width=400 />\n",
    "</center>"
   ]
  },
  {
   "cell_type": "markdown",
   "metadata": {},
   "source": [
    "# Homework for next week: Introduction to Data Science for Sports\n",
    "\n",
    "You will exercise your knowledge of probabilities and write down logic with python.\n",
    "\n",
    "<br />\n",
    "<center>\n",
    "    <img src=\"ipynb.images/F1GP20.png\" width=900 />\n",
    "</center>\n",
    "\n",
    "Question 1.1 (20 points) There are a number of F1 races coming up: \n",
    "- Germany GP: Date: October 9\n",
    "- Portugal GP: Date: October 23\n",
    "- Italy GP: Date: October 30\n",
    "\n",
    "We are just before the Germany Grand Prix (this coming weekend) and the Portugal Grand Prix the weekend after, as you can see [schedule](https://www.formula1.com/en/racing/2020.html). \n",
    "\n",
    "The 2020 driver standings are given [here](https://www.formula1.com/en/results.html/2020/drivers.html). Assume these standings for this weekend. Given these standings (please do not use team standings given on the same Web site, use ***driver standings***), what is the Probability Distribution for each F1 driver to win the Germany Grand Prix? What is the Probability Distribution for each F1 driver to win *both* the Germany and Portugal Grand Prix? What is the probability for Mercedes to win both races? What is the probability for Mercedes to win at least one race? Note that Mercedes, and each other racing team, has two drivers per race. Assume that German grand prix standings are not going to change driver standings by much, so you can use same standings for both races.\n",
    "\n",
    "Question 1.2 (30 points) If Mercedes wins the first race, what is the probability that Mercedes wins the next one? If Mercedes wins at least one of these two races, what is the probability Mercedes wins both races? How about Ferrari, McLaren, and Alfa Romeo?\n",
    "\n",
    "Question 1.3 (50 points) Mercedes wins at least one of these two races on a **rainy** day. What is the probability Mercedes wins both races, assuming races can be held on either rainy, sunny, cloudy, snowy or foggy days? Assume that rain, sun, clouds, snow, and fog are the *only possible weather conditions* on race tracks, and that they're equiprobable.\n",
    "\n",
    "You need to provide *proof* for your answers. `I think it's one in a million because Mercedes sucks and I like Ferrari a lot more` is not a good answer. Leverage the counting framework in this workbook!"
   ]
  },
  {
   "cell_type": "markdown",
   "metadata": {},
   "source": [
    "Hint: Use GermanyGrandPrix, or `GGP` to denote the Probability Distribution given by F1 driver wins. Write driver initials as keys and driver wins as values in a dictionary that you pass to our function `ProbDist`.."
   ]
  },
  {
   "cell_type": "markdown",
   "metadata": {},
   "source": [
    "1.1 a)Prpbability distribution of Germany Grand Prix\n"
   ]
  },
  {
   "cell_type": "code",
   "execution_count": 8,
   "metadata": {},
   "outputs": [
    {
     "data": {
      "text/plain": [
       "{'LH': 0.20098039215686275,\n",
       " 'VB': 0.15784313725490196,\n",
       " 'MV': 0.12549019607843137,\n",
       " 'LN': 0.06372549019607843,\n",
       " 'AA': 0.06274509803921569,\n",
       " 'DR': 0.061764705882352944,\n",
       " 'CL': 0.05588235294117647,\n",
       " 'LS': 0.05588235294117647,\n",
       " 'SP': 0.054901960784313725,\n",
       " 'PG': 0.04411764705882353,\n",
       " 'CS': 0.04019607843137255,\n",
       " 'EO': 0.03529411764705882,\n",
       " 'SV': 0.016666666666666666,\n",
       " 'DK': 0.013725490196078431,\n",
       " 'NH': 0.0058823529411764705,\n",
       " 'KR': 0.00196078431372549,\n",
       " 'AG': 0.00196078431372549,\n",
       " 'KM': 0.000980392156862745,\n",
       " 'NL': 0.0,\n",
       " 'GR': 0.0,\n",
       " 'RG': 0.0}"
      ]
     },
     "execution_count": 8,
     "metadata": {},
     "output_type": "execute_result"
    }
   ],
   "source": [
    "GGP = ProbDist(\n",
    "    LH = 205,\n",
    "    VB = 161,\n",
    "    MV = 128,\n",
    "    LN = 65,\n",
    "    AA = 64,\n",
    "    DR = 63,\n",
    "    CL = 57,\n",
    "    LS = 57,\n",
    "    SP = 56,\n",
    "    PG = 45,\n",
    "    CS = 41,\n",
    "    EO = 36,\n",
    "    SV = 17,\n",
    "    DK = 14,\n",
    "    NH = 6,\n",
    "    KR = 2,\n",
    "    AG = 2,\n",
    "    KM = 1,\n",
    "    NL = 0,\n",
    "    GR = 0,\n",
    "    RG = 0)\n",
    "GGP\n",
    "\n",
    "\n",
    "\n",
    "\n"
   ]
  },
  {
   "cell_type": "markdown",
   "metadata": {},
   "source": [
    "Probability distribution of Portugal Grand Prix"
   ]
  },
  {
   "cell_type": "code",
   "execution_count": 11,
   "metadata": {},
   "outputs": [
    {
     "data": {
      "text/plain": [
       "{'LH': 0.20098039215686275,\n",
       " 'VB': 0.15784313725490196,\n",
       " 'MV': 0.12549019607843137,\n",
       " 'LN': 0.06372549019607843,\n",
       " 'AA': 0.06274509803921569,\n",
       " 'DR': 0.061764705882352944,\n",
       " 'CL': 0.05588235294117647,\n",
       " 'LS': 0.05588235294117647,\n",
       " 'SP': 0.054901960784313725,\n",
       " 'PG': 0.04411764705882353,\n",
       " 'CS': 0.04019607843137255,\n",
       " 'EO': 0.03529411764705882,\n",
       " 'SV': 0.016666666666666666,\n",
       " 'DK': 0.013725490196078431,\n",
       " 'NH': 0.0058823529411764705,\n",
       " 'KR': 0.00196078431372549,\n",
       " 'AG': 0.00196078431372549,\n",
       " 'KM': 0.000980392156862745,\n",
       " 'NL': 0.0,\n",
       " 'GR': 0.0,\n",
       " 'RG': 0.0}"
      ]
     },
     "execution_count": 11,
     "metadata": {},
     "output_type": "execute_result"
    }
   ],
   "source": [
    "PGP = GGP\n",
    "PGP"
   ]
  },
  {
   "cell_type": "code",
   "execution_count": 4,
   "metadata": {},
   "outputs": [
    {
     "data": {
      "text/plain": [
       "{'LH': 'Mercedes',\n",
       " 'VB': 'Mercedes',\n",
       " 'MV': 'Red Bull Racing',\n",
       " 'LN': 'McLaren',\n",
       " 'AA': 'Red Bull Racing',\n",
       " 'DR': 'Renault',\n",
       " 'CL': 'Ferrari',\n",
       " 'LS': 'Racing Point',\n",
       " 'SP': 'Racing Point',\n",
       " 'PG': 'AlphaTauri',\n",
       " 'CS': 'McLaren',\n",
       " 'EO': 'Renault',\n",
       " 'SV': 'Ferrari',\n",
       " 'DK': 'AlphaTauri',\n",
       " 'NH': 'Racing Point',\n",
       " 'KR': 'Alfa Romeo Racing',\n",
       " 'AG': 'Alfa Romeo Racing',\n",
       " 'KM': 'Haas F1 Team',\n",
       " 'NL': 'Williams',\n",
       " 'GR': 'Williams',\n",
       " 'RG': 'Haas F1 Team'}"
      ]
     },
     "execution_count": 4,
     "metadata": {},
     "output_type": "execute_result"
    }
   ],
   "source": [
    "DC = {\n",
    "    'LH' : 'Mercedes',\n",
    "    'VB' : 'Mercedes',\n",
    "    'MV' : 'Red Bull Racing',\n",
    "    'LN' : 'McLaren',\n",
    "    'AA' : 'Red Bull Racing',\n",
    "    'DR' : 'Renault',\n",
    "    'CL' : 'Ferrari',\n",
    "    'LS' : 'Racing Point',\n",
    "    'SP' : 'Racing Point',\n",
    "    'PG' : 'AlphaTauri',\n",
    "    'CS' : 'McLaren',\n",
    "    'EO' : 'Renault',\n",
    "    'SV' : 'Ferrari',\n",
    "    'DK' : 'AlphaTauri',\n",
    "    'NH' : 'Racing Point',\n",
    "    'KR' : 'Alfa Romeo Racing',\n",
    "    'AG' : 'Alfa Romeo Racing',\n",
    "    'KM' : 'Haas F1 Team',\n",
    "    'NL' : 'Williams',\n",
    "    'GR' : 'Williams',\n",
    "    'RG' : 'Haas F1 Team'}\n",
    "DC"
   ]
  },
  {
   "cell_type": "markdown",
   "metadata": {},
   "source": [
    "1.1 b) Probability distribution of each driver winning both race\n"
   ]
  },
  {
   "cell_type": "code",
   "execution_count": 15,
   "metadata": {},
   "outputs": [
    {
     "data": {
      "text/plain": [
       "{'LHLH': 0.040393118031526315,\n",
       " 'LHVB': 0.031723375624759693,\n",
       " 'LHMV': 0.025221068819684726,\n",
       " 'LHLN': 0.01280757400999615,\n",
       " 'LHAA': 0.012610534409842363,\n",
       " 'LHDR': 0.012413494809688577,\n",
       " 'LHCL': 0.011231257208765855,\n",
       " 'LHLS': 0.011231257208765855,\n",
       " 'LHSP': 0.011034217608612068,\n",
       " 'LHPG': 0.008866782006920412,\n",
       " 'LHCS': 0.008078623606305265,\n",
       " 'LHEO': 0.007093425605536329,\n",
       " 'LHSV': 0.003349673202614378,\n",
       " 'LHDK': 0.002758554402153017,\n",
       " 'LHNH': 0.0011822376009227216,\n",
       " 'LHKR': 0.00039407920030757384,\n",
       " 'LHAG': 0.00039407920030757384,\n",
       " 'LHKM': 0.00019703960015378692,\n",
       " 'LHNL': 0.0,\n",
       " 'LHGR': 0.0,\n",
       " 'LHRG': 0.0,\n",
       " 'VBLH': 0.031723375624759693,\n",
       " 'VBVB': 0.024914455978469807,\n",
       " 'VBMV': 0.01980776624375239,\n",
       " 'VBLN': 0.01005863129565551,\n",
       " 'VBAA': 0.009903883121876195,\n",
       " 'VBDR': 0.009749134948096882,\n",
       " 'VBCL': 0.008820645905420988,\n",
       " 'VBLS': 0.008820645905420988,\n",
       " 'VBSP': 0.008665897731641673,\n",
       " 'VBPG': 0.006963667820069201,\n",
       " 'VBCS': 0.0063446751249519396,\n",
       " 'VBEO': 0.0055709342560553606,\n",
       " 'VBSV': 0.0026307189542483646,\n",
       " 'VBDK': 0.0021664744329104183,\n",
       " 'VBNH': 0.0009284890426758934,\n",
       " 'VBKR': 0.0003094963475586311,\n",
       " 'VBAG': 0.0003094963475586311,\n",
       " 'VBKM': 0.00015474817377931555,\n",
       " 'VBNL': 0.0,\n",
       " 'VBGR': 0.0,\n",
       " 'VBRG': 0.0,\n",
       " 'MVLH': 0.025221068819684726,\n",
       " 'MVVB': 0.01980776624375239,\n",
       " 'MVMV': 0.015747789311803144,\n",
       " 'MVLN': 0.007996924259900035,\n",
       " 'MVAA': 0.007873894655901572,\n",
       " 'MVDR': 0.007750865051903111,\n",
       " 'MVCL': 0.0070126874279123385,\n",
       " 'MVLS': 0.0070126874279123385,\n",
       " 'MVSP': 0.006889657823913876,\n",
       " 'MVPG': 0.005536332179930794,\n",
       " 'MVCS': 0.005044213763936945,\n",
       " 'MVEO': 0.0044290657439446345,\n",
       " 'MVSV': 0.002091503267973855,\n",
       " 'MVDK': 0.001722414455978469,\n",
       " 'MVNH': 0.0007381776239907725,\n",
       " 'MVKR': 0.0002460592079969241,\n",
       " 'MVAG': 0.0002460592079969241,\n",
       " 'MVKM': 0.00012302960399846206,\n",
       " 'MVNL': 0.0,\n",
       " 'MVGR': 0.0,\n",
       " 'MVRG': 0.0,\n",
       " 'LNLH': 0.01280757400999615,\n",
       " 'LNVB': 0.01005863129565551,\n",
       " 'LNMV': 0.007996924259900035,\n",
       " 'LNLN': 0.004060938100730486,\n",
       " 'LNAA': 0.003998462129950017,\n",
       " 'LNDR': 0.003935986159169548,\n",
       " 'LNCL': 0.003561130334486734,\n",
       " 'LNLS': 0.003561130334486734,\n",
       " 'LNSP': 0.0034986543637062647,\n",
       " 'LNPG': 0.002811418685121106,\n",
       " 'LNCS': 0.0025615148019992296,\n",
       " 'LNEO': 0.0022491349480968847,\n",
       " 'LNSV': 0.0010620915032679733,\n",
       " 'LNDK': 0.0008746635909265662,\n",
       " 'LNNH': 0.0003748558246828141,\n",
       " 'LNKR': 0.00012495194156093804,\n",
       " 'LNAG': 0.00012495194156093804,\n",
       " 'LNKM': 6.247597078046902e-05,\n",
       " 'LNNL': 0.0,\n",
       " 'LNGR': 0.0,\n",
       " 'LNRG': 0.0,\n",
       " 'AALH': 0.012610534409842363,\n",
       " 'AAVB': 0.009903883121876195,\n",
       " 'AAMV': 0.007873894655901572,\n",
       " 'AALN': 0.003998462129950017,\n",
       " 'AAAA': 0.003936947327950786,\n",
       " 'AADR': 0.0038754325259515556,\n",
       " 'AACL': 0.0035063437139561692,\n",
       " 'AALS': 0.0035063437139561692,\n",
       " 'AASP': 0.003444828911956938,\n",
       " 'AAPG': 0.002768166089965397,\n",
       " 'AACS': 0.0025221068819684723,\n",
       " 'AAEO': 0.0022145328719723172,\n",
       " 'AASV': 0.0010457516339869276,\n",
       " 'AADK': 0.0008612072279892345,\n",
       " 'AANH': 0.00036908881199538624,\n",
       " 'AAKR': 0.00012302960399846206,\n",
       " 'AAAG': 0.00012302960399846206,\n",
       " 'AAKM': 6.151480199923103e-05,\n",
       " 'AANL': 0.0,\n",
       " 'AAGR': 0.0,\n",
       " 'AARG': 0.0,\n",
       " 'DRLH': 0.012413494809688577,\n",
       " 'DRVB': 0.009749134948096882,\n",
       " 'DRMV': 0.007750865051903111,\n",
       " 'DRLN': 0.003935986159169548,\n",
       " 'DRAA': 0.0038754325259515556,\n",
       " 'DRDR': 0.0038148788927335627,\n",
       " 'DRCL': 0.003451557093425604,\n",
       " 'DRLS': 0.003451557093425604,\n",
       " 'DRSP': 0.0033910034602076112,\n",
       " 'DRPG': 0.0027249134948096874,\n",
       " 'DRCS': 0.0024826989619377154,\n",
       " 'DREO': 0.00217993079584775,\n",
       " 'DRSV': 0.001029411764705882,\n",
       " 'DRDK': 0.0008477508650519028,\n",
       " 'DRNH': 0.0003633217993079583,\n",
       " 'DRKR': 0.00012110726643598611,\n",
       " 'DRAG': 0.00012110726643598611,\n",
       " 'DRKM': 6.0553633217993056e-05,\n",
       " 'DRNL': 0.0,\n",
       " 'DRGR': 0.0,\n",
       " 'DRRG': 0.0,\n",
       " 'CLLH': 0.011231257208765855,\n",
       " 'CLVB': 0.008820645905420988,\n",
       " 'CLMV': 0.0070126874279123385,\n",
       " 'CLLN': 0.003561130334486734,\n",
       " 'CLAA': 0.0035063437139561692,\n",
       " 'CLDR': 0.003451557093425604,\n",
       " 'CLCL': 0.0031228373702422135,\n",
       " 'CLLS': 0.0031228373702422135,\n",
       " 'CLSP': 0.0030680507497116483,\n",
       " 'CLPG': 0.0024653979238754317,\n",
       " 'CLCS': 0.0022462514417531713,\n",
       " 'CLEO': 0.0019723183391003453,\n",
       " 'CLSV': 0.0009313725490196074,\n",
       " 'CLDK': 0.0007670126874279121,\n",
       " 'CLNH': 0.0003287197231833909,\n",
       " 'CLKR': 0.00010957324106113029,\n",
       " 'CLAG': 0.00010957324106113029,\n",
       " 'CLKM': 5.4786620530565144e-05,\n",
       " 'CLNL': 0.0,\n",
       " 'CLGR': 0.0,\n",
       " 'CLRG': 0.0,\n",
       " 'LSLH': 0.011231257208765855,\n",
       " 'LSVB': 0.008820645905420988,\n",
       " 'LSMV': 0.0070126874279123385,\n",
       " 'LSLN': 0.003561130334486734,\n",
       " 'LSAA': 0.0035063437139561692,\n",
       " 'LSDR': 0.003451557093425604,\n",
       " 'LSCL': 0.0031228373702422135,\n",
       " 'LSLS': 0.0031228373702422135,\n",
       " 'LSSP': 0.0030680507497116483,\n",
       " 'LSPG': 0.0024653979238754317,\n",
       " 'LSCS': 0.0022462514417531713,\n",
       " 'LSEO': 0.0019723183391003453,\n",
       " 'LSSV': 0.0009313725490196074,\n",
       " 'LSDK': 0.0007670126874279121,\n",
       " 'LSNH': 0.0003287197231833909,\n",
       " 'LSKR': 0.00010957324106113029,\n",
       " 'LSAG': 0.00010957324106113029,\n",
       " 'LSKM': 5.4786620530565144e-05,\n",
       " 'LSNL': 0.0,\n",
       " 'LSGR': 0.0,\n",
       " 'LSRG': 0.0,\n",
       " 'SPLH': 0.011034217608612068,\n",
       " 'SPVB': 0.008665897731641673,\n",
       " 'SPMV': 0.006889657823913876,\n",
       " 'SPLN': 0.0034986543637062647,\n",
       " 'SPAA': 0.003444828911956938,\n",
       " 'SPDR': 0.0033910034602076112,\n",
       " 'SPCL': 0.0030680507497116483,\n",
       " 'SPLS': 0.0030680507497116483,\n",
       " 'SPSP': 0.0030142252979623208,\n",
       " 'SPPG': 0.0024221453287197226,\n",
       " 'SPCS': 0.0022068435217224135,\n",
       " 'SPEO': 0.0019377162629757776,\n",
       " 'SPSV': 0.0009150326797385616,\n",
       " 'SPDK': 0.0007535563244905802,\n",
       " 'SPNH': 0.0003229527104959629,\n",
       " 'SPKR': 0.00010765090349865431,\n",
       " 'SPAG': 0.00010765090349865431,\n",
       " 'SPKM': 5.3825451749327156e-05,\n",
       " 'SPNL': 0.0,\n",
       " 'SPGR': 0.0,\n",
       " 'SPRG': 0.0,\n",
       " 'PGLH': 0.008866782006920412,\n",
       " 'PGVB': 0.006963667820069201,\n",
       " 'PGMV': 0.005536332179930794,\n",
       " 'PGLN': 0.002811418685121106,\n",
       " 'PGAA': 0.002768166089965397,\n",
       " 'PGDR': 0.0027249134948096874,\n",
       " 'PGCL': 0.0024653979238754317,\n",
       " 'PGLS': 0.0024653979238754317,\n",
       " 'PGSP': 0.0024221453287197226,\n",
       " 'PGPG': 0.0019463667820069199,\n",
       " 'PGCS': 0.0017733564013840825,\n",
       " 'PGEO': 0.0015570934256055357,\n",
       " 'PGSV': 0.0007352941176470585,\n",
       " 'PGDK': 0.0006055363321799306,\n",
       " 'PGNH': 0.00025951557093425597,\n",
       " 'PGKR': 8.650519031141866e-05,\n",
       " 'PGAG': 8.650519031141866e-05,\n",
       " 'PGKM': 4.325259515570933e-05,\n",
       " 'PGNL': 0.0,\n",
       " 'PGGR': 0.0,\n",
       " 'PGRG': 0.0,\n",
       " 'CSLH': 0.008078623606305265,\n",
       " 'CSVB': 0.0063446751249519396,\n",
       " 'CSMV': 0.005044213763936945,\n",
       " 'CSLN': 0.0025615148019992296,\n",
       " 'CSAA': 0.0025221068819684723,\n",
       " 'CSDR': 0.0024826989619377154,\n",
       " 'CSCL': 0.0022462514417531713,\n",
       " 'CSLS': 0.0022462514417531713,\n",
       " 'CSSP': 0.0022068435217224135,\n",
       " 'CSPG': 0.0017733564013840825,\n",
       " 'CSCS': 0.001615724721261053,\n",
       " 'CSEO': 0.001418685121107266,\n",
       " 'CSSV': 0.0006699346405228756,\n",
       " 'CSDK': 0.0005517108804306034,\n",
       " 'CSNH': 0.00023644752018454432,\n",
       " 'CSKR': 7.881584006151476e-05,\n",
       " 'CSAG': 7.881584006151476e-05,\n",
       " 'CSKM': 3.940792003075738e-05,\n",
       " 'CSNL': 0.0,\n",
       " 'CSGR': 0.0,\n",
       " 'CSRG': 0.0,\n",
       " 'EOLH': 0.007093425605536329,\n",
       " 'EOVB': 0.0055709342560553606,\n",
       " 'EOMV': 0.0044290657439446345,\n",
       " 'EOLN': 0.0022491349480968847,\n",
       " 'EOAA': 0.0022145328719723172,\n",
       " 'EODR': 0.00217993079584775,\n",
       " 'EOCL': 0.0019723183391003453,\n",
       " 'EOLS': 0.0019723183391003453,\n",
       " 'EOSP': 0.0019377162629757776,\n",
       " 'EOPG': 0.0015570934256055357,\n",
       " 'EOCS': 0.001418685121107266,\n",
       " 'EOEO': 0.0012456747404844283,\n",
       " 'EOSV': 0.0005882352941176468,\n",
       " 'EODK': 0.0004844290657439444,\n",
       " 'EONH': 0.00020761245674740477,\n",
       " 'EOKR': 6.920415224913491e-05,\n",
       " 'EOAG': 6.920415224913491e-05,\n",
       " 'EOKM': 3.460207612456746e-05,\n",
       " 'EONL': 0.0,\n",
       " 'EOGR': 0.0,\n",
       " 'EORG': 0.0,\n",
       " 'SVLH': 0.003349673202614378,\n",
       " 'SVVB': 0.0026307189542483646,\n",
       " 'SVMV': 0.002091503267973855,\n",
       " 'SVLN': 0.0010620915032679733,\n",
       " 'SVAA': 0.0010457516339869276,\n",
       " 'SVDR': 0.001029411764705882,\n",
       " 'SVCL': 0.0009313725490196074,\n",
       " 'SVLS': 0.0009313725490196074,\n",
       " 'SVSP': 0.0009150326797385616,\n",
       " 'SVPG': 0.0007352941176470585,\n",
       " 'SVCS': 0.0006699346405228756,\n",
       " 'SVEO': 0.0005882352941176468,\n",
       " 'SVSV': 0.00027777777777777767,\n",
       " 'SVDK': 0.0002287581699346404,\n",
       " 'SVNH': 9.803921568627447e-05,\n",
       " 'SVKR': 3.2679738562091486e-05,\n",
       " 'SVAG': 3.2679738562091486e-05,\n",
       " 'SVKM': 1.6339869281045743e-05,\n",
       " 'SVNL': 0.0,\n",
       " 'SVGR': 0.0,\n",
       " 'SVRG': 0.0,\n",
       " 'DKLH': 0.002758554402153017,\n",
       " 'DKVB': 0.0021664744329104183,\n",
       " 'DKMV': 0.001722414455978469,\n",
       " 'DKLN': 0.0008746635909265662,\n",
       " 'DKAA': 0.0008612072279892345,\n",
       " 'DKDR': 0.0008477508650519028,\n",
       " 'DKCL': 0.0007670126874279121,\n",
       " 'DKLS': 0.0007670126874279121,\n",
       " 'DKSP': 0.0007535563244905802,\n",
       " 'DKPG': 0.0006055363321799306,\n",
       " 'DKCS': 0.0005517108804306034,\n",
       " 'DKEO': 0.0004844290657439444,\n",
       " 'DKSV': 0.0002287581699346404,\n",
       " 'DKDK': 0.00018838908112264505,\n",
       " 'DKNH': 8.073817762399072e-05,\n",
       " 'DKKR': 2.6912725874663578e-05,\n",
       " 'DKAG': 2.6912725874663578e-05,\n",
       " 'DKKM': 1.3456362937331789e-05,\n",
       " 'DKNL': 0.0,\n",
       " 'DKGR': 0.0,\n",
       " 'DKRG': 0.0,\n",
       " 'NHLH': 0.0011822376009227216,\n",
       " 'NHVB': 0.0009284890426758934,\n",
       " 'NHMV': 0.0007381776239907725,\n",
       " 'NHLN': 0.0003748558246828141,\n",
       " 'NHAA': 0.00036908881199538624,\n",
       " 'NHDR': 0.0003633217993079583,\n",
       " 'NHCL': 0.0003287197231833909,\n",
       " 'NHLS': 0.0003287197231833909,\n",
       " 'NHSP': 0.0003229527104959629,\n",
       " 'NHPG': 0.00025951557093425597,\n",
       " 'NHCS': 0.00023644752018454432,\n",
       " 'NHEO': 0.00020761245674740477,\n",
       " 'NHSV': 9.803921568627447e-05,\n",
       " 'NHDK': 8.073817762399072e-05,\n",
       " 'NHNH': 3.460207612456746e-05,\n",
       " 'NHKR': 1.153402537485582e-05,\n",
       " 'NHAG': 1.153402537485582e-05,\n",
       " 'NHKM': 5.76701268742791e-06,\n",
       " 'NHNL': 0.0,\n",
       " 'NHGR': 0.0,\n",
       " 'NHRG': 0.0,\n",
       " 'KRLH': 0.00039407920030757384,\n",
       " 'KRVB': 0.0003094963475586311,\n",
       " 'KRMV': 0.0002460592079969241,\n",
       " 'KRLN': 0.00012495194156093804,\n",
       " 'KRAA': 0.00012302960399846206,\n",
       " 'KRDR': 0.00012110726643598611,\n",
       " 'KRCL': 0.00010957324106113029,\n",
       " 'KRLS': 0.00010957324106113029,\n",
       " 'KRSP': 0.00010765090349865431,\n",
       " 'KRPG': 8.650519031141866e-05,\n",
       " 'KRCS': 7.881584006151476e-05,\n",
       " 'KREO': 6.920415224913491e-05,\n",
       " 'KRSV': 3.2679738562091486e-05,\n",
       " 'KRDK': 2.6912725874663578e-05,\n",
       " 'KRNH': 1.153402537485582e-05,\n",
       " 'KRKR': 3.8446751249519394e-06,\n",
       " 'KRAG': 3.8446751249519394e-06,\n",
       " 'KRKM': 1.9223375624759697e-06,\n",
       " 'KRNL': 0.0,\n",
       " 'KRGR': 0.0,\n",
       " 'KRRG': 0.0,\n",
       " 'AGLH': 0.00039407920030757384,\n",
       " 'AGVB': 0.0003094963475586311,\n",
       " 'AGMV': 0.0002460592079969241,\n",
       " 'AGLN': 0.00012495194156093804,\n",
       " 'AGAA': 0.00012302960399846206,\n",
       " 'AGDR': 0.00012110726643598611,\n",
       " 'AGCL': 0.00010957324106113029,\n",
       " 'AGLS': 0.00010957324106113029,\n",
       " 'AGSP': 0.00010765090349865431,\n",
       " 'AGPG': 8.650519031141866e-05,\n",
       " 'AGCS': 7.881584006151476e-05,\n",
       " 'AGEO': 6.920415224913491e-05,\n",
       " 'AGSV': 3.2679738562091486e-05,\n",
       " 'AGDK': 2.6912725874663578e-05,\n",
       " 'AGNH': 1.153402537485582e-05,\n",
       " 'AGKR': 3.8446751249519394e-06,\n",
       " 'AGAG': 3.8446751249519394e-06,\n",
       " 'AGKM': 1.9223375624759697e-06,\n",
       " 'AGNL': 0.0,\n",
       " 'AGGR': 0.0,\n",
       " 'AGRG': 0.0,\n",
       " 'KMLH': 0.00019703960015378692,\n",
       " 'KMVB': 0.00015474817377931555,\n",
       " 'KMMV': 0.00012302960399846206,\n",
       " 'KMLN': 6.247597078046902e-05,\n",
       " 'KMAA': 6.151480199923103e-05,\n",
       " 'KMDR': 6.0553633217993056e-05,\n",
       " 'KMCL': 5.4786620530565144e-05,\n",
       " 'KMLS': 5.4786620530565144e-05,\n",
       " 'KMSP': 5.3825451749327156e-05,\n",
       " 'KMPG': 4.325259515570933e-05,\n",
       " 'KMCS': 3.940792003075738e-05,\n",
       " 'KMEO': 3.460207612456746e-05,\n",
       " 'KMSV': 1.6339869281045743e-05,\n",
       " 'KMDK': 1.3456362937331789e-05,\n",
       " 'KMNH': 5.76701268742791e-06,\n",
       " 'KMKR': 1.9223375624759697e-06,\n",
       " 'KMAG': 1.9223375624759697e-06,\n",
       " 'KMKM': 9.611687812379849e-07,\n",
       " 'KMNL': 0.0,\n",
       " 'KMGR': 0.0,\n",
       " 'KMRG': 0.0,\n",
       " 'NLLH': 0.0,\n",
       " 'NLVB': 0.0,\n",
       " 'NLMV': 0.0,\n",
       " 'NLLN': 0.0,\n",
       " 'NLAA': 0.0,\n",
       " 'NLDR': 0.0,\n",
       " 'NLCL': 0.0,\n",
       " 'NLLS': 0.0,\n",
       " 'NLSP': 0.0,\n",
       " 'NLPG': 0.0,\n",
       " 'NLCS': 0.0,\n",
       " 'NLEO': 0.0,\n",
       " 'NLSV': 0.0,\n",
       " 'NLDK': 0.0,\n",
       " 'NLNH': 0.0,\n",
       " 'NLKR': 0.0,\n",
       " 'NLAG': 0.0,\n",
       " 'NLKM': 0.0,\n",
       " 'NLNL': 0.0,\n",
       " 'NLGR': 0.0,\n",
       " 'NLRG': 0.0,\n",
       " 'GRLH': 0.0,\n",
       " 'GRVB': 0.0,\n",
       " 'GRMV': 0.0,\n",
       " 'GRLN': 0.0,\n",
       " 'GRAA': 0.0,\n",
       " 'GRDR': 0.0,\n",
       " 'GRCL': 0.0,\n",
       " 'GRLS': 0.0,\n",
       " 'GRSP': 0.0,\n",
       " 'GRPG': 0.0,\n",
       " 'GRCS': 0.0,\n",
       " 'GREO': 0.0,\n",
       " 'GRSV': 0.0,\n",
       " 'GRDK': 0.0,\n",
       " 'GRNH': 0.0,\n",
       " 'GRKR': 0.0,\n",
       " 'GRAG': 0.0,\n",
       " 'GRKM': 0.0,\n",
       " 'GRNL': 0.0,\n",
       " 'GRGR': 0.0,\n",
       " 'GRRG': 0.0,\n",
       " 'RGLH': 0.0,\n",
       " 'RGVB': 0.0,\n",
       " 'RGMV': 0.0,\n",
       " 'RGLN': 0.0,\n",
       " 'RGAA': 0.0,\n",
       " 'RGDR': 0.0,\n",
       " 'RGCL': 0.0,\n",
       " 'RGLS': 0.0,\n",
       " 'RGSP': 0.0,\n",
       " 'RGPG': 0.0,\n",
       " 'RGCS': 0.0,\n",
       " 'RGEO': 0.0,\n",
       " 'RGSV': 0.0,\n",
       " 'RGDK': 0.0,\n",
       " 'RGNH': 0.0,\n",
       " 'RGKR': 0.0,\n",
       " 'RGAG': 0.0,\n",
       " 'RGKM': 0.0,\n",
       " 'RGNL': 0.0,\n",
       " 'RGGR': 0.0,\n",
       " 'RGRG': 0.0}"
      ]
     },
     "execution_count": 15,
     "metadata": {},
     "output_type": "execute_result"
    }
   ],
   "source": [
    "def joint(A,B):\n",
    "    \"\"\"The joint distribution of two independent probability distributions. \n",
    "    Result is all entries of the form {a+sep+b: P(a)*P(b)}\"\"\"\n",
    "    return ProbDist({a+b : A[a] * B[b]\n",
    "                    for a in A for b in B})\n",
    "                    \n",
    "\n",
    "PGGP = joint(GGP, PGP)\n",
    "PGGP\n",
    "\n",
    "\n",
    "\n",
    "\n"
   ]
  },
  {
   "cell_type": "markdown",
   "metadata": {},
   "source": [
    "Probability of mercedes winning first race"
   ]
  },
  {
   "cell_type": "code",
   "execution_count": 17,
   "metadata": {},
   "outputs": [
    {
     "data": {
      "text/plain": [
       "0.3588235294117647"
      ]
     },
     "execution_count": 17,
     "metadata": {},
     "output_type": "execute_result"
    }
   ],
   "source": [
    "pmwf = GGP['LH']+GGP['VB']\n",
    "pmwf"
   ]
  },
  {
   "cell_type": "markdown",
   "metadata": {},
   "source": [
    "Probability of mercedes winning second race"
   ]
  },
  {
   "cell_type": "code",
   "execution_count": 70,
   "metadata": {},
   "outputs": [
    {
     "data": {
      "text/plain": [
       "0.3588235294117647"
      ]
     },
     "execution_count": 70,
     "metadata": {},
     "output_type": "execute_result"
    }
   ],
   "source": [
    "pmws = PGP['LH']+PGP['VB']\n",
    "pmws"
   ]
  },
  {
   "cell_type": "markdown",
   "metadata": {},
   "source": [
    "1.1 c) Probabilty of Mercedes winning both race\n"
   ]
  },
  {
   "cell_type": "code",
   "execution_count": 19,
   "metadata": {},
   "outputs": [
    {
     "data": {
      "text/plain": [
       "0.12875432525951558"
      ]
     },
     "execution_count": 19,
     "metadata": {},
     "output_type": "execute_result"
    }
   ],
   "source": [
    "def bothwin(a,b):\n",
    "    return a*b\n",
    "\n",
    "bothwin(pmwf,pmws)\n",
    "\n",
    "\n",
    "\n",
    "\n"
   ]
  },
  {
   "cell_type": "markdown",
   "metadata": {},
   "source": [
    "1.1 d) Probability of Mercedes winning atleast one race (1-p(mercedes losing all race)\n"
   ]
  },
  {
   "cell_type": "markdown",
   "metadata": {},
   "source": [
    "p_losing = 1- p_winning"
   ]
  },
  {
   "cell_type": "code",
   "execution_count": 29,
   "metadata": {},
   "outputs": [
    {
     "name": "stdout",
     "output_type": "stream",
     "text": [
      "Probabilty pf losing all race : 0.4111072664359861\n",
      "Probabilty pf winning at least one race : 0.588892733564014\n"
     ]
    }
   ],
   "source": [
    "pmlf = 1-pmwf\n",
    "pmls = 1-pmws\n",
    "\n",
    "PML = pmlf * pmls\n",
    "print(\"Probabilty of losing all race : \"+str(PML))\n",
    "PWL = 1-PML\n",
    "print(\"Probabilty of winning at least one race : \"+str(PWL))\n",
    "\n",
    "\n",
    "\n",
    "\n",
    "\n",
    "\n",
    "\n"
   ]
  },
  {
   "cell_type": "markdown",
   "metadata": {},
   "source": [
    "Defining the terms"
   ]
  },
  {
   "cell_type": "code",
   "execution_count": 33,
   "metadata": {},
   "outputs": [],
   "source": [
    "def first_race_mercedes(outcome):  return outcome.startswith('LH') or outcome.startswith('VB')\n",
    "def second_race_mercedes(outcome):  return outcome.endswith('LH') or outcome.endswith('VB')\n",
    "\n",
    "def atleast_one_race_mercedes(outcome):  return (outcome.startswith('LH')) or (outcome.startswith('VB')) or (outcome.endswith('LH')) or (outcome.endswith('VB'))\n",
    "def both_race_mercedes(outcome):  return (outcome.startswith('LHLH')) or (outcome.startswith('VBVB')) or (outcome.startswith('LHVB')) or (outcome.startswith('VBLH'))"
   ]
  },
  {
   "cell_type": "markdown",
   "metadata": {},
   "source": [
    "1.2 "
   ]
  },
  {
   "cell_type": "code",
   "execution_count": 34,
   "metadata": {},
   "outputs": [
    {
     "data": {
      "text/plain": [
       "0.3588235294117647"
      ]
     },
     "execution_count": 34,
     "metadata": {},
     "output_type": "execute_result"
    }
   ],
   "source": [
    "p(first_race_mercedes, GGP)"
   ]
  },
  {
   "cell_type": "markdown",
   "metadata": {},
   "source": [
    "1.2 a) If Mercedes wins the first race, what is the probability that Mercedes wins the next one\n",
    "\n",
    "\n",
    "\n"
   ]
  },
  {
   "cell_type": "code",
   "execution_count": 36,
   "metadata": {},
   "outputs": [
    {
     "data": {
      "text/plain": [
       "0.3588235294117648"
      ]
     },
     "execution_count": 36,
     "metadata": {},
     "output_type": "execute_result"
    }
   ],
   "source": [
    "p(second_race_mercedes, such_that(first_race_mercedes, PGGP))\n",
    "\n",
    "\n",
    "\n",
    "\n"
   ]
  },
  {
   "cell_type": "raw",
   "metadata": {},
   "source": [
    "1.2 b) If Mercedes wins at least one of these two races, what is the probability Mercedes wins both races on a rainy day\n",
    "\n",
    "\n",
    "\n",
    "\n",
    "\n"
   ]
  },
  {
   "cell_type": "code",
   "execution_count": 37,
   "metadata": {},
   "outputs": [
    {
     "data": {
      "text/plain": [
       "0.21863799283154128"
      ]
     },
     "execution_count": 37,
     "metadata": {},
     "output_type": "execute_result"
    }
   ],
   "source": [
    "p(both_race_mercedes, such_that(atleast_one_race_mercedes, PGGP))\n",
    "\n",
    "\n",
    "\n",
    "\n"
   ]
  },
  {
   "cell_type": "markdown",
   "metadata": {},
   "source": [
    "#Ferrari\n",
    "\n",
    "\n"
   ]
  },
  {
   "cell_type": "code",
   "execution_count": 39,
   "metadata": {},
   "outputs": [],
   "source": [
    "def first_race_ferrari(outcome):  return outcome.startswith('CL') or outcome.startswith('SV')\n",
    "def second_race_ferrari(outcome):  return outcome.endswith('CL') or outcome.endswith('SV')\n",
    "\n",
    "def atleast_one_race_ferrari(outcome):  return (outcome.startswith('CL')) or (outcome.startswith('SV')) or (outcome.endswith('CL')) or (outcome.endswith('SV'))\n",
    "def both_race_ferrari(outcome):  return (outcome.startswith('CLCL')) or (outcome.startswith('SVSV')) or (outcome.startswith('CLSV')) or (outcome.startswith('SVCL'))"
   ]
  },
  {
   "cell_type": "markdown",
   "metadata": {},
   "source": [
    "1.2 c) If Ferrari wins the first race, what is the probability that Ferrari wins the next one\n",
    "\n",
    "\n",
    "\n",
    "\n"
   ]
  },
  {
   "cell_type": "code",
   "execution_count": 40,
   "metadata": {},
   "outputs": [
    {
     "data": {
      "text/plain": [
       "0.07254901960784312"
      ]
     },
     "execution_count": 40,
     "metadata": {},
     "output_type": "execute_result"
    }
   ],
   "source": [
    "p(second_race_ferrari, such_that(first_race_ferrari, PGGP))"
   ]
  },
  {
   "cell_type": "markdown",
   "metadata": {},
   "source": [
    "1.2 d) If Ferrari wins at least one of these two races, what is the probability Ferrari wins both races\n",
    "\n",
    "\n",
    "\n",
    "\n"
   ]
  },
  {
   "cell_type": "code",
   "execution_count": 41,
   "metadata": {},
   "outputs": [
    {
     "data": {
      "text/plain": [
       "0.037639877924720275"
      ]
     },
     "execution_count": 41,
     "metadata": {},
     "output_type": "execute_result"
    }
   ],
   "source": [
    "p(both_race_ferrari, such_that(atleast_one_race_ferrari, PGGP))\n"
   ]
  },
  {
   "cell_type": "code",
   "execution_count": null,
   "metadata": {},
   "outputs": [],
   "source": [
    "# McLaren\n",
    "\n",
    "\n",
    "\n"
   ]
  },
  {
   "cell_type": "code",
   "execution_count": 42,
   "metadata": {},
   "outputs": [],
   "source": [
    "def first_race_mclaren(outcome):  return outcome.startswith('LN') or outcome.startswith('CS')\n",
    "def second_race_mclaren(outcome):  return outcome.endswith('LN') or outcome.endswith('CS')\n",
    "\n",
    "def atleast_one_race_mclaren(outcome):  return (outcome.startswith('LN')) or (outcome.startswith('CS')) or (outcome.endswith('LN')) or (outcome.endswith('CS'))\n",
    "def both_race_mclaren(outcome):  return (outcome.startswith('LNLN')) or (outcome.startswith('CSCS')) or (outcome.startswith('LNCS')) or (outcome.startswith('CSLN'))"
   ]
  },
  {
   "cell_type": "markdown",
   "metadata": {},
   "source": [
    "1.2 e) If McLaren wins the first race, what is the probability that McLaren wins the next one\n",
    "\n",
    "\n",
    "\n",
    "\n"
   ]
  },
  {
   "cell_type": "code",
   "execution_count": 43,
   "metadata": {},
   "outputs": [
    {
     "data": {
      "text/plain": [
       "0.10392156862745099"
      ]
     },
     "execution_count": 43,
     "metadata": {},
     "output_type": "execute_result"
    }
   ],
   "source": [
    "p(second_race_mclaren, such_that(first_race_mclaren, PGGP))"
   ]
  },
  {
   "cell_type": "markdown",
   "metadata": {},
   "source": [
    "1.2 f) If McLaren wins at least one of these two races, what is the probability McLaren wins both races\n",
    "\n",
    "\n",
    "\n",
    "\n"
   ]
  },
  {
   "cell_type": "code",
   "execution_count": 44,
   "metadata": {},
   "outputs": [
    {
     "data": {
      "text/plain": [
       "0.054808686659772544"
      ]
     },
     "execution_count": 44,
     "metadata": {},
     "output_type": "execute_result"
    }
   ],
   "source": [
    "p(both_race_mclaren, such_that(atleast_one_race_mclaren, PGGP))"
   ]
  },
  {
   "cell_type": "code",
   "execution_count": null,
   "metadata": {},
   "outputs": [],
   "source": [
    "# Alfa Romeo\n",
    "\n",
    "\n",
    "\n"
   ]
  },
  {
   "cell_type": "code",
   "execution_count": 46,
   "metadata": {},
   "outputs": [],
   "source": [
    "def first_race_alfaRomeo(outcome):  return outcome.startswith('KR') or outcome.startswith('AG')\n",
    "def second_race_alfaRomeo(outcome):  return outcome.endswith('KR') or outcome.endswith('AG')\n",
    "\n",
    "def atleast_one_race_alfaRomeo(outcome):  return (outcome.startswith('KR')) or (outcome.startswith('AG')) or (outcome.endswith('KR')) or (outcome.endswith('AG'))\n",
    "def both_race_alfaRomeo(outcome):  return (outcome.startswith('KRKR')) or (outcome.startswith('AGAG')) or (outcome.startswith('KRAG')) or (outcome.startswith('AGKR'))"
   ]
  },
  {
   "cell_type": "markdown",
   "metadata": {},
   "source": [
    "1.2 g) If Alfa Romeo wins the first race, what is the probability that Alfa Romeo wins the next one\n",
    "\n",
    "\n",
    "\n",
    "\n",
    "\n"
   ]
  },
  {
   "cell_type": "code",
   "execution_count": 47,
   "metadata": {},
   "outputs": [
    {
     "data": {
      "text/plain": [
       "0.00392156862745098"
      ]
     },
     "execution_count": 47,
     "metadata": {},
     "output_type": "execute_result"
    }
   ],
   "source": [
    "p(second_race_alfaRomeo, such_that(first_race_alfaRomeo, PGGP))"
   ]
  },
  {
   "cell_type": "markdown",
   "metadata": {},
   "source": [
    "1.2 h) If Alfa Romeo wins at least one of these two races, what is the probability Alfa Romeo wins both races\n",
    "\n",
    "\n",
    "\n",
    "\n",
    "\n"
   ]
  },
  {
   "cell_type": "code",
   "execution_count": 48,
   "metadata": {},
   "outputs": [
    {
     "data": {
      "text/plain": [
       "0.0019646365422396855"
      ]
     },
     "execution_count": 48,
     "metadata": {},
     "output_type": "execute_result"
    }
   ],
   "source": [
    "p(both_race_alfaRomeo, such_that(atleast_one_race_alfaRomeo, PGGP))"
   ]
  },
  {
   "cell_type": "markdown",
   "metadata": {},
   "source": [
    "1.3\n",
    "\n",
    "\n",
    "\n",
    "\n",
    "\n",
    "\n"
   ]
  },
  {
   "cell_type": "code",
   "execution_count": 60,
   "metadata": {},
   "outputs": [
    {
     "data": {
      "text/plain": [
       "{'rain': 0.2, 'suny': 0.2, 'clod': 0.2, 'snow': 0.2, 'fogy': 0.2}"
      ]
     },
     "execution_count": 60,
     "metadata": {},
     "output_type": "execute_result"
    }
   ],
   "source": [
    "weather = ProbDist(rain = 1,\n",
    "                  suny = 1,\n",
    "                  clod = 1,\n",
    "                  snow = 1,\n",
    "                  fogy = 1)\n",
    "weather"
   ]
  },
  {
   "cell_type": "code",
   "execution_count": 61,
   "metadata": {},
   "outputs": [],
   "source": [
    "def joints(A, B, sep=''):\n",
    "    \"\"\"The joint distribution of two independent probability distributions. \n",
    "    Result is all entries of the form {a+sep+b: P(a)*P(b)}\"\"\"\n",
    "    return ProbDist({a + sep + b: A[a] * B[b]\n",
    "                    for a in A\n",
    "                    for b in B})\n",
    "\n",
    "GGP_weather = joints(GGP, weather, ' ')\n",
    "PGP_weather = joints(PGP, weather, ' ')"
   ]
  },
  {
   "cell_type": "code",
   "execution_count": 53,
   "metadata": {},
   "outputs": [],
   "source": [
    "import random"
   ]
  },
  {
   "cell_type": "code",
   "execution_count": 62,
   "metadata": {},
   "outputs": [
    {
     "data": {
      "text/plain": [
       "['KR snow', 'AA rain', 'EO clod', 'CL clod', 'DK rain']"
      ]
     },
     "execution_count": 62,
     "metadata": {},
     "output_type": "execute_result"
    }
   ],
   "source": [
    "random.sample(list(GGP_weather),5)"
   ]
  },
  {
   "cell_type": "code",
   "execution_count": 66,
   "metadata": {},
   "outputs": [
    {
     "data": {
      "text/plain": [
       "{'LH rain LH rain': 0.0016157247212610253,\n",
       " 'LH rain LH suny': 0.0016157247212610253,\n",
       " 'LH rain LH clod': 0.0016157247212610253,\n",
       " 'LH rain LH snow': 0.0016157247212610253,\n",
       " 'LH rain LH fogy': 0.0016157247212610253,\n",
       " 'LH rain VB rain': 0.0012689350249903662,\n",
       " 'LH rain VB suny': 0.0012689350249903662,\n",
       " 'LH rain VB clod': 0.0012689350249903662,\n",
       " 'LH rain VB snow': 0.0012689350249903662,\n",
       " 'LH rain VB fogy': 0.0012689350249903662,\n",
       " 'LH rain MV rain': 0.001008842752787372,\n",
       " 'LH rain MV suny': 0.001008842752787372,\n",
       " 'LH rain MV clod': 0.001008842752787372,\n",
       " 'LH rain MV snow': 0.001008842752787372,\n",
       " 'LH rain MV fogy': 0.001008842752787372,\n",
       " 'LH rain LN rain': 0.0005123029603998372,\n",
       " 'LH rain LN suny': 0.0005123029603998372,\n",
       " 'LH rain LN clod': 0.0005123029603998372,\n",
       " 'LH rain LN snow': 0.0005123029603998372,\n",
       " 'LH rain LN fogy': 0.0005123029603998372,\n",
       " 'LH rain AA rain': 0.000504421376393686,\n",
       " 'LH rain AA suny': 0.000504421376393686,\n",
       " 'LH rain AA clod': 0.000504421376393686,\n",
       " 'LH rain AA snow': 0.000504421376393686,\n",
       " 'LH rain AA fogy': 0.000504421376393686,\n",
       " 'LH rain DR rain': 0.0004965397923875347,\n",
       " 'LH rain DR suny': 0.0004965397923875347,\n",
       " 'LH rain DR clod': 0.0004965397923875347,\n",
       " 'LH rain DR snow': 0.0004965397923875347,\n",
       " 'LH rain DR fogy': 0.0004965397923875347,\n",
       " 'LH rain CL rain': 0.0004492502883506266,\n",
       " 'LH rain CL suny': 0.0004492502883506266,\n",
       " 'LH rain CL clod': 0.0004492502883506266,\n",
       " 'LH rain CL snow': 0.0004492502883506266,\n",
       " 'LH rain CL fogy': 0.0004492502883506266,\n",
       " 'LH rain LS rain': 0.0004492502883506266,\n",
       " 'LH rain LS suny': 0.0004492502883506266,\n",
       " 'LH rain LS clod': 0.0004492502883506266,\n",
       " 'LH rain LS snow': 0.0004492502883506266,\n",
       " 'LH rain LS fogy': 0.0004492502883506266,\n",
       " 'LH rain SP rain': 0.0004413687043444752,\n",
       " 'LH rain SP suny': 0.0004413687043444752,\n",
       " 'LH rain SP clod': 0.0004413687043444752,\n",
       " 'LH rain SP snow': 0.0004413687043444752,\n",
       " 'LH rain SP fogy': 0.0004413687043444752,\n",
       " 'LH rain PG rain': 0.0003546712802768105,\n",
       " 'LH rain PG suny': 0.0003546712802768105,\n",
       " 'LH rain PG clod': 0.0003546712802768105,\n",
       " 'LH rain PG snow': 0.0003546712802768105,\n",
       " 'LH rain PG fogy': 0.0003546712802768105,\n",
       " 'LH rain CS rain': 0.00032314494425220505,\n",
       " 'LH rain CS suny': 0.00032314494425220505,\n",
       " 'LH rain CS clod': 0.00032314494425220505,\n",
       " 'LH rain CS snow': 0.00032314494425220505,\n",
       " 'LH rain CS fogy': 0.00032314494425220505,\n",
       " 'LH rain EO rain': 0.0002837370242214483,\n",
       " 'LH rain EO suny': 0.0002837370242214483,\n",
       " 'LH rain EO clod': 0.0002837370242214483,\n",
       " 'LH rain EO snow': 0.0002837370242214483,\n",
       " 'LH rain EO fogy': 0.0002837370242214483,\n",
       " 'LH rain SV rain': 0.00013398692810457282,\n",
       " 'LH rain SV suny': 0.00013398692810457282,\n",
       " 'LH rain SV clod': 0.00013398692810457282,\n",
       " 'LH rain SV snow': 0.00013398692810457282,\n",
       " 'LH rain SV fogy': 0.00013398692810457282,\n",
       " 'LH rain DK rain': 0.0001103421760861188,\n",
       " 'LH rain DK suny': 0.0001103421760861188,\n",
       " 'LH rain DK clod': 0.0001103421760861188,\n",
       " 'LH rain DK snow': 0.0001103421760861188,\n",
       " 'LH rain DK fogy': 0.0001103421760861188,\n",
       " 'LH rain NH rain': 4.7289504036908064e-05,\n",
       " 'LH rain NH suny': 4.7289504036908064e-05,\n",
       " 'LH rain NH clod': 4.7289504036908064e-05,\n",
       " 'LH rain NH snow': 4.7289504036908064e-05,\n",
       " 'LH rain NH fogy': 4.7289504036908064e-05,\n",
       " 'LH rain KR rain': 1.5763168012302687e-05,\n",
       " 'LH rain KR suny': 1.5763168012302687e-05,\n",
       " 'LH rain KR clod': 1.5763168012302687e-05,\n",
       " 'LH rain KR snow': 1.5763168012302687e-05,\n",
       " 'LH rain KR fogy': 1.5763168012302687e-05,\n",
       " 'LH rain AG rain': 1.5763168012302687e-05,\n",
       " 'LH rain AG suny': 1.5763168012302687e-05,\n",
       " 'LH rain AG clod': 1.5763168012302687e-05,\n",
       " 'LH rain AG snow': 1.5763168012302687e-05,\n",
       " 'LH rain AG fogy': 1.5763168012302687e-05,\n",
       " 'LH rain KM rain': 7.881584006151343e-06,\n",
       " 'LH rain KM suny': 7.881584006151343e-06,\n",
       " 'LH rain KM clod': 7.881584006151343e-06,\n",
       " 'LH rain KM snow': 7.881584006151343e-06,\n",
       " 'LH rain KM fogy': 7.881584006151343e-06,\n",
       " 'LH rain NL rain': 0.0,\n",
       " 'LH rain NL suny': 0.0,\n",
       " 'LH rain NL clod': 0.0,\n",
       " 'LH rain NL snow': 0.0,\n",
       " 'LH rain NL fogy': 0.0,\n",
       " 'LH rain GR rain': 0.0,\n",
       " 'LH rain GR suny': 0.0,\n",
       " 'LH rain GR clod': 0.0,\n",
       " 'LH rain GR snow': 0.0,\n",
       " 'LH rain GR fogy': 0.0,\n",
       " 'LH rain RG rain': 0.0,\n",
       " 'LH rain RG suny': 0.0,\n",
       " 'LH rain RG clod': 0.0,\n",
       " 'LH rain RG snow': 0.0,\n",
       " 'LH rain RG fogy': 0.0,\n",
       " 'LH suny LH rain': 0.0016157247212610253,\n",
       " 'LH suny LH suny': 0.0016157247212610253,\n",
       " 'LH suny LH clod': 0.0016157247212610253,\n",
       " 'LH suny LH snow': 0.0016157247212610253,\n",
       " 'LH suny LH fogy': 0.0016157247212610253,\n",
       " 'LH suny VB rain': 0.0012689350249903662,\n",
       " 'LH suny VB suny': 0.0012689350249903662,\n",
       " 'LH suny VB clod': 0.0012689350249903662,\n",
       " 'LH suny VB snow': 0.0012689350249903662,\n",
       " 'LH suny VB fogy': 0.0012689350249903662,\n",
       " 'LH suny MV rain': 0.001008842752787372,\n",
       " 'LH suny MV suny': 0.001008842752787372,\n",
       " 'LH suny MV clod': 0.001008842752787372,\n",
       " 'LH suny MV snow': 0.001008842752787372,\n",
       " 'LH suny MV fogy': 0.001008842752787372,\n",
       " 'LH suny LN rain': 0.0005123029603998372,\n",
       " 'LH suny LN suny': 0.0005123029603998372,\n",
       " 'LH suny LN clod': 0.0005123029603998372,\n",
       " 'LH suny LN snow': 0.0005123029603998372,\n",
       " 'LH suny LN fogy': 0.0005123029603998372,\n",
       " 'LH suny AA rain': 0.000504421376393686,\n",
       " 'LH suny AA suny': 0.000504421376393686,\n",
       " 'LH suny AA clod': 0.000504421376393686,\n",
       " 'LH suny AA snow': 0.000504421376393686,\n",
       " 'LH suny AA fogy': 0.000504421376393686,\n",
       " 'LH suny DR rain': 0.0004965397923875347,\n",
       " 'LH suny DR suny': 0.0004965397923875347,\n",
       " 'LH suny DR clod': 0.0004965397923875347,\n",
       " 'LH suny DR snow': 0.0004965397923875347,\n",
       " 'LH suny DR fogy': 0.0004965397923875347,\n",
       " 'LH suny CL rain': 0.0004492502883506266,\n",
       " 'LH suny CL suny': 0.0004492502883506266,\n",
       " 'LH suny CL clod': 0.0004492502883506266,\n",
       " 'LH suny CL snow': 0.0004492502883506266,\n",
       " 'LH suny CL fogy': 0.0004492502883506266,\n",
       " 'LH suny LS rain': 0.0004492502883506266,\n",
       " 'LH suny LS suny': 0.0004492502883506266,\n",
       " 'LH suny LS clod': 0.0004492502883506266,\n",
       " 'LH suny LS snow': 0.0004492502883506266,\n",
       " 'LH suny LS fogy': 0.0004492502883506266,\n",
       " 'LH suny SP rain': 0.0004413687043444752,\n",
       " 'LH suny SP suny': 0.0004413687043444752,\n",
       " 'LH suny SP clod': 0.0004413687043444752,\n",
       " 'LH suny SP snow': 0.0004413687043444752,\n",
       " 'LH suny SP fogy': 0.0004413687043444752,\n",
       " 'LH suny PG rain': 0.0003546712802768105,\n",
       " 'LH suny PG suny': 0.0003546712802768105,\n",
       " 'LH suny PG clod': 0.0003546712802768105,\n",
       " 'LH suny PG snow': 0.0003546712802768105,\n",
       " 'LH suny PG fogy': 0.0003546712802768105,\n",
       " 'LH suny CS rain': 0.00032314494425220505,\n",
       " 'LH suny CS suny': 0.00032314494425220505,\n",
       " 'LH suny CS clod': 0.00032314494425220505,\n",
       " 'LH suny CS snow': 0.00032314494425220505,\n",
       " 'LH suny CS fogy': 0.00032314494425220505,\n",
       " 'LH suny EO rain': 0.0002837370242214483,\n",
       " 'LH suny EO suny': 0.0002837370242214483,\n",
       " 'LH suny EO clod': 0.0002837370242214483,\n",
       " 'LH suny EO snow': 0.0002837370242214483,\n",
       " 'LH suny EO fogy': 0.0002837370242214483,\n",
       " 'LH suny SV rain': 0.00013398692810457282,\n",
       " 'LH suny SV suny': 0.00013398692810457282,\n",
       " 'LH suny SV clod': 0.00013398692810457282,\n",
       " 'LH suny SV snow': 0.00013398692810457282,\n",
       " 'LH suny SV fogy': 0.00013398692810457282,\n",
       " 'LH suny DK rain': 0.0001103421760861188,\n",
       " 'LH suny DK suny': 0.0001103421760861188,\n",
       " 'LH suny DK clod': 0.0001103421760861188,\n",
       " 'LH suny DK snow': 0.0001103421760861188,\n",
       " 'LH suny DK fogy': 0.0001103421760861188,\n",
       " 'LH suny NH rain': 4.7289504036908064e-05,\n",
       " 'LH suny NH suny': 4.7289504036908064e-05,\n",
       " 'LH suny NH clod': 4.7289504036908064e-05,\n",
       " 'LH suny NH snow': 4.7289504036908064e-05,\n",
       " 'LH suny NH fogy': 4.7289504036908064e-05,\n",
       " 'LH suny KR rain': 1.5763168012302687e-05,\n",
       " 'LH suny KR suny': 1.5763168012302687e-05,\n",
       " 'LH suny KR clod': 1.5763168012302687e-05,\n",
       " 'LH suny KR snow': 1.5763168012302687e-05,\n",
       " 'LH suny KR fogy': 1.5763168012302687e-05,\n",
       " 'LH suny AG rain': 1.5763168012302687e-05,\n",
       " 'LH suny AG suny': 1.5763168012302687e-05,\n",
       " 'LH suny AG clod': 1.5763168012302687e-05,\n",
       " 'LH suny AG snow': 1.5763168012302687e-05,\n",
       " 'LH suny AG fogy': 1.5763168012302687e-05,\n",
       " 'LH suny KM rain': 7.881584006151343e-06,\n",
       " 'LH suny KM suny': 7.881584006151343e-06,\n",
       " 'LH suny KM clod': 7.881584006151343e-06,\n",
       " 'LH suny KM snow': 7.881584006151343e-06,\n",
       " 'LH suny KM fogy': 7.881584006151343e-06,\n",
       " 'LH suny NL rain': 0.0,\n",
       " 'LH suny NL suny': 0.0,\n",
       " 'LH suny NL clod': 0.0,\n",
       " 'LH suny NL snow': 0.0,\n",
       " 'LH suny NL fogy': 0.0,\n",
       " 'LH suny GR rain': 0.0,\n",
       " 'LH suny GR suny': 0.0,\n",
       " 'LH suny GR clod': 0.0,\n",
       " 'LH suny GR snow': 0.0,\n",
       " 'LH suny GR fogy': 0.0,\n",
       " 'LH suny RG rain': 0.0,\n",
       " 'LH suny RG suny': 0.0,\n",
       " 'LH suny RG clod': 0.0,\n",
       " 'LH suny RG snow': 0.0,\n",
       " 'LH suny RG fogy': 0.0,\n",
       " 'LH clod LH rain': 0.0016157247212610253,\n",
       " 'LH clod LH suny': 0.0016157247212610253,\n",
       " 'LH clod LH clod': 0.0016157247212610253,\n",
       " 'LH clod LH snow': 0.0016157247212610253,\n",
       " 'LH clod LH fogy': 0.0016157247212610253,\n",
       " 'LH clod VB rain': 0.0012689350249903662,\n",
       " 'LH clod VB suny': 0.0012689350249903662,\n",
       " 'LH clod VB clod': 0.0012689350249903662,\n",
       " 'LH clod VB snow': 0.0012689350249903662,\n",
       " 'LH clod VB fogy': 0.0012689350249903662,\n",
       " 'LH clod MV rain': 0.001008842752787372,\n",
       " 'LH clod MV suny': 0.001008842752787372,\n",
       " 'LH clod MV clod': 0.001008842752787372,\n",
       " 'LH clod MV snow': 0.001008842752787372,\n",
       " 'LH clod MV fogy': 0.001008842752787372,\n",
       " 'LH clod LN rain': 0.0005123029603998372,\n",
       " 'LH clod LN suny': 0.0005123029603998372,\n",
       " 'LH clod LN clod': 0.0005123029603998372,\n",
       " 'LH clod LN snow': 0.0005123029603998372,\n",
       " 'LH clod LN fogy': 0.0005123029603998372,\n",
       " 'LH clod AA rain': 0.000504421376393686,\n",
       " 'LH clod AA suny': 0.000504421376393686,\n",
       " 'LH clod AA clod': 0.000504421376393686,\n",
       " 'LH clod AA snow': 0.000504421376393686,\n",
       " 'LH clod AA fogy': 0.000504421376393686,\n",
       " 'LH clod DR rain': 0.0004965397923875347,\n",
       " 'LH clod DR suny': 0.0004965397923875347,\n",
       " 'LH clod DR clod': 0.0004965397923875347,\n",
       " 'LH clod DR snow': 0.0004965397923875347,\n",
       " 'LH clod DR fogy': 0.0004965397923875347,\n",
       " 'LH clod CL rain': 0.0004492502883506266,\n",
       " 'LH clod CL suny': 0.0004492502883506266,\n",
       " 'LH clod CL clod': 0.0004492502883506266,\n",
       " 'LH clod CL snow': 0.0004492502883506266,\n",
       " 'LH clod CL fogy': 0.0004492502883506266,\n",
       " 'LH clod LS rain': 0.0004492502883506266,\n",
       " 'LH clod LS suny': 0.0004492502883506266,\n",
       " 'LH clod LS clod': 0.0004492502883506266,\n",
       " 'LH clod LS snow': 0.0004492502883506266,\n",
       " 'LH clod LS fogy': 0.0004492502883506266,\n",
       " 'LH clod SP rain': 0.0004413687043444752,\n",
       " 'LH clod SP suny': 0.0004413687043444752,\n",
       " 'LH clod SP clod': 0.0004413687043444752,\n",
       " 'LH clod SP snow': 0.0004413687043444752,\n",
       " 'LH clod SP fogy': 0.0004413687043444752,\n",
       " 'LH clod PG rain': 0.0003546712802768105,\n",
       " 'LH clod PG suny': 0.0003546712802768105,\n",
       " 'LH clod PG clod': 0.0003546712802768105,\n",
       " 'LH clod PG snow': 0.0003546712802768105,\n",
       " 'LH clod PG fogy': 0.0003546712802768105,\n",
       " 'LH clod CS rain': 0.00032314494425220505,\n",
       " 'LH clod CS suny': 0.00032314494425220505,\n",
       " 'LH clod CS clod': 0.00032314494425220505,\n",
       " 'LH clod CS snow': 0.00032314494425220505,\n",
       " 'LH clod CS fogy': 0.00032314494425220505,\n",
       " 'LH clod EO rain': 0.0002837370242214483,\n",
       " 'LH clod EO suny': 0.0002837370242214483,\n",
       " 'LH clod EO clod': 0.0002837370242214483,\n",
       " 'LH clod EO snow': 0.0002837370242214483,\n",
       " 'LH clod EO fogy': 0.0002837370242214483,\n",
       " 'LH clod SV rain': 0.00013398692810457282,\n",
       " 'LH clod SV suny': 0.00013398692810457282,\n",
       " 'LH clod SV clod': 0.00013398692810457282,\n",
       " 'LH clod SV snow': 0.00013398692810457282,\n",
       " 'LH clod SV fogy': 0.00013398692810457282,\n",
       " 'LH clod DK rain': 0.0001103421760861188,\n",
       " 'LH clod DK suny': 0.0001103421760861188,\n",
       " 'LH clod DK clod': 0.0001103421760861188,\n",
       " 'LH clod DK snow': 0.0001103421760861188,\n",
       " 'LH clod DK fogy': 0.0001103421760861188,\n",
       " 'LH clod NH rain': 4.7289504036908064e-05,\n",
       " 'LH clod NH suny': 4.7289504036908064e-05,\n",
       " 'LH clod NH clod': 4.7289504036908064e-05,\n",
       " 'LH clod NH snow': 4.7289504036908064e-05,\n",
       " 'LH clod NH fogy': 4.7289504036908064e-05,\n",
       " 'LH clod KR rain': 1.5763168012302687e-05,\n",
       " 'LH clod KR suny': 1.5763168012302687e-05,\n",
       " 'LH clod KR clod': 1.5763168012302687e-05,\n",
       " 'LH clod KR snow': 1.5763168012302687e-05,\n",
       " 'LH clod KR fogy': 1.5763168012302687e-05,\n",
       " 'LH clod AG rain': 1.5763168012302687e-05,\n",
       " 'LH clod AG suny': 1.5763168012302687e-05,\n",
       " 'LH clod AG clod': 1.5763168012302687e-05,\n",
       " 'LH clod AG snow': 1.5763168012302687e-05,\n",
       " 'LH clod AG fogy': 1.5763168012302687e-05,\n",
       " 'LH clod KM rain': 7.881584006151343e-06,\n",
       " 'LH clod KM suny': 7.881584006151343e-06,\n",
       " 'LH clod KM clod': 7.881584006151343e-06,\n",
       " 'LH clod KM snow': 7.881584006151343e-06,\n",
       " 'LH clod KM fogy': 7.881584006151343e-06,\n",
       " 'LH clod NL rain': 0.0,\n",
       " 'LH clod NL suny': 0.0,\n",
       " 'LH clod NL clod': 0.0,\n",
       " 'LH clod NL snow': 0.0,\n",
       " 'LH clod NL fogy': 0.0,\n",
       " 'LH clod GR rain': 0.0,\n",
       " 'LH clod GR suny': 0.0,\n",
       " 'LH clod GR clod': 0.0,\n",
       " 'LH clod GR snow': 0.0,\n",
       " 'LH clod GR fogy': 0.0,\n",
       " 'LH clod RG rain': 0.0,\n",
       " 'LH clod RG suny': 0.0,\n",
       " 'LH clod RG clod': 0.0,\n",
       " 'LH clod RG snow': 0.0,\n",
       " 'LH clod RG fogy': 0.0,\n",
       " 'LH snow LH rain': 0.0016157247212610253,\n",
       " 'LH snow LH suny': 0.0016157247212610253,\n",
       " 'LH snow LH clod': 0.0016157247212610253,\n",
       " 'LH snow LH snow': 0.0016157247212610253,\n",
       " 'LH snow LH fogy': 0.0016157247212610253,\n",
       " 'LH snow VB rain': 0.0012689350249903662,\n",
       " 'LH snow VB suny': 0.0012689350249903662,\n",
       " 'LH snow VB clod': 0.0012689350249903662,\n",
       " 'LH snow VB snow': 0.0012689350249903662,\n",
       " 'LH snow VB fogy': 0.0012689350249903662,\n",
       " 'LH snow MV rain': 0.001008842752787372,\n",
       " 'LH snow MV suny': 0.001008842752787372,\n",
       " 'LH snow MV clod': 0.001008842752787372,\n",
       " 'LH snow MV snow': 0.001008842752787372,\n",
       " 'LH snow MV fogy': 0.001008842752787372,\n",
       " 'LH snow LN rain': 0.0005123029603998372,\n",
       " 'LH snow LN suny': 0.0005123029603998372,\n",
       " 'LH snow LN clod': 0.0005123029603998372,\n",
       " 'LH snow LN snow': 0.0005123029603998372,\n",
       " 'LH snow LN fogy': 0.0005123029603998372,\n",
       " 'LH snow AA rain': 0.000504421376393686,\n",
       " 'LH snow AA suny': 0.000504421376393686,\n",
       " 'LH snow AA clod': 0.000504421376393686,\n",
       " 'LH snow AA snow': 0.000504421376393686,\n",
       " 'LH snow AA fogy': 0.000504421376393686,\n",
       " 'LH snow DR rain': 0.0004965397923875347,\n",
       " 'LH snow DR suny': 0.0004965397923875347,\n",
       " 'LH snow DR clod': 0.0004965397923875347,\n",
       " 'LH snow DR snow': 0.0004965397923875347,\n",
       " 'LH snow DR fogy': 0.0004965397923875347,\n",
       " 'LH snow CL rain': 0.0004492502883506266,\n",
       " 'LH snow CL suny': 0.0004492502883506266,\n",
       " 'LH snow CL clod': 0.0004492502883506266,\n",
       " 'LH snow CL snow': 0.0004492502883506266,\n",
       " 'LH snow CL fogy': 0.0004492502883506266,\n",
       " 'LH snow LS rain': 0.0004492502883506266,\n",
       " 'LH snow LS suny': 0.0004492502883506266,\n",
       " 'LH snow LS clod': 0.0004492502883506266,\n",
       " 'LH snow LS snow': 0.0004492502883506266,\n",
       " 'LH snow LS fogy': 0.0004492502883506266,\n",
       " 'LH snow SP rain': 0.0004413687043444752,\n",
       " 'LH snow SP suny': 0.0004413687043444752,\n",
       " 'LH snow SP clod': 0.0004413687043444752,\n",
       " 'LH snow SP snow': 0.0004413687043444752,\n",
       " 'LH snow SP fogy': 0.0004413687043444752,\n",
       " 'LH snow PG rain': 0.0003546712802768105,\n",
       " 'LH snow PG suny': 0.0003546712802768105,\n",
       " 'LH snow PG clod': 0.0003546712802768105,\n",
       " 'LH snow PG snow': 0.0003546712802768105,\n",
       " 'LH snow PG fogy': 0.0003546712802768105,\n",
       " 'LH snow CS rain': 0.00032314494425220505,\n",
       " 'LH snow CS suny': 0.00032314494425220505,\n",
       " 'LH snow CS clod': 0.00032314494425220505,\n",
       " 'LH snow CS snow': 0.00032314494425220505,\n",
       " 'LH snow CS fogy': 0.00032314494425220505,\n",
       " 'LH snow EO rain': 0.0002837370242214483,\n",
       " 'LH snow EO suny': 0.0002837370242214483,\n",
       " 'LH snow EO clod': 0.0002837370242214483,\n",
       " 'LH snow EO snow': 0.0002837370242214483,\n",
       " 'LH snow EO fogy': 0.0002837370242214483,\n",
       " 'LH snow SV rain': 0.00013398692810457282,\n",
       " 'LH snow SV suny': 0.00013398692810457282,\n",
       " 'LH snow SV clod': 0.00013398692810457282,\n",
       " 'LH snow SV snow': 0.00013398692810457282,\n",
       " 'LH snow SV fogy': 0.00013398692810457282,\n",
       " 'LH snow DK rain': 0.0001103421760861188,\n",
       " 'LH snow DK suny': 0.0001103421760861188,\n",
       " 'LH snow DK clod': 0.0001103421760861188,\n",
       " 'LH snow DK snow': 0.0001103421760861188,\n",
       " 'LH snow DK fogy': 0.0001103421760861188,\n",
       " 'LH snow NH rain': 4.7289504036908064e-05,\n",
       " 'LH snow NH suny': 4.7289504036908064e-05,\n",
       " 'LH snow NH clod': 4.7289504036908064e-05,\n",
       " 'LH snow NH snow': 4.7289504036908064e-05,\n",
       " 'LH snow NH fogy': 4.7289504036908064e-05,\n",
       " 'LH snow KR rain': 1.5763168012302687e-05,\n",
       " 'LH snow KR suny': 1.5763168012302687e-05,\n",
       " 'LH snow KR clod': 1.5763168012302687e-05,\n",
       " 'LH snow KR snow': 1.5763168012302687e-05,\n",
       " 'LH snow KR fogy': 1.5763168012302687e-05,\n",
       " 'LH snow AG rain': 1.5763168012302687e-05,\n",
       " 'LH snow AG suny': 1.5763168012302687e-05,\n",
       " 'LH snow AG clod': 1.5763168012302687e-05,\n",
       " 'LH snow AG snow': 1.5763168012302687e-05,\n",
       " 'LH snow AG fogy': 1.5763168012302687e-05,\n",
       " 'LH snow KM rain': 7.881584006151343e-06,\n",
       " 'LH snow KM suny': 7.881584006151343e-06,\n",
       " 'LH snow KM clod': 7.881584006151343e-06,\n",
       " 'LH snow KM snow': 7.881584006151343e-06,\n",
       " 'LH snow KM fogy': 7.881584006151343e-06,\n",
       " 'LH snow NL rain': 0.0,\n",
       " 'LH snow NL suny': 0.0,\n",
       " 'LH snow NL clod': 0.0,\n",
       " 'LH snow NL snow': 0.0,\n",
       " 'LH snow NL fogy': 0.0,\n",
       " 'LH snow GR rain': 0.0,\n",
       " 'LH snow GR suny': 0.0,\n",
       " 'LH snow GR clod': 0.0,\n",
       " 'LH snow GR snow': 0.0,\n",
       " 'LH snow GR fogy': 0.0,\n",
       " 'LH snow RG rain': 0.0,\n",
       " 'LH snow RG suny': 0.0,\n",
       " 'LH snow RG clod': 0.0,\n",
       " 'LH snow RG snow': 0.0,\n",
       " 'LH snow RG fogy': 0.0,\n",
       " 'LH fogy LH rain': 0.0016157247212610253,\n",
       " 'LH fogy LH suny': 0.0016157247212610253,\n",
       " 'LH fogy LH clod': 0.0016157247212610253,\n",
       " 'LH fogy LH snow': 0.0016157247212610253,\n",
       " 'LH fogy LH fogy': 0.0016157247212610253,\n",
       " 'LH fogy VB rain': 0.0012689350249903662,\n",
       " 'LH fogy VB suny': 0.0012689350249903662,\n",
       " 'LH fogy VB clod': 0.0012689350249903662,\n",
       " 'LH fogy VB snow': 0.0012689350249903662,\n",
       " 'LH fogy VB fogy': 0.0012689350249903662,\n",
       " 'LH fogy MV rain': 0.001008842752787372,\n",
       " 'LH fogy MV suny': 0.001008842752787372,\n",
       " 'LH fogy MV clod': 0.001008842752787372,\n",
       " 'LH fogy MV snow': 0.001008842752787372,\n",
       " 'LH fogy MV fogy': 0.001008842752787372,\n",
       " 'LH fogy LN rain': 0.0005123029603998372,\n",
       " 'LH fogy LN suny': 0.0005123029603998372,\n",
       " 'LH fogy LN clod': 0.0005123029603998372,\n",
       " 'LH fogy LN snow': 0.0005123029603998372,\n",
       " 'LH fogy LN fogy': 0.0005123029603998372,\n",
       " 'LH fogy AA rain': 0.000504421376393686,\n",
       " 'LH fogy AA suny': 0.000504421376393686,\n",
       " 'LH fogy AA clod': 0.000504421376393686,\n",
       " 'LH fogy AA snow': 0.000504421376393686,\n",
       " 'LH fogy AA fogy': 0.000504421376393686,\n",
       " 'LH fogy DR rain': 0.0004965397923875347,\n",
       " 'LH fogy DR suny': 0.0004965397923875347,\n",
       " 'LH fogy DR clod': 0.0004965397923875347,\n",
       " 'LH fogy DR snow': 0.0004965397923875347,\n",
       " 'LH fogy DR fogy': 0.0004965397923875347,\n",
       " 'LH fogy CL rain': 0.0004492502883506266,\n",
       " 'LH fogy CL suny': 0.0004492502883506266,\n",
       " 'LH fogy CL clod': 0.0004492502883506266,\n",
       " 'LH fogy CL snow': 0.0004492502883506266,\n",
       " 'LH fogy CL fogy': 0.0004492502883506266,\n",
       " 'LH fogy LS rain': 0.0004492502883506266,\n",
       " 'LH fogy LS suny': 0.0004492502883506266,\n",
       " 'LH fogy LS clod': 0.0004492502883506266,\n",
       " 'LH fogy LS snow': 0.0004492502883506266,\n",
       " 'LH fogy LS fogy': 0.0004492502883506266,\n",
       " 'LH fogy SP rain': 0.0004413687043444752,\n",
       " 'LH fogy SP suny': 0.0004413687043444752,\n",
       " 'LH fogy SP clod': 0.0004413687043444752,\n",
       " 'LH fogy SP snow': 0.0004413687043444752,\n",
       " 'LH fogy SP fogy': 0.0004413687043444752,\n",
       " 'LH fogy PG rain': 0.0003546712802768105,\n",
       " 'LH fogy PG suny': 0.0003546712802768105,\n",
       " 'LH fogy PG clod': 0.0003546712802768105,\n",
       " 'LH fogy PG snow': 0.0003546712802768105,\n",
       " 'LH fogy PG fogy': 0.0003546712802768105,\n",
       " 'LH fogy CS rain': 0.00032314494425220505,\n",
       " 'LH fogy CS suny': 0.00032314494425220505,\n",
       " 'LH fogy CS clod': 0.00032314494425220505,\n",
       " 'LH fogy CS snow': 0.00032314494425220505,\n",
       " 'LH fogy CS fogy': 0.00032314494425220505,\n",
       " 'LH fogy EO rain': 0.0002837370242214483,\n",
       " 'LH fogy EO suny': 0.0002837370242214483,\n",
       " 'LH fogy EO clod': 0.0002837370242214483,\n",
       " 'LH fogy EO snow': 0.0002837370242214483,\n",
       " 'LH fogy EO fogy': 0.0002837370242214483,\n",
       " 'LH fogy SV rain': 0.00013398692810457282,\n",
       " 'LH fogy SV suny': 0.00013398692810457282,\n",
       " 'LH fogy SV clod': 0.00013398692810457282,\n",
       " 'LH fogy SV snow': 0.00013398692810457282,\n",
       " 'LH fogy SV fogy': 0.00013398692810457282,\n",
       " 'LH fogy DK rain': 0.0001103421760861188,\n",
       " 'LH fogy DK suny': 0.0001103421760861188,\n",
       " 'LH fogy DK clod': 0.0001103421760861188,\n",
       " 'LH fogy DK snow': 0.0001103421760861188,\n",
       " 'LH fogy DK fogy': 0.0001103421760861188,\n",
       " 'LH fogy NH rain': 4.7289504036908064e-05,\n",
       " 'LH fogy NH suny': 4.7289504036908064e-05,\n",
       " 'LH fogy NH clod': 4.7289504036908064e-05,\n",
       " 'LH fogy NH snow': 4.7289504036908064e-05,\n",
       " 'LH fogy NH fogy': 4.7289504036908064e-05,\n",
       " 'LH fogy KR rain': 1.5763168012302687e-05,\n",
       " 'LH fogy KR suny': 1.5763168012302687e-05,\n",
       " 'LH fogy KR clod': 1.5763168012302687e-05,\n",
       " 'LH fogy KR snow': 1.5763168012302687e-05,\n",
       " 'LH fogy KR fogy': 1.5763168012302687e-05,\n",
       " 'LH fogy AG rain': 1.5763168012302687e-05,\n",
       " 'LH fogy AG suny': 1.5763168012302687e-05,\n",
       " 'LH fogy AG clod': 1.5763168012302687e-05,\n",
       " 'LH fogy AG snow': 1.5763168012302687e-05,\n",
       " 'LH fogy AG fogy': 1.5763168012302687e-05,\n",
       " 'LH fogy KM rain': 7.881584006151343e-06,\n",
       " 'LH fogy KM suny': 7.881584006151343e-06,\n",
       " 'LH fogy KM clod': 7.881584006151343e-06,\n",
       " 'LH fogy KM snow': 7.881584006151343e-06,\n",
       " 'LH fogy KM fogy': 7.881584006151343e-06,\n",
       " 'LH fogy NL rain': 0.0,\n",
       " 'LH fogy NL suny': 0.0,\n",
       " 'LH fogy NL clod': 0.0,\n",
       " 'LH fogy NL snow': 0.0,\n",
       " 'LH fogy NL fogy': 0.0,\n",
       " 'LH fogy GR rain': 0.0,\n",
       " 'LH fogy GR suny': 0.0,\n",
       " 'LH fogy GR clod': 0.0,\n",
       " 'LH fogy GR snow': 0.0,\n",
       " 'LH fogy GR fogy': 0.0,\n",
       " 'LH fogy RG rain': 0.0,\n",
       " 'LH fogy RG suny': 0.0,\n",
       " 'LH fogy RG clod': 0.0,\n",
       " 'LH fogy RG snow': 0.0,\n",
       " 'LH fogy RG fogy': 0.0,\n",
       " 'VB rain LH rain': 0.0012689350249903662,\n",
       " 'VB rain LH suny': 0.0012689350249903662,\n",
       " 'VB rain LH clod': 0.0012689350249903662,\n",
       " 'VB rain LH snow': 0.0012689350249903662,\n",
       " 'VB rain LH fogy': 0.0012689350249903662,\n",
       " 'VB rain VB rain': 0.0009965782391387753,\n",
       " 'VB rain VB suny': 0.0009965782391387753,\n",
       " 'VB rain VB clod': 0.0009965782391387753,\n",
       " 'VB rain VB snow': 0.0009965782391387753,\n",
       " 'VB rain VB fogy': 0.0009965782391387753,\n",
       " 'VB rain MV rain': 0.0007923106497500824,\n",
       " 'VB rain MV suny': 0.0007923106497500824,\n",
       " 'VB rain MV clod': 0.0007923106497500824,\n",
       " 'VB rain MV snow': 0.0007923106497500824,\n",
       " 'VB rain MV fogy': 0.0007923106497500824,\n",
       " 'VB rain LN rain': 0.00040234525182621366,\n",
       " 'VB rain LN suny': 0.00040234525182621366,\n",
       " 'VB rain LN clod': 0.00040234525182621366,\n",
       " 'VB rain LN snow': 0.00040234525182621366,\n",
       " 'VB rain LN fogy': 0.00040234525182621366,\n",
       " 'VB rain AA rain': 0.0003961553248750412,\n",
       " 'VB rain AA suny': 0.0003961553248750412,\n",
       " 'VB rain AA clod': 0.0003961553248750412,\n",
       " 'VB rain AA snow': 0.0003961553248750412,\n",
       " 'VB rain AA fogy': 0.0003961553248750412,\n",
       " 'VB rain DR rain': 0.00038996539792386864,\n",
       " 'VB rain DR suny': 0.00038996539792386864,\n",
       " 'VB rain DR clod': 0.00038996539792386864,\n",
       " 'VB rain DR snow': 0.00038996539792386864,\n",
       " 'VB rain DR fogy': 0.00038996539792386864,\n",
       " 'VB rain CL rain': 0.00035282583621683354,\n",
       " 'VB rain CL suny': 0.00035282583621683354,\n",
       " 'VB rain CL clod': 0.00035282583621683354,\n",
       " 'VB rain CL snow': 0.00035282583621683354,\n",
       " 'VB rain CL fogy': 0.00035282583621683354,\n",
       " 'VB rain LS rain': 0.00035282583621683354,\n",
       " 'VB rain LS suny': 0.00035282583621683354,\n",
       " 'VB rain LS clod': 0.00035282583621683354,\n",
       " 'VB rain LS snow': 0.00035282583621683354,\n",
       " 'VB rain LS fogy': 0.00035282583621683354,\n",
       " 'VB rain SP rain': 0.000346635909265661,\n",
       " 'VB rain SP suny': 0.000346635909265661,\n",
       " 'VB rain SP clod': 0.000346635909265661,\n",
       " 'VB rain SP snow': 0.000346635909265661,\n",
       " 'VB rain SP fogy': 0.000346635909265661,\n",
       " 'VB rain PG rain': 0.00027854671280276333,\n",
       " 'VB rain PG suny': 0.00027854671280276333,\n",
       " 'VB rain PG clod': 0.00027854671280276333,\n",
       " 'VB rain PG snow': 0.00027854671280276333,\n",
       " 'VB rain PG fogy': 0.00027854671280276333,\n",
       " 'VB rain CS rain': 0.00025378700499807325,\n",
       " 'VB rain CS suny': 0.00025378700499807325,\n",
       " 'VB rain CS clod': 0.00025378700499807325,\n",
       " 'VB rain CS snow': 0.00025378700499807325,\n",
       " 'VB rain CS fogy': 0.00025378700499807325,\n",
       " 'VB rain EO rain': 0.00022283737024221065,\n",
       " 'VB rain EO suny': 0.00022283737024221065,\n",
       " 'VB rain EO clod': 0.00022283737024221065,\n",
       " 'VB rain EO snow': 0.00022283737024221065,\n",
       " 'VB rain EO fogy': 0.00022283737024221065,\n",
       " 'VB rain SV rain': 0.0001052287581699328,\n",
       " 'VB rain SV suny': 0.0001052287581699328,\n",
       " 'VB rain SV clod': 0.0001052287581699328,\n",
       " 'VB rain SV snow': 0.0001052287581699328,\n",
       " 'VB rain SV fogy': 0.0001052287581699328,\n",
       " 'VB rain DK rain': 8.665897731641525e-05,\n",
       " 'VB rain DK suny': 8.665897731641525e-05,\n",
       " 'VB rain DK clod': 8.665897731641525e-05,\n",
       " 'VB rain DK snow': 8.665897731641525e-05,\n",
       " 'VB rain DK fogy': 8.665897731641525e-05,\n",
       " 'VB rain NH rain': 3.713956170703511e-05,\n",
       " 'VB rain NH suny': 3.713956170703511e-05,\n",
       " 'VB rain NH clod': 3.713956170703511e-05,\n",
       " 'VB rain NH snow': 3.713956170703511e-05,\n",
       " 'VB rain NH fogy': 3.713956170703511e-05,\n",
       " 'VB rain KR rain': 1.2379853902345037e-05,\n",
       " 'VB rain KR suny': 1.2379853902345037e-05,\n",
       " 'VB rain KR clod': 1.2379853902345037e-05,\n",
       " 'VB rain KR snow': 1.2379853902345037e-05,\n",
       " 'VB rain KR fogy': 1.2379853902345037e-05,\n",
       " 'VB rain AG rain': 1.2379853902345037e-05,\n",
       " 'VB rain AG suny': 1.2379853902345037e-05,\n",
       " 'VB rain AG clod': 1.2379853902345037e-05,\n",
       " 'VB rain AG snow': 1.2379853902345037e-05,\n",
       " 'VB rain AG fogy': 1.2379853902345037e-05,\n",
       " 'VB rain KM rain': 6.1899269511725184e-06,\n",
       " 'VB rain KM suny': 6.1899269511725184e-06,\n",
       " 'VB rain KM clod': 6.1899269511725184e-06,\n",
       " 'VB rain KM snow': 6.1899269511725184e-06,\n",
       " 'VB rain KM fogy': 6.1899269511725184e-06,\n",
       " 'VB rain NL rain': 0.0,\n",
       " 'VB rain NL suny': 0.0,\n",
       " 'VB rain NL clod': 0.0,\n",
       " 'VB rain NL snow': 0.0,\n",
       " 'VB rain NL fogy': 0.0,\n",
       " 'VB rain GR rain': 0.0,\n",
       " 'VB rain GR suny': 0.0,\n",
       " 'VB rain GR clod': 0.0,\n",
       " 'VB rain GR snow': 0.0,\n",
       " 'VB rain GR fogy': 0.0,\n",
       " 'VB rain RG rain': 0.0,\n",
       " 'VB rain RG suny': 0.0,\n",
       " 'VB rain RG clod': 0.0,\n",
       " 'VB rain RG snow': 0.0,\n",
       " 'VB rain RG fogy': 0.0,\n",
       " 'VB suny LH rain': 0.0012689350249903662,\n",
       " 'VB suny LH suny': 0.0012689350249903662,\n",
       " 'VB suny LH clod': 0.0012689350249903662,\n",
       " 'VB suny LH snow': 0.0012689350249903662,\n",
       " 'VB suny LH fogy': 0.0012689350249903662,\n",
       " 'VB suny VB rain': 0.0009965782391387753,\n",
       " 'VB suny VB suny': 0.0009965782391387753,\n",
       " 'VB suny VB clod': 0.0009965782391387753,\n",
       " 'VB suny VB snow': 0.0009965782391387753,\n",
       " 'VB suny VB fogy': 0.0009965782391387753,\n",
       " 'VB suny MV rain': 0.0007923106497500824,\n",
       " 'VB suny MV suny': 0.0007923106497500824,\n",
       " 'VB suny MV clod': 0.0007923106497500824,\n",
       " 'VB suny MV snow': 0.0007923106497500824,\n",
       " 'VB suny MV fogy': 0.0007923106497500824,\n",
       " 'VB suny LN rain': 0.00040234525182621366,\n",
       " 'VB suny LN suny': 0.00040234525182621366,\n",
       " 'VB suny LN clod': 0.00040234525182621366,\n",
       " 'VB suny LN snow': 0.00040234525182621366,\n",
       " 'VB suny LN fogy': 0.00040234525182621366,\n",
       " 'VB suny AA rain': 0.0003961553248750412,\n",
       " 'VB suny AA suny': 0.0003961553248750412,\n",
       " 'VB suny AA clod': 0.0003961553248750412,\n",
       " 'VB suny AA snow': 0.0003961553248750412,\n",
       " 'VB suny AA fogy': 0.0003961553248750412,\n",
       " 'VB suny DR rain': 0.00038996539792386864,\n",
       " 'VB suny DR suny': 0.00038996539792386864,\n",
       " 'VB suny DR clod': 0.00038996539792386864,\n",
       " 'VB suny DR snow': 0.00038996539792386864,\n",
       " 'VB suny DR fogy': 0.00038996539792386864,\n",
       " 'VB suny CL rain': 0.00035282583621683354,\n",
       " 'VB suny CL suny': 0.00035282583621683354,\n",
       " 'VB suny CL clod': 0.00035282583621683354,\n",
       " 'VB suny CL snow': 0.00035282583621683354,\n",
       " 'VB suny CL fogy': 0.00035282583621683354,\n",
       " 'VB suny LS rain': 0.00035282583621683354,\n",
       " 'VB suny LS suny': 0.00035282583621683354,\n",
       " 'VB suny LS clod': 0.00035282583621683354,\n",
       " 'VB suny LS snow': 0.00035282583621683354,\n",
       " 'VB suny LS fogy': 0.00035282583621683354,\n",
       " 'VB suny SP rain': 0.000346635909265661,\n",
       " 'VB suny SP suny': 0.000346635909265661,\n",
       " 'VB suny SP clod': 0.000346635909265661,\n",
       " 'VB suny SP snow': 0.000346635909265661,\n",
       " 'VB suny SP fogy': 0.000346635909265661,\n",
       " 'VB suny PG rain': 0.00027854671280276333,\n",
       " 'VB suny PG suny': 0.00027854671280276333,\n",
       " 'VB suny PG clod': 0.00027854671280276333,\n",
       " 'VB suny PG snow': 0.00027854671280276333,\n",
       " 'VB suny PG fogy': 0.00027854671280276333,\n",
       " 'VB suny CS rain': 0.00025378700499807325,\n",
       " 'VB suny CS suny': 0.00025378700499807325,\n",
       " 'VB suny CS clod': 0.00025378700499807325,\n",
       " 'VB suny CS snow': 0.00025378700499807325,\n",
       " 'VB suny CS fogy': 0.00025378700499807325,\n",
       " 'VB suny EO rain': 0.00022283737024221065,\n",
       " 'VB suny EO suny': 0.00022283737024221065,\n",
       " 'VB suny EO clod': 0.00022283737024221065,\n",
       " 'VB suny EO snow': 0.00022283737024221065,\n",
       " 'VB suny EO fogy': 0.00022283737024221065,\n",
       " 'VB suny SV rain': 0.0001052287581699328,\n",
       " 'VB suny SV suny': 0.0001052287581699328,\n",
       " 'VB suny SV clod': 0.0001052287581699328,\n",
       " 'VB suny SV snow': 0.0001052287581699328,\n",
       " 'VB suny SV fogy': 0.0001052287581699328,\n",
       " 'VB suny DK rain': 8.665897731641525e-05,\n",
       " 'VB suny DK suny': 8.665897731641525e-05,\n",
       " 'VB suny DK clod': 8.665897731641525e-05,\n",
       " 'VB suny DK snow': 8.665897731641525e-05,\n",
       " 'VB suny DK fogy': 8.665897731641525e-05,\n",
       " 'VB suny NH rain': 3.713956170703511e-05,\n",
       " 'VB suny NH suny': 3.713956170703511e-05,\n",
       " 'VB suny NH clod': 3.713956170703511e-05,\n",
       " 'VB suny NH snow': 3.713956170703511e-05,\n",
       " 'VB suny NH fogy': 3.713956170703511e-05,\n",
       " 'VB suny KR rain': 1.2379853902345037e-05,\n",
       " 'VB suny KR suny': 1.2379853902345037e-05,\n",
       " 'VB suny KR clod': 1.2379853902345037e-05,\n",
       " 'VB suny KR snow': 1.2379853902345037e-05,\n",
       " 'VB suny KR fogy': 1.2379853902345037e-05,\n",
       " 'VB suny AG rain': 1.2379853902345037e-05,\n",
       " 'VB suny AG suny': 1.2379853902345037e-05,\n",
       " 'VB suny AG clod': 1.2379853902345037e-05,\n",
       " 'VB suny AG snow': 1.2379853902345037e-05,\n",
       " 'VB suny AG fogy': 1.2379853902345037e-05,\n",
       " 'VB suny KM rain': 6.1899269511725184e-06,\n",
       " 'VB suny KM suny': 6.1899269511725184e-06,\n",
       " 'VB suny KM clod': 6.1899269511725184e-06,\n",
       " 'VB suny KM snow': 6.1899269511725184e-06,\n",
       " 'VB suny KM fogy': 6.1899269511725184e-06,\n",
       " 'VB suny NL rain': 0.0,\n",
       " 'VB suny NL suny': 0.0,\n",
       " 'VB suny NL clod': 0.0,\n",
       " 'VB suny NL snow': 0.0,\n",
       " 'VB suny NL fogy': 0.0,\n",
       " 'VB suny GR rain': 0.0,\n",
       " 'VB suny GR suny': 0.0,\n",
       " 'VB suny GR clod': 0.0,\n",
       " 'VB suny GR snow': 0.0,\n",
       " 'VB suny GR fogy': 0.0,\n",
       " 'VB suny RG rain': 0.0,\n",
       " 'VB suny RG suny': 0.0,\n",
       " 'VB suny RG clod': 0.0,\n",
       " 'VB suny RG snow': 0.0,\n",
       " 'VB suny RG fogy': 0.0,\n",
       " 'VB clod LH rain': 0.0012689350249903662,\n",
       " 'VB clod LH suny': 0.0012689350249903662,\n",
       " 'VB clod LH clod': 0.0012689350249903662,\n",
       " 'VB clod LH snow': 0.0012689350249903662,\n",
       " 'VB clod LH fogy': 0.0012689350249903662,\n",
       " 'VB clod VB rain': 0.0009965782391387753,\n",
       " 'VB clod VB suny': 0.0009965782391387753,\n",
       " 'VB clod VB clod': 0.0009965782391387753,\n",
       " 'VB clod VB snow': 0.0009965782391387753,\n",
       " 'VB clod VB fogy': 0.0009965782391387753,\n",
       " 'VB clod MV rain': 0.0007923106497500824,\n",
       " 'VB clod MV suny': 0.0007923106497500824,\n",
       " 'VB clod MV clod': 0.0007923106497500824,\n",
       " 'VB clod MV snow': 0.0007923106497500824,\n",
       " 'VB clod MV fogy': 0.0007923106497500824,\n",
       " 'VB clod LN rain': 0.00040234525182621366,\n",
       " 'VB clod LN suny': 0.00040234525182621366,\n",
       " 'VB clod LN clod': 0.00040234525182621366,\n",
       " 'VB clod LN snow': 0.00040234525182621366,\n",
       " 'VB clod LN fogy': 0.00040234525182621366,\n",
       " 'VB clod AA rain': 0.0003961553248750412,\n",
       " 'VB clod AA suny': 0.0003961553248750412,\n",
       " 'VB clod AA clod': 0.0003961553248750412,\n",
       " 'VB clod AA snow': 0.0003961553248750412,\n",
       " 'VB clod AA fogy': 0.0003961553248750412,\n",
       " 'VB clod DR rain': 0.00038996539792386864,\n",
       " 'VB clod DR suny': 0.00038996539792386864,\n",
       " 'VB clod DR clod': 0.00038996539792386864,\n",
       " 'VB clod DR snow': 0.00038996539792386864,\n",
       " 'VB clod DR fogy': 0.00038996539792386864,\n",
       " 'VB clod CL rain': 0.00035282583621683354,\n",
       " 'VB clod CL suny': 0.00035282583621683354,\n",
       " 'VB clod CL clod': 0.00035282583621683354,\n",
       " 'VB clod CL snow': 0.00035282583621683354,\n",
       " 'VB clod CL fogy': 0.00035282583621683354,\n",
       " 'VB clod LS rain': 0.00035282583621683354,\n",
       " 'VB clod LS suny': 0.00035282583621683354,\n",
       " 'VB clod LS clod': 0.00035282583621683354,\n",
       " 'VB clod LS snow': 0.00035282583621683354,\n",
       " 'VB clod LS fogy': 0.00035282583621683354,\n",
       " 'VB clod SP rain': 0.000346635909265661,\n",
       " 'VB clod SP suny': 0.000346635909265661,\n",
       " 'VB clod SP clod': 0.000346635909265661,\n",
       " 'VB clod SP snow': 0.000346635909265661,\n",
       " 'VB clod SP fogy': 0.000346635909265661,\n",
       " 'VB clod PG rain': 0.00027854671280276333,\n",
       " 'VB clod PG suny': 0.00027854671280276333,\n",
       " 'VB clod PG clod': 0.00027854671280276333,\n",
       " 'VB clod PG snow': 0.00027854671280276333,\n",
       " 'VB clod PG fogy': 0.00027854671280276333,\n",
       " 'VB clod CS rain': 0.00025378700499807325,\n",
       " 'VB clod CS suny': 0.00025378700499807325,\n",
       " 'VB clod CS clod': 0.00025378700499807325,\n",
       " 'VB clod CS snow': 0.00025378700499807325,\n",
       " 'VB clod CS fogy': 0.00025378700499807325,\n",
       " 'VB clod EO rain': 0.00022283737024221065,\n",
       " 'VB clod EO suny': 0.00022283737024221065,\n",
       " 'VB clod EO clod': 0.00022283737024221065,\n",
       " 'VB clod EO snow': 0.00022283737024221065,\n",
       " 'VB clod EO fogy': 0.00022283737024221065,\n",
       " 'VB clod SV rain': 0.0001052287581699328,\n",
       " 'VB clod SV suny': 0.0001052287581699328,\n",
       " 'VB clod SV clod': 0.0001052287581699328,\n",
       " 'VB clod SV snow': 0.0001052287581699328,\n",
       " 'VB clod SV fogy': 0.0001052287581699328,\n",
       " 'VB clod DK rain': 8.665897731641525e-05,\n",
       " 'VB clod DK suny': 8.665897731641525e-05,\n",
       " 'VB clod DK clod': 8.665897731641525e-05,\n",
       " 'VB clod DK snow': 8.665897731641525e-05,\n",
       " 'VB clod DK fogy': 8.665897731641525e-05,\n",
       " 'VB clod NH rain': 3.713956170703511e-05,\n",
       " 'VB clod NH suny': 3.713956170703511e-05,\n",
       " 'VB clod NH clod': 3.713956170703511e-05,\n",
       " 'VB clod NH snow': 3.713956170703511e-05,\n",
       " 'VB clod NH fogy': 3.713956170703511e-05,\n",
       " 'VB clod KR rain': 1.2379853902345037e-05,\n",
       " 'VB clod KR suny': 1.2379853902345037e-05,\n",
       " 'VB clod KR clod': 1.2379853902345037e-05,\n",
       " 'VB clod KR snow': 1.2379853902345037e-05,\n",
       " 'VB clod KR fogy': 1.2379853902345037e-05,\n",
       " 'VB clod AG rain': 1.2379853902345037e-05,\n",
       " 'VB clod AG suny': 1.2379853902345037e-05,\n",
       " 'VB clod AG clod': 1.2379853902345037e-05,\n",
       " 'VB clod AG snow': 1.2379853902345037e-05,\n",
       " 'VB clod AG fogy': 1.2379853902345037e-05,\n",
       " 'VB clod KM rain': 6.1899269511725184e-06,\n",
       " 'VB clod KM suny': 6.1899269511725184e-06,\n",
       " 'VB clod KM clod': 6.1899269511725184e-06,\n",
       " 'VB clod KM snow': 6.1899269511725184e-06,\n",
       " 'VB clod KM fogy': 6.1899269511725184e-06,\n",
       " 'VB clod NL rain': 0.0,\n",
       " 'VB clod NL suny': 0.0,\n",
       " 'VB clod NL clod': 0.0,\n",
       " 'VB clod NL snow': 0.0,\n",
       " 'VB clod NL fogy': 0.0,\n",
       " 'VB clod GR rain': 0.0,\n",
       " 'VB clod GR suny': 0.0,\n",
       " 'VB clod GR clod': 0.0,\n",
       " 'VB clod GR snow': 0.0,\n",
       " 'VB clod GR fogy': 0.0,\n",
       " 'VB clod RG rain': 0.0,\n",
       " 'VB clod RG suny': 0.0,\n",
       " 'VB clod RG clod': 0.0,\n",
       " 'VB clod RG snow': 0.0,\n",
       " 'VB clod RG fogy': 0.0,\n",
       " 'VB snow LH rain': 0.0012689350249903662,\n",
       " 'VB snow LH suny': 0.0012689350249903662,\n",
       " 'VB snow LH clod': 0.0012689350249903662,\n",
       " 'VB snow LH snow': 0.0012689350249903662,\n",
       " 'VB snow LH fogy': 0.0012689350249903662,\n",
       " 'VB snow VB rain': 0.0009965782391387753,\n",
       " 'VB snow VB suny': 0.0009965782391387753,\n",
       " 'VB snow VB clod': 0.0009965782391387753,\n",
       " 'VB snow VB snow': 0.0009965782391387753,\n",
       " 'VB snow VB fogy': 0.0009965782391387753,\n",
       " 'VB snow MV rain': 0.0007923106497500824,\n",
       " 'VB snow MV suny': 0.0007923106497500824,\n",
       " 'VB snow MV clod': 0.0007923106497500824,\n",
       " 'VB snow MV snow': 0.0007923106497500824,\n",
       " 'VB snow MV fogy': 0.0007923106497500824,\n",
       " 'VB snow LN rain': 0.00040234525182621366,\n",
       " 'VB snow LN suny': 0.00040234525182621366,\n",
       " 'VB snow LN clod': 0.00040234525182621366,\n",
       " 'VB snow LN snow': 0.00040234525182621366,\n",
       " 'VB snow LN fogy': 0.00040234525182621366,\n",
       " 'VB snow AA rain': 0.0003961553248750412,\n",
       " 'VB snow AA suny': 0.0003961553248750412,\n",
       " 'VB snow AA clod': 0.0003961553248750412,\n",
       " 'VB snow AA snow': 0.0003961553248750412,\n",
       " 'VB snow AA fogy': 0.0003961553248750412,\n",
       " 'VB snow DR rain': 0.00038996539792386864,\n",
       " 'VB snow DR suny': 0.00038996539792386864,\n",
       " 'VB snow DR clod': 0.00038996539792386864,\n",
       " 'VB snow DR snow': 0.00038996539792386864,\n",
       " 'VB snow DR fogy': 0.00038996539792386864,\n",
       " 'VB snow CL rain': 0.00035282583621683354,\n",
       " 'VB snow CL suny': 0.00035282583621683354,\n",
       " 'VB snow CL clod': 0.00035282583621683354,\n",
       " 'VB snow CL snow': 0.00035282583621683354,\n",
       " 'VB snow CL fogy': 0.00035282583621683354,\n",
       " 'VB snow LS rain': 0.00035282583621683354,\n",
       " 'VB snow LS suny': 0.00035282583621683354,\n",
       " 'VB snow LS clod': 0.00035282583621683354,\n",
       " 'VB snow LS snow': 0.00035282583621683354,\n",
       " 'VB snow LS fogy': 0.00035282583621683354,\n",
       " 'VB snow SP rain': 0.000346635909265661,\n",
       " 'VB snow SP suny': 0.000346635909265661,\n",
       " 'VB snow SP clod': 0.000346635909265661,\n",
       " 'VB snow SP snow': 0.000346635909265661,\n",
       " 'VB snow SP fogy': 0.000346635909265661,\n",
       " 'VB snow PG rain': 0.00027854671280276333,\n",
       " 'VB snow PG suny': 0.00027854671280276333,\n",
       " 'VB snow PG clod': 0.00027854671280276333,\n",
       " 'VB snow PG snow': 0.00027854671280276333,\n",
       " 'VB snow PG fogy': 0.00027854671280276333,\n",
       " 'VB snow CS rain': 0.00025378700499807325,\n",
       " 'VB snow CS suny': 0.00025378700499807325,\n",
       " 'VB snow CS clod': 0.00025378700499807325,\n",
       " 'VB snow CS snow': 0.00025378700499807325,\n",
       " 'VB snow CS fogy': 0.00025378700499807325,\n",
       " 'VB snow EO rain': 0.00022283737024221065,\n",
       " 'VB snow EO suny': 0.00022283737024221065,\n",
       " 'VB snow EO clod': 0.00022283737024221065,\n",
       " 'VB snow EO snow': 0.00022283737024221065,\n",
       " 'VB snow EO fogy': 0.00022283737024221065,\n",
       " 'VB snow SV rain': 0.0001052287581699328,\n",
       " 'VB snow SV suny': 0.0001052287581699328,\n",
       " 'VB snow SV clod': 0.0001052287581699328,\n",
       " 'VB snow SV snow': 0.0001052287581699328,\n",
       " 'VB snow SV fogy': 0.0001052287581699328,\n",
       " 'VB snow DK rain': 8.665897731641525e-05,\n",
       " 'VB snow DK suny': 8.665897731641525e-05,\n",
       " 'VB snow DK clod': 8.665897731641525e-05,\n",
       " 'VB snow DK snow': 8.665897731641525e-05,\n",
       " 'VB snow DK fogy': 8.665897731641525e-05,\n",
       " 'VB snow NH rain': 3.713956170703511e-05,\n",
       " 'VB snow NH suny': 3.713956170703511e-05,\n",
       " 'VB snow NH clod': 3.713956170703511e-05,\n",
       " 'VB snow NH snow': 3.713956170703511e-05,\n",
       " 'VB snow NH fogy': 3.713956170703511e-05,\n",
       " 'VB snow KR rain': 1.2379853902345037e-05,\n",
       " 'VB snow KR suny': 1.2379853902345037e-05,\n",
       " 'VB snow KR clod': 1.2379853902345037e-05,\n",
       " 'VB snow KR snow': 1.2379853902345037e-05,\n",
       " 'VB snow KR fogy': 1.2379853902345037e-05,\n",
       " 'VB snow AG rain': 1.2379853902345037e-05,\n",
       " 'VB snow AG suny': 1.2379853902345037e-05,\n",
       " 'VB snow AG clod': 1.2379853902345037e-05,\n",
       " 'VB snow AG snow': 1.2379853902345037e-05,\n",
       " 'VB snow AG fogy': 1.2379853902345037e-05,\n",
       " 'VB snow KM rain': 6.1899269511725184e-06,\n",
       " 'VB snow KM suny': 6.1899269511725184e-06,\n",
       " 'VB snow KM clod': 6.1899269511725184e-06,\n",
       " 'VB snow KM snow': 6.1899269511725184e-06,\n",
       " 'VB snow KM fogy': 6.1899269511725184e-06,\n",
       " 'VB snow NL rain': 0.0,\n",
       " 'VB snow NL suny': 0.0,\n",
       " 'VB snow NL clod': 0.0,\n",
       " 'VB snow NL snow': 0.0,\n",
       " 'VB snow NL fogy': 0.0,\n",
       " 'VB snow GR rain': 0.0,\n",
       " 'VB snow GR suny': 0.0,\n",
       " 'VB snow GR clod': 0.0,\n",
       " 'VB snow GR snow': 0.0,\n",
       " 'VB snow GR fogy': 0.0,\n",
       " 'VB snow RG rain': 0.0,\n",
       " 'VB snow RG suny': 0.0,\n",
       " 'VB snow RG clod': 0.0,\n",
       " 'VB snow RG snow': 0.0,\n",
       " 'VB snow RG fogy': 0.0,\n",
       " 'VB fogy LH rain': 0.0012689350249903662,\n",
       " 'VB fogy LH suny': 0.0012689350249903662,\n",
       " 'VB fogy LH clod': 0.0012689350249903662,\n",
       " 'VB fogy LH snow': 0.0012689350249903662,\n",
       " 'VB fogy LH fogy': 0.0012689350249903662,\n",
       " 'VB fogy VB rain': 0.0009965782391387753,\n",
       " 'VB fogy VB suny': 0.0009965782391387753,\n",
       " 'VB fogy VB clod': 0.0009965782391387753,\n",
       " 'VB fogy VB snow': 0.0009965782391387753,\n",
       " 'VB fogy VB fogy': 0.0009965782391387753,\n",
       " 'VB fogy MV rain': 0.0007923106497500824,\n",
       " 'VB fogy MV suny': 0.0007923106497500824,\n",
       " 'VB fogy MV clod': 0.0007923106497500824,\n",
       " 'VB fogy MV snow': 0.0007923106497500824,\n",
       " 'VB fogy MV fogy': 0.0007923106497500824,\n",
       " 'VB fogy LN rain': 0.00040234525182621366,\n",
       " 'VB fogy LN suny': 0.00040234525182621366,\n",
       " 'VB fogy LN clod': 0.00040234525182621366,\n",
       " 'VB fogy LN snow': 0.00040234525182621366,\n",
       " 'VB fogy LN fogy': 0.00040234525182621366,\n",
       " 'VB fogy AA rain': 0.0003961553248750412,\n",
       " 'VB fogy AA suny': 0.0003961553248750412,\n",
       " 'VB fogy AA clod': 0.0003961553248750412,\n",
       " 'VB fogy AA snow': 0.0003961553248750412,\n",
       " 'VB fogy AA fogy': 0.0003961553248750412,\n",
       " 'VB fogy DR rain': 0.00038996539792386864,\n",
       " 'VB fogy DR suny': 0.00038996539792386864,\n",
       " 'VB fogy DR clod': 0.00038996539792386864,\n",
       " 'VB fogy DR snow': 0.00038996539792386864,\n",
       " 'VB fogy DR fogy': 0.00038996539792386864,\n",
       " 'VB fogy CL rain': 0.00035282583621683354,\n",
       " 'VB fogy CL suny': 0.00035282583621683354,\n",
       " 'VB fogy CL clod': 0.00035282583621683354,\n",
       " 'VB fogy CL snow': 0.00035282583621683354,\n",
       " 'VB fogy CL fogy': 0.00035282583621683354,\n",
       " 'VB fogy LS rain': 0.00035282583621683354,\n",
       " 'VB fogy LS suny': 0.00035282583621683354,\n",
       " 'VB fogy LS clod': 0.00035282583621683354,\n",
       " 'VB fogy LS snow': 0.00035282583621683354,\n",
       " 'VB fogy LS fogy': 0.00035282583621683354,\n",
       " 'VB fogy SP rain': 0.000346635909265661,\n",
       " 'VB fogy SP suny': 0.000346635909265661,\n",
       " 'VB fogy SP clod': 0.000346635909265661,\n",
       " 'VB fogy SP snow': 0.000346635909265661,\n",
       " 'VB fogy SP fogy': 0.000346635909265661,\n",
       " 'VB fogy PG rain': 0.00027854671280276333,\n",
       " 'VB fogy PG suny': 0.00027854671280276333,\n",
       " 'VB fogy PG clod': 0.00027854671280276333,\n",
       " 'VB fogy PG snow': 0.00027854671280276333,\n",
       " 'VB fogy PG fogy': 0.00027854671280276333,\n",
       " 'VB fogy CS rain': 0.00025378700499807325,\n",
       " 'VB fogy CS suny': 0.00025378700499807325,\n",
       " 'VB fogy CS clod': 0.00025378700499807325,\n",
       " 'VB fogy CS snow': 0.00025378700499807325,\n",
       " 'VB fogy CS fogy': 0.00025378700499807325,\n",
       " ...}"
      ]
     },
     "execution_count": 66,
     "metadata": {},
     "output_type": "execute_result"
    }
   ],
   "source": [
    "PGGP_weather = joints(GGP_weather,PGP_weather, ' ')\n",
    "#random.sample(list(PGGP_weather),5)\n",
    "PGGP_weather"
   ]
  },
  {
   "cell_type": "code",
   "execution_count": 68,
   "metadata": {},
   "outputs": [],
   "source": [
    "def atleast_one_race_mercedes_rain(outcome):  return (outcome.startswith('LH rain')) or (outcome.startswith('VB rain')) or (outcome.endswith('LH rain')) or (outcome.endswith('VB rain'))\n",
    "def both_race_mercedes_rain(outcome):  return (outcome.startswith('LH rain LH rain')) or (outcome.startswith('VB rain VB rain')) or (outcome.startswith('LH rain VB rain')) or (outcome.startswith('VB rain LH rain'))\n",
    "def both_race_mercedes_anyseason(outcome): return outcome.count('LH') == 2 or outcome.count('VB') == 2 or (outcome.count('LH') ==1 and outcome.count('VB')==1)"
   ]
  },
  {
   "cell_type": "markdown",
   "metadata": {},
   "source": [
    "Probabilty of mercedes winning both race on a rainy day given that mercedes has won one race on rainy day\n",
    "\n",
    "\n",
    "\n",
    "\n",
    "\n"
   ]
  },
  {
   "cell_type": "code",
   "execution_count": 65,
   "metadata": {},
   "outputs": [
    {
     "data": {
      "text/plain": [
       "0.03721781574130577"
      ]
     },
     "execution_count": 65,
     "metadata": {},
     "output_type": "execute_result"
    }
   ],
   "source": [
    "p(both_race_mercedes_rain, such_that(atleast_one_race_mercedes_rain, PGGP_weather))"
   ]
  },
  {
   "cell_type": "markdown",
   "metadata": {},
   "source": [
    "Probabilty of mercedes winning both race on a any day given that mercedes has won one race on rainy day\n",
    "\n",
    "\n",
    "\n",
    "\n",
    "\n"
   ]
  },
  {
   "cell_type": "code",
   "execution_count": 69,
   "metadata": {},
   "outputs": [
    {
     "data": {
      "text/plain": [
       "0.3349603416717521"
      ]
     },
     "execution_count": 69,
     "metadata": {},
     "output_type": "execute_result"
    }
   ],
   "source": [
    "p(both_race_mercedes_anyseason, such_that(atleast_one_race_mercedes_rain, PGGP_weather))"
   ]
  },
  {
   "cell_type": "markdown",
   "metadata": {},
   "source": [
    "# Homework hint\n",
    "\n",
    "**Conditional probabilities** involve ***prior*** conditions and ***new*** predicates, which is not the same as applying *one* condition on the *entire universe of outcomes*!\n",
    "\n",
    "A conditional probability is usually expressed as A | B (present/future condition A given past condition B). \n",
    "\n",
    "> Example: picking a yellow M&M from the '94 bag given that i've already picked yellow and green M&Ms from each bag. \n",
    "\n",
    "A conditional probability involves a **past event**, and a **present or future condition** (or predicate). So, computing a conditional probability where you specify *all* (past and present/future) conditions (or predicates) in the 1st argument of our p function is *not* possible: You need to first filter your entire universe of outcomes using the 2nd argument of our p function (to specify the past event by limiting the universe of all possible outcomes), and *then* specify the (future, or filter) condition using the 1st argument of our p function."
   ]
  }
 ],
 "metadata": {
  "kernelspec": {
   "display_name": "Python 3",
   "language": "python",
   "name": "python3"
  },
  "language_info": {
   "codemirror_mode": {
    "name": "ipython",
    "version": 3
   },
   "file_extension": ".py",
   "mimetype": "text/x-python",
   "name": "python",
   "nbconvert_exporter": "python",
   "pygments_lexer": "ipython3",
   "version": "3.7.6"
  }
 },
 "nbformat": 4,
 "nbformat_minor": 1
}
