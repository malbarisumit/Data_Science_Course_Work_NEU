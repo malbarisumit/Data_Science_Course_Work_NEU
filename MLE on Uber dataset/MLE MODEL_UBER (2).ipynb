{
 "cells": [
  {
   "cell_type": "code",
   "execution_count": 2,
   "metadata": {},
   "outputs": [
    {
     "data": {
      "text/html": [
       "<div>\n",
       "<style scoped>\n",
       "    .dataframe tbody tr th:only-of-type {\n",
       "        vertical-align: middle;\n",
       "    }\n",
       "\n",
       "    .dataframe tbody tr th {\n",
       "        vertical-align: top;\n",
       "    }\n",
       "\n",
       "    .dataframe thead th {\n",
       "        text-align: right;\n",
       "    }\n",
       "</style>\n",
       "<table border=\"1\" class=\"dataframe\">\n",
       "  <thead>\n",
       "    <tr style=\"text-align: right;\">\n",
       "      <th></th>\n",
       "      <th>dispatching_base_number</th>\n",
       "      <th>date</th>\n",
       "      <th>active_vehicles</th>\n",
       "      <th>trips</th>\n",
       "    </tr>\n",
       "  </thead>\n",
       "  <tbody>\n",
       "    <tr>\n",
       "      <th>0</th>\n",
       "      <td>B02512</td>\n",
       "      <td>1/1/2015</td>\n",
       "      <td>190</td>\n",
       "      <td>1132</td>\n",
       "    </tr>\n",
       "    <tr>\n",
       "      <th>1</th>\n",
       "      <td>B02765</td>\n",
       "      <td>1/1/2015</td>\n",
       "      <td>225</td>\n",
       "      <td>1765</td>\n",
       "    </tr>\n",
       "    <tr>\n",
       "      <th>2</th>\n",
       "      <td>B02764</td>\n",
       "      <td>1/1/2015</td>\n",
       "      <td>3427</td>\n",
       "      <td>29421</td>\n",
       "    </tr>\n",
       "    <tr>\n",
       "      <th>3</th>\n",
       "      <td>B02682</td>\n",
       "      <td>1/1/2015</td>\n",
       "      <td>945</td>\n",
       "      <td>7679</td>\n",
       "    </tr>\n",
       "    <tr>\n",
       "      <th>4</th>\n",
       "      <td>B02617</td>\n",
       "      <td>1/1/2015</td>\n",
       "      <td>1228</td>\n",
       "      <td>9537</td>\n",
       "    </tr>\n",
       "  </tbody>\n",
       "</table>\n",
       "</div>"
      ],
      "text/plain": [
       "  dispatching_base_number      date  active_vehicles  trips\n",
       "0                  B02512  1/1/2015              190   1132\n",
       "1                  B02765  1/1/2015              225   1765\n",
       "2                  B02764  1/1/2015             3427  29421\n",
       "3                  B02682  1/1/2015              945   7679\n",
       "4                  B02617  1/1/2015             1228   9537"
      ]
     },
     "execution_count": 2,
     "metadata": {},
     "output_type": "execute_result"
    }
   ],
   "source": [
    "import pandas as pd\n",
    "import numpy as np\n",
    "import matplotlib.pyplot as plt\n",
    "%matplotlib inline\n",
    "import seaborn as sns\n",
    "\n",
    "df = pd.read_csv(\"Uber/Uber-Jan-Feb-FOIL.csv\")\n",
    "df.head()\n"
   ]
  },
  {
   "cell_type": "code",
   "execution_count": 3,
   "metadata": {},
   "outputs": [
    {
     "data": {
      "text/plain": [
       "4395"
      ]
     },
     "execution_count": 3,
     "metadata": {},
     "output_type": "execute_result"
    }
   ],
   "source": [
    "df[\"active_vehicles\"].max()"
   ]
  },
  {
   "cell_type": "markdown",
   "metadata": {},
   "source": [
    "**Exponential distirbution**"
   ]
  },
  {
   "cell_type": "code",
   "execution_count": 4,
   "metadata": {},
   "outputs": [
    {
     "data": {
      "text/plain": [
       "<matplotlib.axes._subplots.AxesSubplot at 0x290458c7190>"
      ]
     },
     "execution_count": 4,
     "metadata": {},
     "output_type": "execute_result"
    },
    {
     "data": {
      "image/png": "[encoded data removed]",
      "text/plain": [
       "<Figure size 432x288 with 1 Axes>"
      ]
     },
     "metadata": {
      "needs_background": "light"
     },
     "output_type": "display_data"
    }
   ],
   "source": [
    "df.active_vehicles.hist()"
   ]
  },
  {
   "cell_type": "code",
   "execution_count": 19,
   "metadata": {},
   "outputs": [
    {
     "data": {
      "text/plain": [
       "Text(0, 0.5, 'frequency of active vehicle')"
      ]
     },
     "execution_count": 19,
     "metadata": {},
     "output_type": "execute_result"
    },
    {
     "data": {
      "image/png": "[encoded data removed]",
      "text/plain": [
       "<Figure size 720x288 with 2 Axes>"
      ]
     },
     "metadata": {
      "needs_background": "light"
     },
     "output_type": "display_data"
    }
   ],
   "source": [
    "fig, (ax1, ax2) = plt.subplots(1, 2, figsize=(10, 4))\n",
    "\n",
    "ax1.plot(sorted(df.active_vehicles)[::-1], 'o')\n",
    "ax1.set_xlabel('frequency of active vehicle')\n",
    "ax1.set_ylabel(\"active vehicle\")\n",
    "\n",
    "ax2.hist(df.active_vehicles, bins=15)\n",
    "ax2.set_xlabel(\"active vehicle\")\n",
    "ax2.set_ylabel('frequency of active vehicle')"
   ]
  },
  {
   "cell_type": "code",
   "execution_count": 5,
   "metadata": {},
   "outputs": [
    {
     "data": {
      "text/plain": [
       "0.0007648563625678432"
      ]
     },
     "execution_count": 5,
     "metadata": {},
     "output_type": "execute_result"
    }
   ],
   "source": [
    "smean = df[\"active_vehicles\"].mean()\n",
    "rate = 1./ smean\n",
    "rate"
   ]
  },
  {
   "cell_type": "code",
   "execution_count": 6,
   "metadata": {},
   "outputs": [],
   "source": [
    "smax = df[\"active_vehicles\"].max()\n",
    "days = np.linspace(0., smax, 1000)\n",
    "# bin size: interval between two consecutive values in `days`\n",
    "dt = smax / 999."
   ]
  },
  {
   "cell_type": "code",
   "execution_count": 7,
   "metadata": {},
   "outputs": [],
   "source": [
    "import scipy.stats as st"
   ]
  },
  {
   "cell_type": "code",
   "execution_count": 8,
   "metadata": {},
   "outputs": [],
   "source": [
    "dist_exp = st.expon.pdf(days, scale=1. / rate)"
   ]
  },
  {
   "cell_type": "code",
   "execution_count": 9,
   "metadata": {},
   "outputs": [
    {
     "data": {
      "text/plain": [
       "array([7.64856363e-04, 7.62287016e-04, 7.59726301e-04, 7.57174187e-04,\n",
       "       7.54630647e-04, 7.52095651e-04, 7.49569171e-04, 7.47051178e-04,\n",
       "       7.44541644e-04, 7.42040540e-04, 7.39547837e-04, 7.37063508e-04,\n",
       "       7.34587525e-04, 7.32119859e-04, 7.29660483e-04, 7.27209368e-04,\n",
       "       7.24766488e-04, 7.22331813e-04, 7.19905317e-04, 7.17486973e-04,\n",
       "       7.15076752e-04, 7.12674628e-04, 7.10280573e-04, 7.07894560e-04,\n",
       "       7.05516563e-04, 7.03146554e-04, 7.00784506e-04, 6.98430393e-04,\n",
       "       6.96084188e-04, 6.93745865e-04, 6.91415397e-04, 6.89092757e-04,\n",
       "       6.86777920e-04, 6.84470858e-04, 6.82171547e-04, 6.79879960e-04,\n",
       "       6.77596071e-04, 6.75319854e-04, 6.73051283e-04, 6.70790333e-04,\n",
       "       6.68536978e-04, 6.66291193e-04, 6.64052952e-04, 6.61822229e-04,\n",
       "       6.59599001e-04, 6.57383240e-04, 6.55174923e-04, 6.52974024e-04,\n",
       "       6.50780519e-04, 6.48594382e-04, 6.46415589e-04, 6.44244115e-04,\n",
       "       6.42079936e-04, 6.39923026e-04, 6.37773363e-04, 6.35630920e-04,\n",
       "       6.33495675e-04, 6.31367602e-04, 6.29246678e-04, 6.27132879e-04,\n",
       "       6.25026180e-04, 6.22926559e-04, 6.20833991e-04, 6.18748452e-04,\n",
       "       6.16669919e-04, 6.14598368e-04, 6.12533776e-04, 6.10476120e-04,\n",
       "       6.08425376e-04, 6.06381521e-04, 6.04344531e-04, 6.02314385e-04,\n",
       "       6.00291058e-04, 5.98274528e-04, 5.96264772e-04, 5.94261767e-04,\n",
       "       5.92265491e-04, 5.90275921e-04, 5.88293035e-04, 5.86316809e-04,\n",
       "       5.84347222e-04, 5.82384252e-04, 5.80427875e-04, 5.78478071e-04,\n",
       "       5.76534816e-04, 5.74598090e-04, 5.72667869e-04, 5.70744132e-04,\n",
       "       5.68826858e-04, 5.66916024e-04, 5.65011610e-04, 5.63113592e-04,\n",
       "       5.61221951e-04, 5.59336664e-04, 5.57457710e-04, 5.55585068e-04,\n",
       "       5.53718717e-04, 5.51858636e-04, 5.50004802e-04, 5.48157197e-04,\n",
       "       5.46315798e-04, 5.44480584e-04, 5.42651536e-04, 5.40828632e-04,\n",
       "       5.39011851e-04, 5.37201174e-04, 5.35396579e-04, 5.33598046e-04,\n",
       "       5.31805555e-04, 5.30019085e-04, 5.28238616e-04, 5.26464129e-04,\n",
       "       5.24695602e-04, 5.22933017e-04, 5.21176352e-04, 5.19425588e-04,\n",
       "       5.17680706e-04, 5.15941685e-04, 5.14208506e-04, 5.12481149e-04,\n",
       "       5.10759595e-04, 5.09043824e-04, 5.07333817e-04, 5.05629554e-04,\n",
       "       5.03931016e-04, 5.02238184e-04, 5.00551038e-04, 4.98869561e-04,\n",
       "       4.97193731e-04, 4.95523531e-04, 4.93858942e-04, 4.92199945e-04,\n",
       "       4.90546520e-04, 4.88898650e-04, 4.87256315e-04, 4.85619498e-04,\n",
       "       4.83988179e-04, 4.82362340e-04, 4.80741962e-04, 4.79127028e-04,\n",
       "       4.77517519e-04, 4.75913416e-04, 4.74314702e-04, 4.72721359e-04,\n",
       "       4.71133368e-04, 4.69550712e-04, 4.67973372e-04, 4.66401330e-04,\n",
       "       4.64834570e-04, 4.63273073e-04, 4.61716821e-04, 4.60165797e-04,\n",
       "       4.58619983e-04, 4.57079363e-04, 4.55543917e-04, 4.54013629e-04,\n",
       "       4.52488483e-04, 4.50968459e-04, 4.49453541e-04, 4.47943713e-04,\n",
       "       4.46438956e-04, 4.44939255e-04, 4.43444591e-04, 4.41954948e-04,\n",
       "       4.40470309e-04, 4.38990658e-04, 4.37515977e-04, 4.36046250e-04,\n",
       "       4.34581460e-04, 4.33121590e-04, 4.31666625e-04, 4.30216547e-04,\n",
       "       4.28771341e-04, 4.27330989e-04, 4.25895476e-04, 4.24464785e-04,\n",
       "       4.23038900e-04, 4.21617805e-04, 4.20201484e-04, 4.18789921e-04,\n",
       "       4.17383099e-04, 4.15981003e-04, 4.14583618e-04, 4.13190926e-04,\n",
       "       4.11802913e-04, 4.10419563e-04, 4.09040859e-04, 4.07666787e-04,\n",
       "       4.06297331e-04, 4.04932475e-04, 4.03572204e-04, 4.02216503e-04,\n",
       "       4.00865356e-04, 3.99518747e-04, 3.98176662e-04, 3.96839086e-04,\n",
       "       3.95506003e-04, 3.94177398e-04, 3.92853256e-04, 3.91533562e-04,\n",
       "       3.90218302e-04, 3.88907459e-04, 3.87601021e-04, 3.86298970e-04,\n",
       "       3.85001294e-04, 3.83707977e-04, 3.82419005e-04, 3.81134362e-04,\n",
       "       3.79854035e-04, 3.78578009e-04, 3.77306270e-04, 3.76038802e-04,\n",
       "       3.74775593e-04, 3.73516626e-04, 3.72261889e-04, 3.71011367e-04,\n",
       "       3.69765046e-04, 3.68522911e-04, 3.67284949e-04, 3.66051146e-04,\n",
       "       3.64821487e-04, 3.63595959e-04, 3.62374548e-04, 3.61157240e-04,\n",
       "       3.59944021e-04, 3.58734878e-04, 3.57529797e-04, 3.56328763e-04,\n",
       "       3.55131765e-04, 3.53938787e-04, 3.52749817e-04, 3.51564841e-04,\n",
       "       3.50383845e-04, 3.49206817e-04, 3.48033743e-04, 3.46864609e-04,\n",
       "       3.45699403e-04, 3.44538111e-04, 3.43380720e-04, 3.42227217e-04,\n",
       "       3.41077589e-04, 3.39931823e-04, 3.38789906e-04, 3.37651825e-04,\n",
       "       3.36517566e-04, 3.35387119e-04, 3.34260468e-04, 3.33137602e-04,\n",
       "       3.32018509e-04, 3.30903174e-04, 3.29791587e-04, 3.28683733e-04,\n",
       "       3.27579601e-04, 3.26479178e-04, 3.25382452e-04, 3.24289409e-04,\n",
       "       3.23200039e-04, 3.22114328e-04, 3.21032264e-04, 3.19953836e-04,\n",
       "       3.18879030e-04, 3.17807834e-04, 3.16740237e-04, 3.15676226e-04,\n",
       "       3.14615790e-04, 3.13558915e-04, 3.12505591e-04, 3.11455806e-04,\n",
       "       3.10409547e-04, 3.09366802e-04, 3.08327561e-04, 3.07291810e-04,\n",
       "       3.06259539e-04, 3.05230736e-04, 3.04205388e-04, 3.03183485e-04,\n",
       "       3.02165015e-04, 3.01149966e-04, 3.00138327e-04, 2.99130086e-04,\n",
       "       2.98125232e-04, 2.97123754e-04, 2.96125640e-04, 2.95130879e-04,\n",
       "       2.94139459e-04, 2.93151370e-04, 2.92166600e-04, 2.91185139e-04,\n",
       "       2.90206974e-04, 2.89232095e-04, 2.88260491e-04, 2.87292151e-04,\n",
       "       2.86327064e-04, 2.85365219e-04, 2.84406604e-04, 2.83451210e-04,\n",
       "       2.82499026e-04, 2.81550040e-04, 2.80604242e-04, 2.79661621e-04,\n",
       "       2.78722167e-04, 2.77785868e-04, 2.76852715e-04, 2.75922697e-04,\n",
       "       2.74995802e-04, 2.74072022e-04, 2.73151344e-04, 2.72233760e-04,\n",
       "       2.71319257e-04, 2.70407827e-04, 2.69499459e-04, 2.68594142e-04,\n",
       "       2.67691866e-04, 2.66792621e-04, 2.65896397e-04, 2.65003183e-04,\n",
       "       2.64112971e-04, 2.63225748e-04, 2.62341506e-04, 2.61460234e-04,\n",
       "       2.60581923e-04, 2.59706562e-04, 2.58834142e-04, 2.57964653e-04,\n",
       "       2.57098084e-04, 2.56234426e-04, 2.55373670e-04, 2.54515805e-04,\n",
       "       2.53660822e-04, 2.52808711e-04, 2.51959462e-04, 2.51113066e-04,\n",
       "       2.50269514e-04, 2.49428795e-04, 2.48590900e-04, 2.47755821e-04,\n",
       "       2.46923546e-04, 2.46094067e-04, 2.45267375e-04, 2.44443459e-04,\n",
       "       2.43622312e-04, 2.42803923e-04, 2.41988283e-04, 2.41175383e-04,\n",
       "       2.40365213e-04, 2.39557766e-04, 2.38753030e-04, 2.37950998e-04,\n",
       "       2.37151661e-04, 2.36355008e-04, 2.35561032e-04, 2.34769722e-04,\n",
       "       2.33981071e-04, 2.33195069e-04, 2.32411708e-04, 2.31630978e-04,\n",
       "       2.30852871e-04, 2.30077378e-04, 2.29304489e-04, 2.28534197e-04,\n",
       "       2.27766493e-04, 2.27001368e-04, 2.26238812e-04, 2.25478819e-04,\n",
       "       2.24721378e-04, 2.23966482e-04, 2.23214122e-04, 2.22464289e-04,\n",
       "       2.21716975e-04, 2.20972172e-04, 2.20229870e-04, 2.19490062e-04,\n",
       "       2.18752739e-04, 2.18017893e-04, 2.17285516e-04, 2.16555599e-04,\n",
       "       2.15828134e-04, 2.15103112e-04, 2.14380526e-04, 2.13660368e-04,\n",
       "       2.12942628e-04, 2.12227300e-04, 2.11514375e-04, 2.10803844e-04,\n",
       "       2.10095701e-04, 2.09389936e-04, 2.08686542e-04, 2.07985511e-04,\n",
       "       2.07286835e-04, 2.06590506e-04, 2.05896516e-04, 2.05204857e-04,\n",
       "       2.04515522e-04, 2.03828503e-04, 2.03143791e-04, 2.02461379e-04,\n",
       "       2.01781260e-04, 2.01103426e-04, 2.00427868e-04, 1.99754580e-04,\n",
       "       1.99083554e-04, 1.98414782e-04, 1.97748256e-04, 1.97083970e-04,\n",
       "       1.96421915e-04, 1.95762084e-04, 1.95104469e-04, 1.94449064e-04,\n",
       "       1.93795860e-04, 1.93144851e-04, 1.92496028e-04, 1.91849385e-04,\n",
       "       1.91204914e-04, 1.90562608e-04, 1.89922460e-04, 1.89284463e-04,\n",
       "       1.88648608e-04, 1.88014890e-04, 1.87383300e-04, 1.86753832e-04,\n",
       "       1.86126478e-04, 1.85501232e-04, 1.84878087e-04, 1.84257034e-04,\n",
       "       1.83638068e-04, 1.83021181e-04, 1.82406367e-04, 1.81793617e-04,\n",
       "       1.81182927e-04, 1.80574287e-04, 1.79967692e-04, 1.79363135e-04,\n",
       "       1.78760609e-04, 1.78160107e-04, 1.77561622e-04, 1.76965147e-04,\n",
       "       1.76370676e-04, 1.75778202e-04, 1.75187719e-04, 1.74599219e-04,\n",
       "       1.74012696e-04, 1.73428143e-04, 1.72845554e-04, 1.72264922e-04,\n",
       "       1.71686240e-04, 1.71109503e-04, 1.70534702e-04, 1.69961833e-04,\n",
       "       1.69390888e-04, 1.68821861e-04, 1.68254746e-04, 1.67689535e-04,\n",
       "       1.67126224e-04, 1.66564804e-04, 1.66005271e-04, 1.65447617e-04,\n",
       "       1.64891837e-04, 1.64337923e-04, 1.63785870e-04, 1.63235672e-04,\n",
       "       1.62687322e-04, 1.62140814e-04, 1.61596142e-04, 1.61053299e-04,\n",
       "       1.60512281e-04, 1.59973079e-04, 1.59435689e-04, 1.58900104e-04,\n",
       "       1.58366318e-04, 1.57834326e-04, 1.57304120e-04, 1.56775696e-04,\n",
       "       1.56249046e-04, 1.55724166e-04, 1.55201049e-04, 1.54679689e-04,\n",
       "       1.54160081e-04, 1.53642218e-04, 1.53126095e-04, 1.52611706e-04,\n",
       "       1.52099044e-04, 1.51588105e-04, 1.51078882e-04, 1.50571370e-04,\n",
       "       1.50065562e-04, 1.49561454e-04, 1.49059039e-04, 1.48558312e-04,\n",
       "       1.48059267e-04, 1.47561899e-04, 1.47066201e-04, 1.46572168e-04,\n",
       "       1.46079795e-04, 1.45589076e-04, 1.45100005e-04, 1.44612577e-04,\n",
       "       1.44126787e-04, 1.43642629e-04, 1.43160097e-04, 1.42679186e-04,\n",
       "       1.42199890e-04, 1.41722204e-04, 1.41246124e-04, 1.40771642e-04,\n",
       "       1.40298754e-04, 1.39827455e-04, 1.39357739e-04, 1.38889601e-04,\n",
       "       1.38423036e-04, 1.37958038e-04, 1.37494602e-04, 1.37032723e-04,\n",
       "       1.36572395e-04, 1.36113614e-04, 1.35656374e-04, 1.35200669e-04,\n",
       "       1.34746496e-04, 1.34293848e-04, 1.33842721e-04, 1.33393110e-04,\n",
       "       1.32945008e-04, 1.32498412e-04, 1.32053317e-04, 1.31609716e-04,\n",
       "       1.31167606e-04, 1.30726980e-04, 1.30287835e-04, 1.29850165e-04,\n",
       "       1.29413966e-04, 1.28979231e-04, 1.28545957e-04, 1.28114139e-04,\n",
       "       1.27683771e-04, 1.27254849e-04, 1.26827367e-04, 1.26401322e-04,\n",
       "       1.25976708e-04, 1.25553520e-04, 1.25131754e-04, 1.24711405e-04,\n",
       "       1.24292468e-04, 1.23874938e-04, 1.23458810e-04, 1.23044081e-04,\n",
       "       1.22630745e-04, 1.22218797e-04, 1.21808233e-04, 1.21399048e-04,\n",
       "       1.20991238e-04, 1.20584798e-04, 1.20179723e-04, 1.19776009e-04,\n",
       "       1.19373651e-04, 1.18972644e-04, 1.18572985e-04, 1.18174668e-04,\n",
       "       1.17777690e-04, 1.17382044e-04, 1.16987728e-04, 1.16594737e-04,\n",
       "       1.16203066e-04, 1.15812710e-04, 1.15423666e-04, 1.15035928e-04,\n",
       "       1.14649494e-04, 1.14264357e-04, 1.13880514e-04, 1.13497960e-04,\n",
       "       1.13116692e-04, 1.12736704e-04, 1.12357993e-04, 1.11980554e-04,\n",
       "       1.11604383e-04, 1.11229476e-04, 1.10855828e-04, 1.10483435e-04,\n",
       "       1.10112293e-04, 1.09742398e-04, 1.09373745e-04, 1.09006331e-04,\n",
       "       1.08640151e-04, 1.08275201e-04, 1.07911477e-04, 1.07548975e-04,\n",
       "       1.07187691e-04, 1.06827620e-04, 1.06468759e-04, 1.06111104e-04,\n",
       "       1.05754650e-04, 1.05399393e-04, 1.05045330e-04, 1.04692456e-04,\n",
       "       1.04340767e-04, 1.03990260e-04, 1.03640930e-04, 1.03292774e-04,\n",
       "       1.02945788e-04, 1.02599967e-04, 1.02255307e-04, 1.01911806e-04,\n",
       "       1.01569458e-04, 1.01228261e-04, 1.00888209e-04, 1.00549300e-04,\n",
       "       1.00211530e-04, 9.98748936e-05, 9.95393885e-05, 9.92050104e-05,\n",
       "       9.88717556e-05, 9.85396203e-05, 9.82086007e-05, 9.78786931e-05,\n",
       "       9.75498938e-05, 9.72221989e-05, 9.68956049e-05, 9.65701080e-05,\n",
       "       9.62457045e-05, 9.59223908e-05, 9.56001631e-05, 9.52790179e-05,\n",
       "       9.49589515e-05, 9.46399603e-05, 9.43220407e-05, 9.40051890e-05,\n",
       "       9.36894018e-05, 9.33746753e-05, 9.30610061e-05, 9.27483906e-05,\n",
       "       9.24368252e-05, 9.21263064e-05, 9.18168308e-05, 9.15083948e-05,\n",
       "       9.12009949e-05, 9.08946276e-05, 9.05892895e-05, 9.02849771e-05,\n",
       "       8.99816869e-05, 8.96794156e-05, 8.93781597e-05, 8.90779158e-05,\n",
       "       8.87786805e-05, 8.84804504e-05, 8.81832221e-05, 8.78869923e-05,\n",
       "       8.75917576e-05, 8.72975147e-05, 8.70042602e-05, 8.67119908e-05,\n",
       "       8.64207032e-05, 8.61303942e-05, 8.58410603e-05, 8.55526984e-05,\n",
       "       8.52653052e-05, 8.49788774e-05, 8.46934118e-05, 8.44089052e-05,\n",
       "       8.41253542e-05, 8.38427558e-05, 8.35611067e-05, 8.32804038e-05,\n",
       "       8.30006438e-05, 8.27218236e-05, 8.24439400e-05, 8.21669899e-05,\n",
       "       8.18909701e-05, 8.16158776e-05, 8.13417091e-05, 8.10684617e-05,\n",
       "       8.07961322e-05, 8.05247175e-05, 8.02542145e-05, 7.99846203e-05,\n",
       "       7.97159316e-05, 7.94481456e-05, 7.91812591e-05, 7.89152692e-05,\n",
       "       7.86501728e-05, 7.83859669e-05, 7.81226486e-05, 7.78602148e-05,\n",
       "       7.75986625e-05, 7.73379890e-05, 7.70781910e-05, 7.68192658e-05,\n",
       "       7.65612104e-05, 7.63040219e-05, 7.60476973e-05, 7.57922338e-05,\n",
       "       7.55376285e-05, 7.52838784e-05, 7.50309808e-05, 7.47789327e-05,\n",
       "       7.45277313e-05, 7.42773737e-05, 7.40278572e-05, 7.37791789e-05,\n",
       "       7.35313359e-05, 7.32843255e-05, 7.30381448e-05, 7.27927912e-05,\n",
       "       7.25482617e-05, 7.23045537e-05, 7.20616644e-05, 7.18195910e-05,\n",
       "       7.15783307e-05, 7.13378810e-05, 7.10982389e-05, 7.08594019e-05,\n",
       "       7.06213672e-05, 7.03841321e-05, 7.01476940e-05, 6.99120501e-05,\n",
       "       6.96771978e-05, 6.94431344e-05, 6.92098573e-05, 6.89773638e-05,\n",
       "       6.87456513e-05, 6.85147173e-05, 6.82845590e-05, 6.80551738e-05,\n",
       "       6.78265592e-05, 6.75987126e-05, 6.73716314e-05, 6.71453130e-05,\n",
       "       6.69197548e-05, 6.66949544e-05, 6.64709091e-05, 6.62476165e-05,\n",
       "       6.60250739e-05, 6.58032790e-05, 6.55822291e-05, 6.53619217e-05,\n",
       "       6.51423544e-05, 6.49235247e-05, 6.47054302e-05, 6.44880682e-05,\n",
       "       6.42714364e-05, 6.40555324e-05, 6.38403536e-05, 6.36258976e-05,\n",
       "       6.34121621e-05, 6.31991446e-05, 6.29868426e-05, 6.27752538e-05,\n",
       "       6.25643758e-05, 6.23542062e-05, 6.21447426e-05, 6.19359827e-05,\n",
       "       6.17279240e-05, 6.15205642e-05, 6.13139011e-05, 6.11079321e-05,\n",
       "       6.09026551e-05, 6.06980676e-05, 6.04941674e-05, 6.02909521e-05,\n",
       "       6.00884195e-05, 5.98865673e-05, 5.96853931e-05, 5.94848948e-05,\n",
       "       5.92850699e-05, 5.90859163e-05, 5.88874317e-05, 5.86896139e-05,\n",
       "       5.84924606e-05, 5.82959696e-05, 5.81001387e-05, 5.79049655e-05,\n",
       "       5.77104481e-05, 5.75165840e-05, 5.73233713e-05, 5.71308075e-05,\n",
       "       5.69388906e-05, 5.67476185e-05, 5.65569888e-05, 5.63669995e-05,\n",
       "       5.61776485e-05, 5.59889335e-05, 5.58008525e-05, 5.56134033e-05,\n",
       "       5.54265837e-05, 5.52403918e-05, 5.50548253e-05, 5.48698822e-05,\n",
       "       5.46855603e-05, 5.45018577e-05, 5.43187721e-05, 5.41363016e-05,\n",
       "       5.39544440e-05, 5.37731973e-05, 5.35925595e-05, 5.34125285e-05,\n",
       "       5.32331023e-05, 5.30542788e-05, 5.28760560e-05, 5.26984319e-05,\n",
       "       5.25214045e-05, 5.23449718e-05, 5.21691318e-05, 5.19938824e-05,\n",
       "       5.18192218e-05, 5.16451479e-05, 5.14716587e-05, 5.12987524e-05,\n",
       "       5.11264268e-05, 5.09546802e-05, 5.07835105e-05, 5.06129158e-05,\n",
       "       5.04428942e-05, 5.02734437e-05, 5.01045625e-05, 4.99362485e-05,\n",
       "       4.97685000e-05, 4.96013150e-05, 4.94346916e-05, 4.92686279e-05,\n",
       "       4.91031221e-05, 4.89381723e-05, 4.87737765e-05, 4.86099330e-05,\n",
       "       4.84466399e-05, 4.82838954e-05, 4.81216975e-05, 4.79600445e-05,\n",
       "       4.77989346e-05, 4.76383658e-05, 4.74783365e-05, 4.73188447e-05,\n",
       "       4.71598887e-05, 4.70014667e-05, 4.68435768e-05, 4.66862174e-05,\n",
       "       4.65293865e-05, 4.63730825e-05, 4.62173036e-05, 4.60620479e-05,\n",
       "       4.59073138e-05, 4.57530995e-05, 4.55994032e-05, 4.54462233e-05,\n",
       "       4.52935579e-05, 4.51414053e-05, 4.49897639e-05, 4.48386319e-05,\n",
       "       4.46880075e-05, 4.45378892e-05, 4.43882751e-05, 4.42391636e-05,\n",
       "       4.40905531e-05, 4.39424417e-05, 4.37948279e-05, 4.36477100e-05,\n",
       "       4.35010862e-05, 4.33549551e-05, 4.32093148e-05, 4.30641637e-05,\n",
       "       4.29195003e-05, 4.27753228e-05, 4.26316296e-05, 4.24884192e-05,\n",
       "       4.23456898e-05, 4.22034399e-05, 4.20616678e-05, 4.19203720e-05,\n",
       "       4.17795508e-05, 4.16392027e-05, 4.14993261e-05, 4.13599193e-05,\n",
       "       4.12209809e-05, 4.10825091e-05, 4.09445026e-05, 4.08069596e-05,\n",
       "       4.06698787e-05, 4.05332582e-05, 4.03970967e-05, 4.02613926e-05,\n",
       "       4.01261444e-05, 3.99913505e-05, 3.98570094e-05, 3.97231196e-05,\n",
       "       3.95896796e-05, 3.94566878e-05, 3.93241428e-05, 3.91920430e-05,\n",
       "       3.90603870e-05, 3.89291732e-05, 3.87984003e-05, 3.86680666e-05,\n",
       "       3.85381708e-05, 3.84087113e-05, 3.82796867e-05, 3.81510955e-05,\n",
       "       3.80229363e-05, 3.78952076e-05, 3.77679080e-05, 3.76410360e-05,\n",
       "       3.75145902e-05, 3.73885692e-05, 3.72629715e-05, 3.71377957e-05,\n",
       "       3.70130404e-05, 3.68887043e-05, 3.67647857e-05, 3.66412835e-05,\n",
       "       3.65181961e-05, 3.63955222e-05, 3.62732605e-05, 3.61514094e-05,\n",
       "       3.60299676e-05, 3.59089338e-05, 3.57883066e-05, 3.56680846e-05,\n",
       "       3.55482665e-05, 3.54288508e-05, 3.53098363e-05, 3.51912216e-05,\n",
       "       3.50730054e-05, 3.49551863e-05, 3.48377629e-05, 3.47207340e-05,\n",
       "       3.46040983e-05, 3.44878543e-05, 3.43720009e-05, 3.42565366e-05,\n",
       "       3.41414602e-05, 3.40267704e-05, 3.39124658e-05, 3.37985453e-05,\n",
       "       3.36850074e-05, 3.35718509e-05, 3.34590745e-05, 3.33466770e-05,\n",
       "       3.32346571e-05, 3.31230134e-05, 3.30117448e-05, 3.29008500e-05,\n",
       "       3.27903277e-05, 3.26801767e-05, 3.25703957e-05, 3.24609834e-05,\n",
       "       3.23519388e-05, 3.22432604e-05, 3.21349471e-05, 3.20269977e-05,\n",
       "       3.19194109e-05, 3.18121855e-05, 3.17053203e-05, 3.15988140e-05,\n",
       "       3.14926656e-05, 3.13868738e-05, 3.12814373e-05, 3.11763550e-05,\n",
       "       3.10716257e-05, 3.09672483e-05, 3.08632214e-05, 3.07595440e-05,\n",
       "       3.06562149e-05, 3.05532329e-05, 3.04505968e-05, 3.03483056e-05,\n",
       "       3.02463579e-05, 3.01447527e-05, 3.00434889e-05, 2.99425652e-05,\n",
       "       2.98419805e-05, 2.97417337e-05, 2.96418237e-05, 2.95422493e-05,\n",
       "       2.94430094e-05, 2.93441028e-05, 2.92455285e-05, 2.91472854e-05,\n",
       "       2.90493723e-05, 2.89517881e-05, 2.88545317e-05, 2.87576020e-05,\n",
       "       2.86609979e-05, 2.85647183e-05, 2.84687622e-05, 2.83731284e-05,\n",
       "       2.82778159e-05, 2.81828235e-05, 2.80881502e-05, 2.79937950e-05,\n",
       "       2.78997568e-05, 2.78060344e-05, 2.77126269e-05, 2.76195331e-05,\n",
       "       2.75267521e-05, 2.74342828e-05, 2.73421241e-05, 2.72502749e-05,\n",
       "       2.71587343e-05, 2.70675013e-05, 2.69765747e-05, 2.68859535e-05,\n",
       "       2.67956368e-05, 2.67056234e-05, 2.66159125e-05, 2.65265029e-05])"
      ]
     },
     "execution_count": 9,
     "metadata": {},
     "output_type": "execute_result"
    }
   ],
   "source": [
    "st.expon.pdf(days, scale=1. / rate)"
   ]
  },
  {
   "cell_type": "code",
   "execution_count": 10,
   "metadata": {},
   "outputs": [
    {
     "data": {
      "text/plain": [
       "Text(0, 0.5, 'frequency of active vehicle')"
      ]
     },
     "execution_count": 10,
     "metadata": {},
     "output_type": "execute_result"
    },
    {
     "data": {
      "image/png": "[encoded data removed]",
      "text/plain": [
       "<Figure size 432x288 with 1 Axes>"
      ]
     },
     "metadata": {
      "needs_background": "light"
     },
     "output_type": "display_data"
    }
   ],
   "source": [
    "nbins = 30\n",
    "fig, ax = plt.subplots(1, 1, figsize=(6, 4))\n",
    "ax.hist(df[\"active_vehicles\"], nbins)\n",
    "ax.plot(days, dist_exp * len(df[\"active_vehicles\"]) * smax / nbins,\n",
    "        '-r', lw=3)\n",
    "ax.set_xlabel(\"active vehicles\")\n",
    "ax.set_ylabel(\"frequency of active vehicle\")"
   ]
  },
  {
   "cell_type": "code",
   "execution_count": 11,
   "metadata": {},
   "outputs": [
    {
     "data": {
      "text/plain": [
       "(112.0, 1195.4350282485875)"
      ]
     },
     "execution_count": 11,
     "metadata": {},
     "output_type": "execute_result"
    }
   ],
   "source": [
    "dist = st.expon\n",
    "args = dist.fit(df[\"active_vehicles\"])\n",
    "args"
   ]
  },
  {
   "cell_type": "code",
   "execution_count": 12,
   "metadata": {},
   "outputs": [
    {
     "data": {
      "text/plain": [
       "KstestResult(statistic=0.1279541479476194, pvalue=1.6381896881967153e-05)"
      ]
     },
     "execution_count": 12,
     "metadata": {},
     "output_type": "execute_result"
    }
   ],
   "source": [
    "st.kstest(df[\"active_vehicles\"], dist.cdf, args)"
   ]
  },
  {
   "cell_type": "code",
   "execution_count": 13,
   "metadata": {},
   "outputs": [
    {
     "data": {
      "text/plain": [
       "KstestResult(statistic=0.576695457972642, pvalue=4.0339901299531948e-112)"
      ]
     },
     "execution_count": 13,
     "metadata": {},
     "output_type": "execute_result"
    }
   ],
   "source": [
    "dist = st.fatiguelife\n",
    "args = dist.fit(df[\"active_vehicles\"])\n",
    "st.kstest(df[\"active_vehicles\"], dist.cdf, args)"
   ]
  },
  {
   "cell_type": "code",
   "execution_count": 14,
   "metadata": {},
   "outputs": [
    {
     "data": {
      "text/plain": [
       "<matplotlib.legend.Legend at 0x2904622ad00>"
      ]
     },
     "execution_count": 14,
     "metadata": {},
     "output_type": "execute_result"
    },
    {
     "data": {
      "image/png": "[encoded data removed]",
      "text/plain": [
       "<Figure size 432x288 with 1 Axes>"
      ]
     },
     "metadata": {
      "needs_background": "light"
     },
     "output_type": "display_data"
    }
   ],
   "source": [
    "dist_fl = dist.pdf(days, *args)\n",
    "nbins = 100\n",
    "fig, ax = plt.subplots(1, 1, figsize=(6, 4))\n",
    "ax.hist(df[\"active_vehicles\"], nbins)\n",
    "ax.plot(days, dist_exp * len(df[\"active_vehicles\"]) * smax / nbins,\n",
    "        '-r', lw=3, label='exp')\n",
    "ax.plot(days, dist_fl * len(df[\"active_vehicles\"]) * smax / nbins,\n",
    "        '--g', lw=3, label='BS')\n",
    "ax.set_xlabel(\"active vehicle\")\n",
    "ax.set_ylabel(\"frequency of active vehicle\")\n",
    "ax.legend()"
   ]
  },
  {
   "cell_type": "code",
   "execution_count": null,
   "metadata": {},
   "outputs": [],
   "source": []
  }
 ],
 "metadata": {
  "kernelspec": {
   "display_name": "Python 3",
   "language": "python",
   "name": "python3"
  },
  "language_info": {
   "codemirror_mode": {
    "name": "ipython",
    "version": 3
   },
   "file_extension": ".py",
   "mimetype": "text/x-python",
   "name": "python",
   "nbconvert_exporter": "python",
   "pygments_lexer": "ipython3",
   "version": "3.7.6"
  }
 },
 "nbformat": 4,
 "nbformat_minor": 4
}
