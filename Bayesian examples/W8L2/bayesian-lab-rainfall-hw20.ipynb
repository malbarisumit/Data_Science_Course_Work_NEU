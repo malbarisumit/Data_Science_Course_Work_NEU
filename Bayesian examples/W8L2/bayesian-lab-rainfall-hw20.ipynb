{
 "cells": [
  {
   "cell_type": "markdown",
   "metadata": {},
   "source": [
    "<div style=\"text-align: right\">INFO 6105 Data Science Eng Methods and Tools, Lecture 8 Day 2</div>\n",
    "<div style=\"text-align: right\">Dino Konstantopoulos, 29 October 2020, with material from Philip Lewis</div>\n",
    "\n",
    "# Homework: Bayesian Modeling of Rainfall with the $\\gamma$ distribution\n",
    "\n",
    "Let's practice what we learned. Let's build a **Bayesian model** for a dataset, so we can extract precise statistics from the model itself, rather than the data. \n",
    "\n",
    "You may use `PyMC3` or `Sampyl` for this homework.\n",
    "\n",
    "### How to build a Bayesian model?\n",
    "* Look at the histogram of the data\n",
    "* Pick an analytic probability densiy function matching the shape of the histogram\n",
    "* Model its parameters (priors) as probability density functions\n",
    "* Try different shape and values of these parameters (these are called *hyperparameters*)\n",
    "* Run a probabilistic program to give us the posterior pdfs\n",
    "* Plot the posterior means on top of the histogram and check if we get a good match!\n",
    "\n",
    "We will model rainfall data per calendar month for the city of Nashville, Tennessee. Rainfall data is usually modelled with  the $\\gamma$ distribution. \n",
    "\n",
    "<br />\n",
    "<center>\n",
    "<img src=\"ipynb.images/rainfall.jpeg\" width=400 />\n",
    "</center>"
   ]
  },
  {
   "cell_type": "code",
   "execution_count": null,
   "metadata": {},
   "outputs": [],
   "source": [
    "%matplotlib inline\n",
    "import numpy as np\n",
    "import pandas as pd\n",
    "import matplotlib.pylab as plt\n",
    "import seaborn as sns\n",
    "sns.set_context('notebook')\n",
    "\n",
    "RANDOM_SEED = 20090425"
   ]
  },
  {
   "cell_type": "markdown",
   "metadata": {},
   "source": [
    "## 1. The $\\gamma$ distribution\n",
    "\n",
    "This is the [gamma distribution](https://en.wikipedia.org/wiki/Gamma_distribution):\n",
    "\n",
    "<div style=\"font-size: 120%;\">  \n",
    "$$\\gamma(x) = \\frac{\\beta^\\alpha x^{\\alpha -1} e^{- \\beta x}}{\\Gamma (\\alpha)}$$\n",
    "</div>\n",
    "\n",
    "How many parameters in the gamma function?\n",
    "\n",
    "What is the $\\Gamma()$ function? It [interpolates](https://en.wikipedia.org/wiki/Gamma_function) the factorial function to non-integer values!\n",
    "\n",
    "This is what the $\\gamma$ function for $x > 0$ and $\\alpha, \\beta > 0$ looks like:\n",
    "\n",
    "</br >\n",
    "<center>\n",
    "<img src=\"https://upload.wikimedia.org/wikipedia/commons/e/e6/Gamma_distribution_pdf.svg\" width=\"500\" />\n",
    "Gamma distribution\n",
    "</center>"
   ]
  },
  {
   "cell_type": "markdown",
   "metadata": {},
   "source": [
    "## 2. Dataset: Nashville Precipitation\n",
    "\n",
    "The dataset `nashville_precip.txt` contains NOAA precipitation data for Nashville measured since 1871. Download it from blackboard and put it in the right folder (`C:/Users/<username>/data`). \n",
    "    \n",
    "The $\\gamma$ distribution happens to be a good fit to aggregated rainfall data, and will be our candidate model in this case. \n",
    "\n",
    "Let's peek at the data:"
   ]
  },
  {
   "cell_type": "code",
   "execution_count": null,
   "metadata": {},
   "outputs": [],
   "source": [
    "precip = pd.read_table(\"data/nashville_precip.txt\", index_col=0, na_values='NA', delim_whitespace=True)\n",
    "precip.head()"
   ]
  },
  {
   "cell_type": "markdown",
   "metadata": {},
   "source": [
    "Let's do some data exploration.."
   ]
  },
  {
   "cell_type": "code",
   "execution_count": null,
   "metadata": {},
   "outputs": [],
   "source": [
    "_ = precip.hist(sharex=True, sharey=True, grid=False)\n",
    "plt.tight_layout()"
   ]
  },
  {
   "cell_type": "markdown",
   "metadata": {},
   "source": [
    "The first step is recognizing what sort of distribution to fit our data to. A couple of observations:\n",
    "\n",
    "1. The data is *skewed*, with a longer tail to the right than to the left\n",
    "2. The data is *positive-valued*, since they are measuring rainfall\n",
    "3. The data is *continuous*\n",
    "\n",
    "There are a few possible choices, but a good option is the [gamma distribution](https://en.wikipedia.org/wiki/Gamma_distribution). If $x$ measures rainfall:\n",
    "\n",
    "<div style=\"font-size: 120%;\">  \n",
    "$$x \\sim \\gamma(\\alpha, \\beta) = \\frac{\\beta^{\\alpha}x^{\\alpha-1}e^{-\\beta x}}{\\Gamma(\\alpha)}$$\n",
    "</div>\n",
    "\n",
    "The gamma distribution is often used to model the size of [insurance claims](https://www.crcpress.com/Statistical-and-Probabilistic-Methods-in-Actuarial-Science/Boland/p/book/9781584886952) and [rainfalls](http://journals.tubitak.gov.tr/engineering/issues/muh-00-24-6/muh-24-6-7-9909-13.pdf). This means that aggregate insurance claims and the amount of rainfall accumulated in a reservoir are usually well modelled by a gamma process.\n"
   ]
  },
  {
   "cell_type": "markdown",
   "metadata": {},
   "source": [
    "## 3. Data Cleansing \n",
    "\n",
    "Wait a sec.. There's something wrong with our data.. if you open it in a text editor, you will find a value of NA for October of 1963 (take a look!). So we have to do some data cleansing first (remember the first step in data science from Lecture 1?). Given what we are trying to do, it is sensible to fill in the missing value with the **average of the available values** (another option would have been the average of the months of September and November 1963).\n"
   ]
  },
  {
   "cell_type": "code",
   "execution_count": null,
   "metadata": {},
   "outputs": [],
   "source": [
    "precip.fillna(value={'Oct': precip.Oct.mean()}, inplace=True)\n",
    "precip"
   ]
  },
  {
   "cell_type": "markdown",
   "metadata": {},
   "source": [
    "## 4. Exploration\n",
    "\n",
    "Let's calculate the **means** and **variances** of precipitation, month by month:"
   ]
  },
  {
   "cell_type": "code",
   "execution_count": null,
   "metadata": {},
   "outputs": [],
   "source": [
    "precip_mean = precip.mean()\n",
    "precip_mean"
   ]
  },
  {
   "cell_type": "code",
   "execution_count": null,
   "metadata": {},
   "outputs": [],
   "source": [
    "precip_var = precip.var()\n",
    "precip_var"
   ]
  },
  {
   "cell_type": "code",
   "execution_count": null,
   "metadata": {},
   "outputs": [],
   "source": [
    "precip.Apr"
   ]
  },
  {
   "cell_type": "markdown",
   "metadata": {},
   "source": [
    "Ok, now comes the most complicated part of Bayesian estimation: Let's pick pdfs for the $\\gamma$ distribution's parameters $\\alpha$ and $\\beta$. We're taking numbers, and modeling them as distributions, so that we can take a probabilistic program to figure out the best values for these parameters. If you understand this, then you understand the most complicated part of Bayesian estimation theory!\n",
    "\n",
    "Let's firt try to model rainfall for the month of April, only.\n"
   ]
  },
  {
   "cell_type": "code",
   "execution_count": null,
   "metadata": {},
   "outputs": [],
   "source": [
    "precip.Apr.hist(normed=True, bins=30)"
   ]
  },
  {
   "cell_type": "markdown",
   "metadata": {},
   "source": [
    "### Exercise 1:\n",
    "\n",
    "Start with the `Uniform` distribution. Rainfall for the month of April seems to go from 0 to 12 units, so let's pick the Uniform distribution to model the $\\alpha$ parameter for our gamma function. The Uniform distribution also needs start and end parameters. We pick them to be wide enough to match the data. Then we model april rainfall with the Gamme distribution.\n",
    "\n",
    "This is the modeling part:\n",
    "\n",
    "```python\n",
    "from pymc3 import Model, Uniform\n",
    "\n",
    "with Model() as rainfall_model:\n",
    "    ualpha = Uniform('ualpha', lower=0, upper=15)\n",
    "    ubeta = Uniform('ubeta', lower=0, upper=15)\n",
    "    \n",
    "with rainfall_model:\n",
    "    april_like = Gamma('april_like', alpha=ualpha, beta=ubeta, observed=precip.Apr)\n",
    "```\n",
    "\n",
    "This is the simulation part (the probabilistic program that yields the best values for parameters $\\alpha$ and $\\beta$). Be patient:\n",
    "```python\n",
    "from pymc3 import fit\n",
    "\n",
    "with rainfall_model: \n",
    "    rainfall_trace = fit(random_seed=RANDOM_SEED).sample(1000)\n",
    "```\n",
    "\n",
    "And this is how we plot our posterior pdf for rainfall (our model for april):\n",
    "```python\n",
    "from pymc3 import plot_posterior\n",
    "\n",
    "plot_posterior(rainfall_trace[100:], \n",
    "                varnames=['ualpha', 'ubeta'],\n",
    "                color='#87ceeb');\n",
    "```\n",
    "\n",
    "Then we check if our posterior model matches our histogram. If it does, we say \"we found a good model for April!\"!\n",
    "\n",
    "We can use the `gamma.pdf` function in `scipy.stats.distributions` to plot the distributions implied by the calculated alphas and betas. \n",
    "\n",
    "```python\n",
    "from scipy.stats.distributions import gamma\n",
    "\n",
    "ualpha_posterior_mean = ...\n",
    "ubeta_posterior_mean = ...\n",
    "\n",
    "precip.Apr.hist(normed=True, bins=20)\n",
    "plt.plot(np.linspace(0, 25), gamma.pdf(np.linspace(0, 25), ualpha_posterior_mean, ubeta_posterior_mean))\n",
    "```"
   ]
  },
  {
   "cell_type": "code",
   "execution_count": null,
   "metadata": {},
   "outputs": [],
   "source": []
  },
  {
   "cell_type": "code",
   "execution_count": null,
   "metadata": {},
   "outputs": [],
   "source": []
  },
  {
   "cell_type": "code",
   "execution_count": null,
   "metadata": {},
   "outputs": [],
   "source": []
  },
  {
   "cell_type": "code",
   "execution_count": null,
   "metadata": {},
   "outputs": [],
   "source": []
  },
  {
   "cell_type": "markdown",
   "metadata": {},
   "source": [
    "Are my hyperparameters not the right choice? Try different ones and improve on my model for extra credit."
   ]
  },
  {
   "cell_type": "markdown",
   "metadata": {},
   "source": [
    "### Exercise 2:\n",
    "\n",
    "Did the Uniform distribution work out well in your modeling exercise above? Well, it didn't for professor!\n",
    "\n",
    "Let's try the `Normal` distribution instead. Please make sure to introduce **new** variables for your priors (xxxalpha, xxxbeta), as well as your simulation trace (xxxapril_like). Replace xxx with whatever you want.\n",
    "\n",
    "What's the right support for the normal (the right mean and standard deviation)? Pick a mean that centers the gaussian around the peak of the month, and a standard deviation that allows the gaussian to cover all the data."
   ]
  },
  {
   "cell_type": "markdown",
   "metadata": {},
   "source": [
    "### Exercise 3: \n",
    "\n",
    "Let's try to accelerate things and try the exponential distribution, instead. Find the right number $x$ so that the distribution covers the range of possible precipitation values.  In other words, find the right value $y$ such that `Exponential.dist(1/3).random(size=10000)` covers from 0 to 12 for the month of April. Try different values out by plotting with:\n",
    "\n",
    "```python\n",
    "sns.distplot(Exponential.dist(1/3).random(size=10000), kde=False);\n",
    "```\n"
   ]
  },
  {
   "cell_type": "markdown",
   "metadata": {},
   "source": [
    "### Exercise 4:\n",
    "\n",
    "Do the month of January."
   ]
  },
  {
   "cell_type": "markdown",
   "metadata": {},
   "source": [
    "### (Deep thought) Exercise 5:\n",
    "\n",
    "How would you model *all* months together (*one* model, *all* months)? Is that even possible?"
   ]
  }
 ],
 "metadata": {
  "kernelspec": {
   "display_name": "Python 3",
   "language": "python",
   "name": "python3"
  },
  "language_info": {
   "codemirror_mode": {
    "name": "ipython",
    "version": 3
   },
   "file_extension": ".py",
   "mimetype": "text/x-python",
   "name": "python",
   "nbconvert_exporter": "python",
   "pygments_lexer": "ipython3",
   "version": "3.6.9"
  }
 },
 "nbformat": 4,
 "nbformat_minor": 2
}
